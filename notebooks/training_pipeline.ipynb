{
 "cells": [
  {
   "cell_type": "markdown",
   "metadata": {
    "vscode": {
     "languageId": "plaintext"
    }
   },
   "source": [
    "# Training Pipeline\n",
    "\n",
    "In this notebook, we will do the following tasks\n",
    "\n",
    "1. Get the data from the feature store\n",
    "2. Preprocess the data\n",
    "3. Train the model\n",
    "4. Evaluate the model\n",
    "5. Register the model to model registry\n"
   ]
  },
  {
   "cell_type": "code",
   "execution_count": 1,
   "metadata": {},
   "outputs": [
    {
     "name": "stderr",
     "output_type": "stream",
     "text": [
      "d:\\Documents\\Projects\\hourly_amazon_stock_prediction\\.venv\\Lib\\site-packages\\tqdm\\auto.py:21: TqdmWarning: IProgress not found. Please update jupyter and ipywidgets. See https://ipywidgets.readthedocs.io/en/stable/user_install.html\n",
      "  from .autonotebook import tqdm as notebook_tqdm\n"
     ]
    }
   ],
   "source": [
    "# Import the required libraries\n",
    "import os\n",
    "import hopsworks\n",
    "import numpy as np\n",
    "import pandas as pd\n",
    "\n",
    "from dotenv import load_dotenv\n",
    "from xgboost import XGBRegressor\n",
    "\n",
    "# Load the .env file \n",
    "load_dotenv()\n",
    "\n",
    "# Get the envrioment variables\n",
    "hopsworks_api_key = os.getenv(\"HOPSWORKS_API_KEY\")\n",
    " "
   ]
  },
  {
   "cell_type": "code",
   "execution_count": 2,
   "metadata": {},
   "outputs": [
    {
     "name": "stdout",
     "output_type": "stream",
     "text": [
      "2025-03-07 18:52:59,251 INFO: Initializing external client\n",
      "2025-03-07 18:52:59,251 INFO: Base URL: https://c.app.hopsworks.ai:443\n",
      "2025-03-07 18:53:03,406 INFO: Python Engine initialized.\n",
      "\n",
      "Logged in to project, explore it here https://c.app.hopsworks.ai:443/p/1212597\n"
     ]
    }
   ],
   "source": [
    "# login hopsworks and get the features group\n",
    "project = hopsworks.login(api_key_value=str(hopsworks_api_key))\n",
    "fs = project.get_feature_store()"
   ]
  },
  {
   "cell_type": "markdown",
   "metadata": {},
   "source": [
    "## Feature View\n"
   ]
  },
  {
   "cell_type": "markdown",
   "metadata": {},
   "source": [
    "### Feature Selection\n"
   ]
  },
  {
   "cell_type": "code",
   "execution_count": 3,
   "metadata": {},
   "outputs": [],
   "source": [
    "amazon_fg = fs.get_feature_group(\"amazon_stock_prices\", version=1)"
   ]
  },
  {
   "cell_type": "code",
   "execution_count": 4,
   "metadata": {},
   "outputs": [
    {
     "name": "stdout",
     "output_type": "stream",
     "text": [
      "Finished: Reading data from Hopsworks, using Hopsworks Feature Query Service (6.34s) \n"
     ]
    },
    {
     "data": {
      "text/html": [
       "<div>\n",
       "<style scoped>\n",
       "    .dataframe tbody tr th:only-of-type {\n",
       "        vertical-align: middle;\n",
       "    }\n",
       "\n",
       "    .dataframe tbody tr th {\n",
       "        vertical-align: top;\n",
       "    }\n",
       "\n",
       "    .dataframe thead th {\n",
       "        text-align: right;\n",
       "    }\n",
       "</style>\n",
       "<table border=\"1\" class=\"dataframe\">\n",
       "  <thead>\n",
       "    <tr style=\"text-align: right;\">\n",
       "      <th></th>\n",
       "      <th>datetime</th>\n",
       "      <th>open</th>\n",
       "      <th>high</th>\n",
       "      <th>close</th>\n",
       "      <th>low</th>\n",
       "      <th>volume</th>\n",
       "      <th>rsi</th>\n",
       "      <th>cci</th>\n",
       "    </tr>\n",
       "  </thead>\n",
       "  <tbody>\n",
       "    <tr>\n",
       "      <th>0</th>\n",
       "      <td>2023-05-05 18:30:00+00:00</td>\n",
       "      <td>105.309998</td>\n",
       "      <td>105.750000</td>\n",
       "      <td>105.489998</td>\n",
       "      <td>105.300003</td>\n",
       "      <td>6771547</td>\n",
       "      <td>58.103335</td>\n",
       "      <td>131.610247</td>\n",
       "    </tr>\n",
       "    <tr>\n",
       "      <th>1</th>\n",
       "      <td>2024-12-10 20:30:00+00:00</td>\n",
       "      <td>224.509995</td>\n",
       "      <td>225.419907</td>\n",
       "      <td>225.149994</td>\n",
       "      <td>224.200195</td>\n",
       "      <td>3000920</td>\n",
       "      <td>53.145605</td>\n",
       "      <td>-89.708144</td>\n",
       "    </tr>\n",
       "    <tr>\n",
       "      <th>2</th>\n",
       "      <td>2023-11-22 20:30:00+00:00</td>\n",
       "      <td>146.729996</td>\n",
       "      <td>146.860001</td>\n",
       "      <td>146.720001</td>\n",
       "      <td>146.389999</td>\n",
       "      <td>4478865</td>\n",
       "      <td>60.736397</td>\n",
       "      <td>59.546794</td>\n",
       "    </tr>\n",
       "    <tr>\n",
       "      <th>3</th>\n",
       "      <td>2024-10-10 14:30:00+00:00</td>\n",
       "      <td>186.720001</td>\n",
       "      <td>186.850006</td>\n",
       "      <td>186.211304</td>\n",
       "      <td>185.830002</td>\n",
       "      <td>2915806</td>\n",
       "      <td>62.999684</td>\n",
       "      <td>122.281284</td>\n",
       "    </tr>\n",
       "    <tr>\n",
       "      <th>4</th>\n",
       "      <td>2023-11-22 17:30:00+00:00</td>\n",
       "      <td>147.007996</td>\n",
       "      <td>147.195007</td>\n",
       "      <td>147.020004</td>\n",
       "      <td>146.782501</td>\n",
       "      <td>3321822</td>\n",
       "      <td>62.992331</td>\n",
       "      <td>94.186858</td>\n",
       "    </tr>\n",
       "  </tbody>\n",
       "</table>\n",
       "</div>"
      ],
      "text/plain": [
       "                   datetime        open        high       close         low  \\\n",
       "0 2023-05-05 18:30:00+00:00  105.309998  105.750000  105.489998  105.300003   \n",
       "1 2024-12-10 20:30:00+00:00  224.509995  225.419907  225.149994  224.200195   \n",
       "2 2023-11-22 20:30:00+00:00  146.729996  146.860001  146.720001  146.389999   \n",
       "3 2024-10-10 14:30:00+00:00  186.720001  186.850006  186.211304  185.830002   \n",
       "4 2023-11-22 17:30:00+00:00  147.007996  147.195007  147.020004  146.782501   \n",
       "\n",
       "    volume        rsi         cci  \n",
       "0  6771547  58.103335  131.610247  \n",
       "1  3000920  53.145605  -89.708144  \n",
       "2  4478865  60.736397   59.546794  \n",
       "3  2915806  62.999684  122.281284  \n",
       "4  3321822  62.992331   94.186858  "
      ]
     },
     "execution_count": 4,
     "metadata": {},
     "output_type": "execute_result"
    }
   ],
   "source": [
    "# Select features for training data\n",
    "selected_features = amazon_fg.select([\"datetime\", \"open\", \"high\", \"close\", \"low\", \"volume\", \"rsi\", \"cci\"])\n",
    "\n",
    "# View the first 5 rows of selected features\n",
    "selected_features.show(5)"
   ]
  },
  {
   "cell_type": "markdown",
   "metadata": {},
   "source": [
    "### Feature View Creation\n"
   ]
  },
  {
   "cell_type": "code",
   "execution_count": 5,
   "metadata": {},
   "outputs": [],
   "source": [
    "# Get or create feature view\n",
    "amazon_fv = fs.get_or_create_feature_view(\n",
    "    name= \"amazon_fv\", \n",
    "    version=1,\n",
    "    query = selected_features,\n",
    ")"
   ]
  },
  {
   "cell_type": "markdown",
   "metadata": {},
   "source": [
    "## Training Dataset Creation\n"
   ]
  },
  {
   "cell_type": "code",
   "execution_count": 6,
   "metadata": {},
   "outputs": [
    {
     "name": "stdout",
     "output_type": "stream",
     "text": [
      "Finished: Reading data from Hopsworks, using Hopsworks Feature Query Service (2.56s) \n"
     ]
    }
   ],
   "source": [
    "# Get the data to calculate date ranges\n",
    "df = amazon_fg.read()"
   ]
  },
  {
   "cell_type": "code",
   "execution_count": 7,
   "metadata": {},
   "outputs": [
    {
     "data": {
      "text/html": [
       "<div>\n",
       "<style scoped>\n",
       "    .dataframe tbody tr th:only-of-type {\n",
       "        vertical-align: middle;\n",
       "    }\n",
       "\n",
       "    .dataframe tbody tr th {\n",
       "        vertical-align: top;\n",
       "    }\n",
       "\n",
       "    .dataframe thead th {\n",
       "        text-align: right;\n",
       "    }\n",
       "</style>\n",
       "<table border=\"1\" class=\"dataframe\">\n",
       "  <thead>\n",
       "    <tr style=\"text-align: right;\">\n",
       "      <th></th>\n",
       "      <th>close</th>\n",
       "      <th>high</th>\n",
       "      <th>low</th>\n",
       "      <th>open</th>\n",
       "      <th>volume</th>\n",
       "      <th>id</th>\n",
       "      <th>rsi</th>\n",
       "      <th>cci</th>\n",
       "    </tr>\n",
       "    <tr>\n",
       "      <th>datetime</th>\n",
       "      <th></th>\n",
       "      <th></th>\n",
       "      <th></th>\n",
       "      <th></th>\n",
       "      <th></th>\n",
       "      <th></th>\n",
       "      <th></th>\n",
       "      <th></th>\n",
       "    </tr>\n",
       "  </thead>\n",
       "  <tbody>\n",
       "    <tr>\n",
       "      <th>2023-03-08 19:30:00+00:00</th>\n",
       "      <td>93.464996</td>\n",
       "      <td>93.650002</td>\n",
       "      <td>93.220001</td>\n",
       "      <td>93.485001</td>\n",
       "      <td>4095763</td>\n",
       "      <td>2023-03-08 19:30:00</td>\n",
       "      <td>40.642694</td>\n",
       "      <td>-57.933234</td>\n",
       "    </tr>\n",
       "    <tr>\n",
       "      <th>2023-03-08 20:30:00+00:00</th>\n",
       "      <td>93.919998</td>\n",
       "      <td>94.029999</td>\n",
       "      <td>93.404999</td>\n",
       "      <td>93.464996</td>\n",
       "      <td>5037603</td>\n",
       "      <td>2023-03-08 20:30:00</td>\n",
       "      <td>46.623740</td>\n",
       "      <td>-25.644676</td>\n",
       "    </tr>\n",
       "    <tr>\n",
       "      <th>2023-03-09 14:30:00+00:00</th>\n",
       "      <td>95.720001</td>\n",
       "      <td>95.800003</td>\n",
       "      <td>93.559998</td>\n",
       "      <td>93.680000</td>\n",
       "      <td>12940669</td>\n",
       "      <td>2023-03-09 14:30:00</td>\n",
       "      <td>62.655323</td>\n",
       "      <td>99.133179</td>\n",
       "    </tr>\n",
       "    <tr>\n",
       "      <th>2023-03-09 15:30:00+00:00</th>\n",
       "      <td>95.180901</td>\n",
       "      <td>96.160004</td>\n",
       "      <td>95.139999</td>\n",
       "      <td>95.720001</td>\n",
       "      <td>7181789</td>\n",
       "      <td>2023-03-09 15:30:00</td>\n",
       "      <td>57.121687</td>\n",
       "      <td>162.291820</td>\n",
       "    </tr>\n",
       "    <tr>\n",
       "      <th>2023-03-09 16:30:00+00:00</th>\n",
       "      <td>95.366699</td>\n",
       "      <td>95.824997</td>\n",
       "      <td>95.099998</td>\n",
       "      <td>95.190002</td>\n",
       "      <td>5973566</td>\n",
       "      <td>2023-03-09 16:30:00</td>\n",
       "      <td>58.482630</td>\n",
       "      <td>159.562871</td>\n",
       "    </tr>\n",
       "  </tbody>\n",
       "</table>\n",
       "</div>"
      ],
      "text/plain": [
       "                               close       high        low       open  \\\n",
       "datetime                                                                \n",
       "2023-03-08 19:30:00+00:00  93.464996  93.650002  93.220001  93.485001   \n",
       "2023-03-08 20:30:00+00:00  93.919998  94.029999  93.404999  93.464996   \n",
       "2023-03-09 14:30:00+00:00  95.720001  95.800003  93.559998  93.680000   \n",
       "2023-03-09 15:30:00+00:00  95.180901  96.160004  95.139999  95.720001   \n",
       "2023-03-09 16:30:00+00:00  95.366699  95.824997  95.099998  95.190002   \n",
       "\n",
       "                             volume                   id        rsi  \\\n",
       "datetime                                                              \n",
       "2023-03-08 19:30:00+00:00   4095763  2023-03-08 19:30:00  40.642694   \n",
       "2023-03-08 20:30:00+00:00   5037603  2023-03-08 20:30:00  46.623740   \n",
       "2023-03-09 14:30:00+00:00  12940669  2023-03-09 14:30:00  62.655323   \n",
       "2023-03-09 15:30:00+00:00   7181789  2023-03-09 15:30:00  57.121687   \n",
       "2023-03-09 16:30:00+00:00   5973566  2023-03-09 16:30:00  58.482630   \n",
       "\n",
       "                                  cci  \n",
       "datetime                               \n",
       "2023-03-08 19:30:00+00:00  -57.933234  \n",
       "2023-03-08 20:30:00+00:00  -25.644676  \n",
       "2023-03-09 14:30:00+00:00   99.133179  \n",
       "2023-03-09 15:30:00+00:00  162.291820  \n",
       "2023-03-09 16:30:00+00:00  159.562871  "
      ]
     },
     "execution_count": 7,
     "metadata": {},
     "output_type": "execute_result"
    }
   ],
   "source": [
    "# Sort the values according to the date\n",
    "df = df.sort_values(\"datetime\").set_index(\"datetime\")\n",
    "\n",
    "df.head()"
   ]
  },
  {
   "cell_type": "code",
   "execution_count": 8,
   "metadata": {},
   "outputs": [],
   "source": [
    "def get_fractional_dates(column: pd.Series):\n",
    "    total_length = len(column)\n",
    "    \n",
    "    idx_0 = 0  # First index\n",
    "    idx_70 = int(0.7 * total_length)\n",
    "    idx_85 = int(0.85 * total_length)\n",
    "    idx_last = total_length - 1  # Last index\n",
    "\n",
    "    def extract_date(idx):\n",
    "        return str(column.index[idx]).split(\" \")[0]  # Convert to string and get date part\n",
    "\n",
    "    train_start = extract_date(idx_0)\n",
    "    val_start = extract_date(idx_70)\n",
    "    test_start = extract_date(idx_85)\n",
    "\n",
    "    train_end = extract_date(idx_70 - 1)  # One day before val_start\n",
    "    val_end = extract_date(idx_85 - 1)  # One day before test_start\n",
    "    test_end = extract_date(idx_last)  # Last available date\n",
    "\n",
    "    return train_start, train_end, val_start, val_end, test_start, test_end"
   ]
  },
  {
   "cell_type": "code",
   "execution_count": 9,
   "metadata": {},
   "outputs": [
    {
     "data": {
      "text/plain": [
       "('2023-03-08',\n",
       " '2024-07-29',\n",
       " '2024-07-29',\n",
       " '2024-11-12',\n",
       " '2024-11-12',\n",
       " '2025-03-05')"
      ]
     },
     "execution_count": 9,
     "metadata": {},
     "output_type": "execute_result"
    }
   ],
   "source": [
    "train_start, train_end, val_start, val_end, test_start, test_end = get_fractional_dates(df)\n",
    "train_start, train_end, val_start, val_end, test_start, test_end"
   ]
  },
  {
   "cell_type": "markdown",
   "metadata": {},
   "source": [
    "#### Split the data into train, val and test splits\n"
   ]
  },
  {
   "cell_type": "code",
   "execution_count": 10,
   "metadata": {},
   "outputs": [
    {
     "name": "stdout",
     "output_type": "stream",
     "text": [
      "Finished: Reading data from Hopsworks, using Hopsworks Feature Query Service (4.84s) \n"
     ]
    },
    {
     "name": "stderr",
     "output_type": "stream",
     "text": [
      "VersionWarning: Incremented version to `2`.\n"
     ]
    }
   ],
   "source": [
    "train, val, test, _, _, _ =  amazon_fv.train_validation_test_split(\n",
    "    train_start=train_start,\n",
    "    train_end = train_end,\n",
    "    val_start = val_start,\n",
    "    val_end = val_end,\n",
    "    test_start=test_start,\n",
    "    test_end = test_end    \n",
    ")"
   ]
  },
  {
   "cell_type": "code",
   "execution_count": 11,
   "metadata": {},
   "outputs": [],
   "source": [
    "# Drop the datetime column\n",
    "train.drop(\"datetime\", axis=1, inplace=True)\n",
    "val.drop(\"datetime\", axis=1, inplace=True)\n",
    "test.drop(\"datetime\", axis=1, inplace=True)"
   ]
  },
  {
   "cell_type": "code",
   "execution_count": 15,
   "metadata": {},
   "outputs": [],
   "source": [
    "def generate_sequence(data: pd.DataFrame, window_size:int = 24, forecast_steps: int = 7):\n",
    "\n",
    "    X = []\n",
    "    y = []\n",
    "\n",
    "    for i in range(len(data) - window_size - forecast_steps):\n",
    "        X.append(data.iloc[i:i+window_size])\n",
    "        y.append(data.iloc[i+window_size:i+window_size+forecast_steps, 2])\n",
    "\n",
    "    return np.array(X), np.array(y)"
   ]
  },
  {
   "cell_type": "code",
   "execution_count": null,
   "metadata": {},
   "outputs": [
    {
     "name": "stdout",
     "output_type": "stream",
     "text": [
      "True\n",
      "True\n"
     ]
    }
   ],
   "source": [
    "# Generate sequences\n",
    "X_train, y_train = generate_sequence(train, window_size=24, forecast_steps=7)\n",
    "\n",
    "# check the shapes of the generated sequences\n",
    "print(np.allclose(X_train[0], train.iloc[:24].values))\n",
    "print(np.allclose(y_train[0], train['close'].iloc[24:24+7]))"
   ]
  },
  {
   "cell_type": "code",
   "execution_count": 23,
   "metadata": {},
   "outputs": [
    {
     "name": "stdout",
     "output_type": "stream",
     "text": [
      "True\n",
      "True\n"
     ]
    }
   ],
   "source": [
    "X_val, y_val = generate_sequence(val, window_size=24, forecast_steps=7)\n",
    "\n",
    "# check the shapes of the generated sequences\n",
    "print(np.allclose(X_val[0], val.iloc[:24]))\n",
    "print(np.allclose(y_val[0], val['close'].iloc[24: 24+7]))"
   ]
  },
  {
   "cell_type": "code",
   "execution_count": null,
   "metadata": {},
   "outputs": [
    {
     "name": "stdout",
     "output_type": "stream",
     "text": [
      "True\n",
      "True\n"
     ]
    }
   ],
   "source": [
    "X_test, y_test = generate_sequence(test, window_size=28, forecast_steps=7)\n",
    "\n",
    "# check the shapes of the generated sequences\n",
    "print(np.allclose(X_test[0], test.iloc[:24]))\n",
    "print(np.allclose(y_test[0], test['close'].iloc[24: 24+7]))"
   ]
  },
  {
   "cell_type": "code",
   "execution_count": 26,
   "metadata": {},
   "outputs": [
    {
     "data": {
      "text/plain": [
       "((2395, 24, 7), (2395, 7), (494, 24, 7), (494, 7), (486, 24, 7), (486, 7))"
      ]
     },
     "execution_count": 26,
     "metadata": {},
     "output_type": "execute_result"
    }
   ],
   "source": [
    "# Print thes shapes of training validation and test sets\n",
    "X_train.shape, y_train.shape, X_val.shape, y_val.shape, X_test.shape, y_test.shape"
   ]
  },
  {
   "cell_type": "markdown",
   "metadata": {},
   "source": [
    "## Modelling\n"
   ]
  },
  {
   "cell_type": "code",
   "execution_count": 28,
   "metadata": {},
   "outputs": [
    {
     "name": "stdout",
     "output_type": "stream",
     "text": [
      "Validation RMSE: 35.78784679520415\n"
     ]
    }
   ],
   "source": [
    "from sklearn.metrics import root_mean_squared_error\n",
    "\n",
    "# Reshape the data\n",
    "X_train_reshaped = X_train.reshape(X_train.shape[0], -1)\n",
    "X_val_reshaped = X_val.reshape(X_val.shape[0], -1)\n",
    "\n",
    "# Initialize and train the model\n",
    "model = XGBRegressor(objective='reg:squarederror', n_estimators=100, learning_rate=0.1)\n",
    "model.fit(X_train_reshaped, y_train)\n",
    "\n",
    "# Make predictions on the validation set\n",
    "y_pred_val = model.predict(X_val_reshaped)\n",
    "\n",
    "# Calculate the validation RMSE\n",
    "val_rmse = root_mean_squared_error(y_val, y_pred_val)\n",
    "print(f'Validation RMSE: {val_rmse}')"
   ]
  },
  {
   "cell_type": "code",
   "execution_count": 30,
   "metadata": {},
   "outputs": [],
   "source": [
    "# Save the metrics to a dict\n",
    "\n",
    "metrics = {\n",
    "    'rmse': val_rmse\n",
    "}\n"
   ]
  },
  {
   "cell_type": "code",
   "execution_count": 29,
   "metadata": {},
   "outputs": [
    {
     "data": {
      "text/plain": [
       "array([[150.06346, 166.70276, 147.3533 , 143.6741 , 125.94607, 142.8028 ,\n",
       "        167.77267]], dtype=float32)"
      ]
     },
     "execution_count": 29,
     "metadata": {},
     "output_type": "execute_result"
    }
   ],
   "source": [
    "# Make predictions on the test set\n",
    "\n",
    "forecast = model.predict(X_test[-1].reshape(1, -1))\n",
    "forecast"
   ]
  },
  {
   "cell_type": "markdown",
   "metadata": {},
   "source": [
    "## Register the model to model registry"
   ]
  },
  {
   "cell_type": "code",
   "execution_count": null,
   "metadata": {},
   "outputs": [
    {
     "data": {
      "text/plain": [
       "['../models/xgboost_model\\\\xgboost_model.pkl']"
      ]
     },
     "execution_count": 32,
     "metadata": {},
     "output_type": "execute_result"
    }
   ],
   "source": [
    "import joblib\n",
    "# Save the model to the disk\n",
    "model_dir = \"../models/xgboost_model\"\n",
    "model_path = os.path.join(model_dir, \"xgboost_model.pkl\")\n",
    "\n",
    "\n",
    "if not os.path.exists(model_dir):\n",
    "    os.makedirs(model_dir)\n",
    "    \n",
    "joblib.dump(model, model_path)"
   ]
  },
  {
   "cell_type": "code",
   "execution_count": 33,
   "metadata": {},
   "outputs": [],
   "source": [
    "# get the model registry\n",
    "mr = project.get_model_registry()\n"
   ]
  },
  {
   "cell_type": "code",
   "execution_count": null,
   "metadata": {},
   "outputs": [
    {
     "name": "stderr",
     "output_type": "stream",
     "text": [
      "Uploading: 100.000%|██████████| 2412107/2412107 elapsed<00:04 remaining<00:001.30s/it]\n",
      "Uploading: 100.000%|██████████| 3079/3079 elapsed<00:02 remaining<00:000:13,  3.35s/it]\n",
      "Model export complete: 100%|██████████| 6/6 [00:14<00:00,  2.46s/it]                   "
     ]
    },
    {
     "name": "stdout",
     "output_type": "stream",
     "text": [
      "Model created, explore it at https://c.app.hopsworks.ai:443/p/1212597/models/amazon_stock_price_prediction_model_xgboost/1\n"
     ]
    },
    {
     "name": "stderr",
     "output_type": "stream",
     "text": [
      "\n"
     ]
    },
    {
     "data": {
      "text/plain": [
       "Model(name: 'amazon_stock_price_prediction_model_xgboost', version: 1)"
      ]
     },
     "execution_count": 34,
     "metadata": {},
     "output_type": "execute_result"
    }
   ],
   "source": [
    "\n",
    "# Create a model in the model registry\n",
    "model = mr.python.create_model(\n",
    "    name=\"amazon_stock_price_prediction_model_xgboost\",\n",
    "    description = \"XGBoost model for predicting Amazon stock prices\",\n",
    "    input_example = X_train[0],\n",
    "    feature_view = amazon_fv\n",
    ")\n",
    "\n",
    "# Save model to the model registry\n",
    "model.save(model_dir)"
   ]
  }
 ],
 "metadata": {
  "kernelspec": {
   "display_name": ".venv",
   "language": "python",
   "name": "python3"
  },
  "language_info": {
   "codemirror_mode": {
    "name": "ipython",
    "version": 3
   },
   "file_extension": ".py",
   "mimetype": "text/x-python",
   "name": "python",
   "nbconvert_exporter": "python",
   "pygments_lexer": "ipython3",
   "version": "3.11.9"
  }
 },
 "nbformat": 4,
 "nbformat_minor": 2
}

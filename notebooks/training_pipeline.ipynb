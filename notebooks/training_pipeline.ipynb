{
 "cells": [
  {
   "cell_type": "markdown",
   "metadata": {
    "vscode": {
     "languageId": "plaintext"
    }
   },
   "source": [
    "# Training Pipeline\n",
    "\n",
    "In this notebook, we will do the following tasks\n",
    "\n",
    "1. Get the data from the feature store\n",
    "2. Preprocess the data\n",
    "3. Train the model\n",
    "4. Evaluate the model\n",
    "5. Register the model to model registry\n"
   ]
  },
  {
   "cell_type": "code",
   "execution_count": 3,
   "metadata": {},
   "outputs": [],
   "source": [
    "# Import the required libraries\n",
    "import os\n",
    "import hopsworks\n",
    "import numpy as np\n",
    "import pandas as pd\n",
    "\n",
    "from dotenv import load_dotenv\n",
    "\n",
    "# Load the .env file \n",
    "load_dotenv()\n",
    "\n",
    "# Get the envrioment variables\n",
    "hopsworks_api_key = os.getenv(\"HOPSWORKS_API_KEY\")\n",
    " "
   ]
  },
  {
   "cell_type": "code",
   "execution_count": 4,
   "metadata": {},
   "outputs": [
    {
     "name": "stdout",
     "output_type": "stream",
     "text": [
      "2025-02-21 12:41:24,797 INFO: Initializing external client\n",
      "2025-02-21 12:41:24,798 INFO: Base URL: https://c.app.hopsworks.ai:443\n",
      "2025-02-21 12:41:27,537 INFO: Python Engine initialized.\n",
      "\n",
      "Logged in to project, explore it here https://c.app.hopsworks.ai:443/p/1212597\n"
     ]
    }
   ],
   "source": [
    "# login hopsworks and get the features group\n",
    "project = hopsworks.login(api_key_value=str(hopsworks_api_key))\n",
    "fs = project.get_feature_store()\n",
    "\n"
   ]
  },
  {
   "cell_type": "markdown",
   "metadata": {},
   "source": [
    "### Feature Selection\n"
   ]
  },
  {
   "cell_type": "code",
   "execution_count": 5,
   "metadata": {},
   "outputs": [],
   "source": [
    "amazon_fg = fs.get_feature_group(\"amazon_stock_prices\", version=1)"
   ]
  },
  {
   "cell_type": "code",
   "execution_count": 6,
   "metadata": {},
   "outputs": [
    {
     "name": "stdout",
     "output_type": "stream",
     "text": [
      "Finished: Reading data from Hopsworks, using Hopsworks Feature Query Service (1.87s) \n"
     ]
    },
    {
     "data": {
      "text/html": [
       "<div>\n",
       "<style scoped>\n",
       "    .dataframe tbody tr th:only-of-type {\n",
       "        vertical-align: middle;\n",
       "    }\n",
       "\n",
       "    .dataframe tbody tr th {\n",
       "        vertical-align: top;\n",
       "    }\n",
       "\n",
       "    .dataframe thead th {\n",
       "        text-align: right;\n",
       "    }\n",
       "</style>\n",
       "<table border=\"1\" class=\"dataframe\">\n",
       "  <thead>\n",
       "    <tr style=\"text-align: right;\">\n",
       "      <th></th>\n",
       "      <th>date</th>\n",
       "      <th>open</th>\n",
       "      <th>high</th>\n",
       "      <th>close</th>\n",
       "      <th>low</th>\n",
       "    </tr>\n",
       "  </thead>\n",
       "  <tbody>\n",
       "    <tr>\n",
       "      <th>0</th>\n",
       "      <td>2020-07-24 18:00:00+00:00</td>\n",
       "      <td>3001.070</td>\n",
       "      <td>3015.165</td>\n",
       "      <td>3004.82</td>\n",
       "      <td>2999.01</td>\n",
       "    </tr>\n",
       "    <tr>\n",
       "      <th>1</th>\n",
       "      <td>2021-12-03 20:00:00+00:00</td>\n",
       "      <td>3353.080</td>\n",
       "      <td>3392.990</td>\n",
       "      <td>3391.14</td>\n",
       "      <td>3340.00</td>\n",
       "    </tr>\n",
       "    <tr>\n",
       "      <th>2</th>\n",
       "      <td>2021-03-17 19:00:00+00:00</td>\n",
       "      <td>3167.440</td>\n",
       "      <td>3173.050</td>\n",
       "      <td>3134.80</td>\n",
       "      <td>3132.15</td>\n",
       "    </tr>\n",
       "    <tr>\n",
       "      <th>3</th>\n",
       "      <td>2023-02-14 16:00:00+00:00</td>\n",
       "      <td>98.470</td>\n",
       "      <td>98.855</td>\n",
       "      <td>97.97</td>\n",
       "      <td>97.53</td>\n",
       "    </tr>\n",
       "    <tr>\n",
       "      <th>4</th>\n",
       "      <td>2024-10-22 15:00:00+00:00</td>\n",
       "      <td>190.045</td>\n",
       "      <td>190.300</td>\n",
       "      <td>189.84</td>\n",
       "      <td>189.39</td>\n",
       "    </tr>\n",
       "  </tbody>\n",
       "</table>\n",
       "</div>"
      ],
      "text/plain": [
       "                       date      open      high    close      low\n",
       "0 2020-07-24 18:00:00+00:00  3001.070  3015.165  3004.82  2999.01\n",
       "1 2021-12-03 20:00:00+00:00  3353.080  3392.990  3391.14  3340.00\n",
       "2 2021-03-17 19:00:00+00:00  3167.440  3173.050  3134.80  3132.15\n",
       "3 2023-02-14 16:00:00+00:00    98.470    98.855    97.97    97.53\n",
       "4 2024-10-22 15:00:00+00:00   190.045   190.300   189.84   189.39"
      ]
     },
     "execution_count": 6,
     "metadata": {},
     "output_type": "execute_result"
    }
   ],
   "source": [
    "# Select features for training data\n",
    "selected_features = amazon_fg.select([\"date\", \"open\", \"high\", \"close\", \"low\"])\n",
    "\n",
    "# View the first 5 rows of selected features\n",
    "selected_features.show(5)"
   ]
  },
  {
   "cell_type": "markdown",
   "metadata": {},
   "source": [
    "### Feature View Creation\n"
   ]
  },
  {
   "cell_type": "code",
   "execution_count": 7,
   "metadata": {},
   "outputs": [],
   "source": [
    "# Get or create feature view\n",
    "amazon_fv = fs.get_or_create_feature_view(\n",
    "    name= \"amazon_fv\", \n",
    "    version=1,\n",
    "    query = selected_features,\n",
    ")"
   ]
  },
  {
   "cell_type": "markdown",
   "metadata": {},
   "source": [
    "### Training Dataset Creation\n"
   ]
  },
  {
   "cell_type": "code",
   "execution_count": 8,
   "metadata": {},
   "outputs": [
    {
     "name": "stdout",
     "output_type": "stream",
     "text": [
      "Finished: Reading data from Hopsworks, using Hopsworks Feature Query Service (1.93s) \n"
     ]
    }
   ],
   "source": [
    "# Get the data to calculate date ranges\n",
    "df = amazon_fg.read()"
   ]
  },
  {
   "cell_type": "code",
   "execution_count": 9,
   "metadata": {},
   "outputs": [
    {
     "data": {
      "text/html": [
       "<div>\n",
       "<style scoped>\n",
       "    .dataframe tbody tr th:only-of-type {\n",
       "        vertical-align: middle;\n",
       "    }\n",
       "\n",
       "    .dataframe tbody tr th {\n",
       "        vertical-align: top;\n",
       "    }\n",
       "\n",
       "    .dataframe thead th {\n",
       "        text-align: right;\n",
       "    }\n",
       "</style>\n",
       "<table border=\"1\" class=\"dataframe\">\n",
       "  <thead>\n",
       "    <tr style=\"text-align: right;\">\n",
       "      <th></th>\n",
       "      <th>close</th>\n",
       "      <th>high</th>\n",
       "      <th>low</th>\n",
       "      <th>open</th>\n",
       "      <th>id</th>\n",
       "    </tr>\n",
       "    <tr>\n",
       "      <th>date</th>\n",
       "      <th></th>\n",
       "      <th></th>\n",
       "      <th></th>\n",
       "      <th></th>\n",
       "      <th></th>\n",
       "    </tr>\n",
       "  </thead>\n",
       "  <tbody>\n",
       "    <tr>\n",
       "      <th>2019-01-02 15:00:00+00:00</th>\n",
       "      <td>1515.03</td>\n",
       "      <td>1518.000</td>\n",
       "      <td>1479.59</td>\n",
       "      <td>1486.18</td>\n",
       "      <td>2019-01-02 15:00:00</td>\n",
       "    </tr>\n",
       "    <tr>\n",
       "      <th>2019-01-02 16:00:00+00:00</th>\n",
       "      <td>1513.50</td>\n",
       "      <td>1529.825</td>\n",
       "      <td>1513.18</td>\n",
       "      <td>1516.40</td>\n",
       "      <td>2019-01-02 16:00:00</td>\n",
       "    </tr>\n",
       "    <tr>\n",
       "      <th>2019-01-02 17:00:00+00:00</th>\n",
       "      <td>1533.50</td>\n",
       "      <td>1533.500</td>\n",
       "      <td>1512.93</td>\n",
       "      <td>1513.01</td>\n",
       "      <td>2019-01-02 17:00:00</td>\n",
       "    </tr>\n",
       "    <tr>\n",
       "      <th>2019-01-02 18:00:00+00:00</th>\n",
       "      <td>1549.00</td>\n",
       "      <td>1553.090</td>\n",
       "      <td>1533.93</td>\n",
       "      <td>1533.93</td>\n",
       "      <td>2019-01-02 18:00:00</td>\n",
       "    </tr>\n",
       "    <tr>\n",
       "      <th>2019-01-02 19:00:00+00:00</th>\n",
       "      <td>1543.23</td>\n",
       "      <td>1552.660</td>\n",
       "      <td>1539.15</td>\n",
       "      <td>1547.68</td>\n",
       "      <td>2019-01-02 19:00:00</td>\n",
       "    </tr>\n",
       "  </tbody>\n",
       "</table>\n",
       "</div>"
      ],
      "text/plain": [
       "                             close      high      low     open  \\\n",
       "date                                                             \n",
       "2019-01-02 15:00:00+00:00  1515.03  1518.000  1479.59  1486.18   \n",
       "2019-01-02 16:00:00+00:00  1513.50  1529.825  1513.18  1516.40   \n",
       "2019-01-02 17:00:00+00:00  1533.50  1533.500  1512.93  1513.01   \n",
       "2019-01-02 18:00:00+00:00  1549.00  1553.090  1533.93  1533.93   \n",
       "2019-01-02 19:00:00+00:00  1543.23  1552.660  1539.15  1547.68   \n",
       "\n",
       "                                            id  \n",
       "date                                            \n",
       "2019-01-02 15:00:00+00:00  2019-01-02 15:00:00  \n",
       "2019-01-02 16:00:00+00:00  2019-01-02 16:00:00  \n",
       "2019-01-02 17:00:00+00:00  2019-01-02 17:00:00  \n",
       "2019-01-02 18:00:00+00:00  2019-01-02 18:00:00  \n",
       "2019-01-02 19:00:00+00:00  2019-01-02 19:00:00  "
      ]
     },
     "execution_count": 9,
     "metadata": {},
     "output_type": "execute_result"
    }
   ],
   "source": [
    "# Sort the values according to the date\n",
    "df = df.sort_values(\"date\").set_index(\"date\")\n",
    "\n",
    "df.head()"
   ]
  },
  {
   "cell_type": "code",
   "execution_count": 10,
   "metadata": {},
   "outputs": [],
   "source": [
    "def get_fractional_dates(column: pd.Series):\n",
    "    total_length = len(column)\n",
    "    \n",
    "    idx_0 = 0  # First index\n",
    "    idx_70 = int(0.7 * total_length)\n",
    "    idx_85 = int(0.85 * total_length)\n",
    "    idx_last = total_length - 1  # Last index\n",
    "\n",
    "    def extract_date(idx):\n",
    "        return str(column.index[idx]).split(\" \")[0]  # Convert to string and get date part\n",
    "\n",
    "    train_start = extract_date(idx_0)\n",
    "    val_start = extract_date(idx_70)\n",
    "    test_start = extract_date(idx_85)\n",
    "\n",
    "    train_end = extract_date(idx_70 - 1)  # One day before val_start\n",
    "    val_end = extract_date(idx_85 - 1)  # One day before test_start\n",
    "    test_end = extract_date(idx_last)  # Last available date\n",
    "\n",
    "    return train_start, train_end, val_start, val_end, test_start, test_end"
   ]
  },
  {
   "cell_type": "code",
   "execution_count": 11,
   "metadata": {},
   "outputs": [
    {
     "data": {
      "text/plain": [
       "('2019-01-02',\n",
       " '2023-04-19',\n",
       " '2023-04-19',\n",
       " '2024-03-20',\n",
       " '2024-03-20',\n",
       " '2025-02-20')"
      ]
     },
     "execution_count": 11,
     "metadata": {},
     "output_type": "execute_result"
    }
   ],
   "source": [
    "train_start, train_end, val_start, val_end, test_start, test_end = get_fractional_dates(df)\n",
    "train_start, train_end, val_start, val_end, test_start, test_end"
   ]
  },
  {
   "cell_type": "markdown",
   "metadata": {},
   "source": [
    "#### Split the data into train, val and test splits"
   ]
  },
  {
   "cell_type": "code",
   "execution_count": 12,
   "metadata": {},
   "outputs": [
    {
     "name": "stdout",
     "output_type": "stream",
     "text": [
      "Finished: Reading data from Hopsworks, using Hopsworks Feature Query Service (1.84s) \n",
      "2025-02-21 12:41:44,451 WARNING: VersionWarning: Incremented version to `6`.\n",
      "\n"
     ]
    }
   ],
   "source": [
    "train, val, test, _, _, _ =  amazon_fv.train_validation_test_split(\n",
    "    train_start=train_start,\n",
    "    train_end = train_end,\n",
    "    val_start = val_start,\n",
    "    val_end = val_end,\n",
    "    test_start=test_start,\n",
    "    test_end = test_end    \n",
    ")"
   ]
  },
  {
   "cell_type": "code",
   "execution_count": 13,
   "metadata": {},
   "outputs": [],
   "source": [
    "def create_sequences(data: pd.DataFrame, window_size: int = 24, forecast_steps: int = 6, target_col: str = 'close'):\n",
    "    # Initialize empty lists\n",
    "    X, y = [], []\n",
    "    \n",
    "    # Drop the date column\n",
    "    data = data.sort_values(\"date\").drop(\"date\", axis=1)\n",
    "    \n",
    "    # Loop through the dataset\n",
    "    for i in range(len(data) - window_size - forecast_steps):\n",
    "        X.append(data.iloc[i: i + window_size, :])\n",
    "        \n",
    "        # y values should start from the next value where X ended to forecast steps\n",
    "        y.append(data.iloc[i + window_size: i + window_size + forecast_steps][target_col])\n",
    "        \n",
    "    return np.array(X), np.array(y)"
   ]
  },
  {
   "cell_type": "code",
   "execution_count": 14,
   "metadata": {},
   "outputs": [],
   "source": [
    "# Test our data\n",
    "X_train, y_train  = create_sequences(train)\n",
    "X_val, y_val = create_sequences(val)\n",
    "X_test, y_test = create_sequences(test)"
   ]
  },
  {
   "cell_type": "code",
   "execution_count": 15,
   "metadata": {},
   "outputs": [
    {
     "name": "stdout",
     "output_type": "stream",
     "text": [
      "Shape of Training Data: ((6690, 24, 4), (6690, 6))\n",
      "Shape of Validation Data: ((1410, 24, 4), (1410, 6))\n",
      "Shape of Testing Data: ((1410, 24, 4), (1410, 6))\n"
     ]
    }
   ],
   "source": [
    "# View the shapes of train, val and test splits\n",
    "print(f\"Shape of Training Data: {X_train.shape, y_train.shape}\")\n",
    "print(f\"Shape of Validation Data: {X_val.shape, y_val.shape}\")\n",
    "print(f\"Shape of Testing Data: {X_test.shape, y_test.shape}\")"
   ]
  },
  {
   "cell_type": "code",
   "execution_count": 16,
   "metadata": {},
   "outputs": [
    {
     "data": {
      "text/plain": [
       "(True, True)"
      ]
     },
     "execution_count": 16,
     "metadata": {},
     "output_type": "execute_result"
    }
   ],
   "source": [
    "# testing whether the our function is correct\n",
    "np.allclose(np.array(train.sort_values('date').drop('date', axis=1).iloc[:24, :]), X_train[0]), np.allclose(np.array(train.sort_values('date').drop('date', axis=1).iloc[24 : 24+6]['close']), y_train[0])"
   ]
  },
  {
   "cell_type": "code",
   "execution_count": null,
   "metadata": {},
   "outputs": [],
   "source": []
  }
 ],
 "metadata": {
  "kernelspec": {
   "display_name": ".venv",
   "language": "python",
   "name": "python3"
  },
  "language_info": {
   "codemirror_mode": {
    "name": "ipython",
    "version": 3
   },
   "file_extension": ".py",
   "mimetype": "text/x-python",
   "name": "python",
   "nbconvert_exporter": "python",
   "pygments_lexer": "ipython3",
   "version": "3.11.9"
  }
 },
 "nbformat": 4,
 "nbformat_minor": 2
}

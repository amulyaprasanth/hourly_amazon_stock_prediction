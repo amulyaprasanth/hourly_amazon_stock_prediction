{
 "cells": [
  {
   "cell_type": "markdown",
   "id": "b56973f1-8307-4fb9-b26d-31232c89ccf2",
   "metadata": {},
   "source": [
    "# Stock Feature Pipeline\n",
    "\n",
    "This notebook converts the raw data from the apis into model inputs\n"
   ]
  },
  {
   "cell_type": "code",
   "execution_count": 1,
   "id": "542b3969-d8cf-4cb6-adcf-837d6bdf703b",
   "metadata": {},
   "outputs": [],
   "source": [
    "# Import the required libraries and load in the environment variables\n",
    "import hopsworks\n",
    "import os\n",
    "from dotenv import load_dotenv\n",
    "\n",
    "import requests\n",
    "from datetime import datetime\n",
    "import numpy as np\n",
    "import pandas as pd\n",
    "from tqdm import tqdm\n",
    "import matplotlib.pyplot as plt\n",
    "from ta.momentum import RSIIndicator\n",
    "from ta.trend import CCIIndicator\n",
    "\n",
    "plt.style.use('grayscale')\n",
    "\n",
    "# Load the .env file\n",
    "load_dotenv()\n",
    "\n",
    "# Get the environment variables\n",
    "tiingo_api_key = os.getenv(\"TIINGO_API_KEY\")\n",
    "hopsworks_api_key = os.getenv(\"HOPSWORKS_API_KEY\")\n",
    "alpha_vantage_key = os.getenv(\"ALPHA_VANTAGE_KEY\")"
   ]
  },
  {
   "cell_type": "markdown",
   "id": "ed631dbf-8085-48dc-a5cb-d7ae8c69698d",
   "metadata": {},
   "source": [
    "### Getting Data From API\n"
   ]
  },
  {
   "cell_type": "markdown",
   "id": "321572e2",
   "metadata": {},
   "source": [
    "#### Generate Dataset from API getting last year data\n"
   ]
  },
  {
   "cell_type": "code",
   "execution_count": 2,
   "id": "2b31ba51",
   "metadata": {},
   "outputs": [],
   "source": [
    "\n",
    "def create_dataset_chunk(start_date: str, end_date: str, ticker=\"AMZN\", freq: str = '60min') -> pd.DataFrame:\n",
    "\n",
    "    # Format the url with start_data, end_data and freq\n",
    "    url = f\"https://api.tiingo.com/iex/{ticker}/prices?startDate={start_date}&endDate={end_date}&resampleFreq={freq}&token={tiingo_api_key}\"\n",
    "    response = requests.get(url).json()\n",
    "\n",
    "    return pd.DataFrame(response)\n",
    "\n",
    "\n",
    "# df = create_dataset_chunk(\"2024-01-01\", \"2024-02-29\")  # Test the function"
   ]
  },
  {
   "cell_type": "code",
   "execution_count": 3,
   "id": "8d9fe306",
   "metadata": {},
   "outputs": [
    {
     "name": "stdout",
     "output_type": "stream",
     "text": [
      "2019 2020\n",
      "2020 2021\n",
      "2021 2022\n",
      "2022 2023\n",
      "2023 2024\n"
     ]
    }
   ],
   "source": [
    "years = [2019, 2020, 2021, 2022, 2023, 2024]\n",
    "\n",
    "for i in range(len(years) - 1):\n",
    "    print(years[i], years[i + 1])"
   ]
  },
  {
   "cell_type": "code",
   "execution_count": 4,
   "id": "dcb13241",
   "metadata": {},
   "outputs": [],
   "source": [
    "\n",
    "def create_supervised_dataset(years: list, ticker: str = \"AMZN\", freq: str = '60min') -> pd.DataFrame:\n",
    "    \"\"\"\n",
    "    Generates a supervised dataset from DataFrame chunks based on the provided date ranges.\n",
    "\n",
    "    Args:\n",
    "        dates (dict): A dictionary where keys are start dates and values are end dates.\n",
    "        ticker (str): The stock ticker symbol. Default is \"AMZN\".\n",
    "        freq (str): The frequency of the data. Default is '60min'.\n",
    "\n",
    "    Returns:\n",
    "        pd.DataFrame: A DataFrame containing the concatenated data for all date ranges.\n",
    "    \"\"\"\n",
    "    # Initialize an empty DataFrame to store the concatenated data\n",
    "    data = pd.DataFrame()\n",
    "\n",
    "    # Iterate over each date range in the dates dictionary\n",
    "    for i in tqdm(range(len(years) - 1)):\n",
    "        # Create a DataFrame chunk for the given date range, ticker, and frequency\n",
    "        df = create_dataset_chunk(\n",
    "            start_date=f\"{years[i]}-01-01\", end_date=f\"{years[i+1]}-12-31\", ticker=ticker, freq=freq)\n",
    "\n",
    "        # Concatenate the new chunk with the existing data\n",
    "        data = pd.concat([data, df])\n",
    "\n",
    "        # Get the current year stock market data\n",
    "    data = pd.concat([data, create_dataset_chunk('2025-01-01', '2025-02-18')])\n",
    "\n",
    "    # Change the date column to datetime format\n",
    "    data['date'] = data['date'].map(lambda x: x.split('.')[0])\n",
    "    data['date'] = pd.to_datetime(data['date'])\n",
    "\n",
    "    # Set the index as the date column\n",
    "    data = data.set_index(\"date\")\n",
    "    # Return the concatenated DataFrame\n",
    "    return data.sort_index()"
   ]
  },
  {
   "cell_type": "code",
   "execution_count": 5,
   "id": "61e9e4b4",
   "metadata": {},
   "outputs": [
    {
     "name": "stderr",
     "output_type": "stream",
     "text": [
      "  0%|          | 0/5 [00:00<?, ?it/s]"
     ]
    },
    {
     "name": "stderr",
     "output_type": "stream",
     "text": [
      "100%|██████████| 5/5 [00:15<00:00,  3.11s/it]\n"
     ]
    },
    {
     "data": {
      "text/html": [
       "<div>\n",
       "<style scoped>\n",
       "    .dataframe tbody tr th:only-of-type {\n",
       "        vertical-align: middle;\n",
       "    }\n",
       "\n",
       "    .dataframe tbody tr th {\n",
       "        vertical-align: top;\n",
       "    }\n",
       "\n",
       "    .dataframe thead th {\n",
       "        text-align: right;\n",
       "    }\n",
       "</style>\n",
       "<table border=\"1\" class=\"dataframe\">\n",
       "  <thead>\n",
       "    <tr style=\"text-align: right;\">\n",
       "      <th></th>\n",
       "      <th>close</th>\n",
       "      <th>high</th>\n",
       "      <th>low</th>\n",
       "      <th>open</th>\n",
       "    </tr>\n",
       "    <tr>\n",
       "      <th>date</th>\n",
       "      <th></th>\n",
       "      <th></th>\n",
       "      <th></th>\n",
       "      <th></th>\n",
       "    </tr>\n",
       "  </thead>\n",
       "  <tbody>\n",
       "    <tr>\n",
       "      <th>2019-01-02 15:00:00</th>\n",
       "      <td>1515.03</td>\n",
       "      <td>1518.000</td>\n",
       "      <td>1479.59</td>\n",
       "      <td>1486.18</td>\n",
       "    </tr>\n",
       "    <tr>\n",
       "      <th>2019-01-02 16:00:00</th>\n",
       "      <td>1513.50</td>\n",
       "      <td>1529.825</td>\n",
       "      <td>1513.18</td>\n",
       "      <td>1516.40</td>\n",
       "    </tr>\n",
       "    <tr>\n",
       "      <th>2019-01-02 17:00:00</th>\n",
       "      <td>1533.50</td>\n",
       "      <td>1533.500</td>\n",
       "      <td>1512.93</td>\n",
       "      <td>1513.01</td>\n",
       "    </tr>\n",
       "    <tr>\n",
       "      <th>2019-01-02 18:00:00</th>\n",
       "      <td>1549.00</td>\n",
       "      <td>1553.090</td>\n",
       "      <td>1533.93</td>\n",
       "      <td>1533.93</td>\n",
       "    </tr>\n",
       "    <tr>\n",
       "      <th>2019-01-02 19:00:00</th>\n",
       "      <td>1543.23</td>\n",
       "      <td>1552.660</td>\n",
       "      <td>1539.15</td>\n",
       "      <td>1547.68</td>\n",
       "    </tr>\n",
       "  </tbody>\n",
       "</table>\n",
       "</div>"
      ],
      "text/plain": [
       "                       close      high      low     open\n",
       "date                                                    \n",
       "2019-01-02 15:00:00  1515.03  1518.000  1479.59  1486.18\n",
       "2019-01-02 16:00:00  1513.50  1529.825  1513.18  1516.40\n",
       "2019-01-02 17:00:00  1533.50  1533.500  1512.93  1513.01\n",
       "2019-01-02 18:00:00  1549.00  1553.090  1533.93  1533.93\n",
       "2019-01-02 19:00:00  1543.23  1552.660  1539.15  1547.68"
      ]
     },
     "execution_count": 5,
     "metadata": {},
     "output_type": "execute_result"
    }
   ],
   "source": [
    "# Call the function\n",
    "data = create_supervised_dataset(years, \"AMZN\")\n",
    "\n",
    "data.head()"
   ]
  },
  {
   "cell_type": "code",
   "execution_count": 6,
   "id": "6fe0772b",
   "metadata": {},
   "outputs": [
    {
     "data": {
      "text/html": [
       "<div>\n",
       "<style scoped>\n",
       "    .dataframe tbody tr th:only-of-type {\n",
       "        vertical-align: middle;\n",
       "    }\n",
       "\n",
       "    .dataframe tbody tr th {\n",
       "        vertical-align: top;\n",
       "    }\n",
       "\n",
       "    .dataframe thead th {\n",
       "        text-align: right;\n",
       "    }\n",
       "</style>\n",
       "<table border=\"1\" class=\"dataframe\">\n",
       "  <thead>\n",
       "    <tr style=\"text-align: right;\">\n",
       "      <th></th>\n",
       "      <th>close</th>\n",
       "      <th>high</th>\n",
       "      <th>low</th>\n",
       "      <th>open</th>\n",
       "    </tr>\n",
       "    <tr>\n",
       "      <th>date</th>\n",
       "      <th></th>\n",
       "      <th></th>\n",
       "      <th></th>\n",
       "      <th></th>\n",
       "    </tr>\n",
       "  </thead>\n",
       "  <tbody>\n",
       "    <tr>\n",
       "      <th>2019-01-02 15:00:00</th>\n",
       "      <td>1515.030</td>\n",
       "      <td>1518.000</td>\n",
       "      <td>1479.590</td>\n",
       "      <td>1486.180</td>\n",
       "    </tr>\n",
       "    <tr>\n",
       "      <th>2019-01-02 16:00:00</th>\n",
       "      <td>1513.500</td>\n",
       "      <td>1529.825</td>\n",
       "      <td>1513.180</td>\n",
       "      <td>1516.400</td>\n",
       "    </tr>\n",
       "    <tr>\n",
       "      <th>2019-01-02 17:00:00</th>\n",
       "      <td>1533.500</td>\n",
       "      <td>1533.500</td>\n",
       "      <td>1512.930</td>\n",
       "      <td>1513.010</td>\n",
       "    </tr>\n",
       "    <tr>\n",
       "      <th>2019-01-02 18:00:00</th>\n",
       "      <td>1549.000</td>\n",
       "      <td>1553.090</td>\n",
       "      <td>1533.930</td>\n",
       "      <td>1533.930</td>\n",
       "    </tr>\n",
       "    <tr>\n",
       "      <th>2019-01-02 19:00:00</th>\n",
       "      <td>1543.230</td>\n",
       "      <td>1552.660</td>\n",
       "      <td>1539.150</td>\n",
       "      <td>1547.680</td>\n",
       "    </tr>\n",
       "    <tr>\n",
       "      <th>2019-01-02 20:00:00</th>\n",
       "      <td>1538.400</td>\n",
       "      <td>1544.165</td>\n",
       "      <td>1531.825</td>\n",
       "      <td>1540.190</td>\n",
       "    </tr>\n",
       "    <tr>\n",
       "      <th>2019-01-03 15:00:00</th>\n",
       "      <td>1515.715</td>\n",
       "      <td>1522.350</td>\n",
       "      <td>1503.125</td>\n",
       "      <td>1520.500</td>\n",
       "    </tr>\n",
       "    <tr>\n",
       "      <th>2019-01-03 16:00:00</th>\n",
       "      <td>1529.000</td>\n",
       "      <td>1532.670</td>\n",
       "      <td>1514.575</td>\n",
       "      <td>1515.715</td>\n",
       "    </tr>\n",
       "    <tr>\n",
       "      <th>2019-01-03 17:00:00</th>\n",
       "      <td>1522.040</td>\n",
       "      <td>1533.530</td>\n",
       "      <td>1520.420</td>\n",
       "      <td>1529.000</td>\n",
       "    </tr>\n",
       "    <tr>\n",
       "      <th>2019-01-03 18:00:00</th>\n",
       "      <td>1507.750</td>\n",
       "      <td>1521.510</td>\n",
       "      <td>1507.750</td>\n",
       "      <td>1521.510</td>\n",
       "    </tr>\n",
       "  </tbody>\n",
       "</table>\n",
       "</div>"
      ],
      "text/plain": [
       "                        close      high       low      open\n",
       "date                                                       \n",
       "2019-01-02 15:00:00  1515.030  1518.000  1479.590  1486.180\n",
       "2019-01-02 16:00:00  1513.500  1529.825  1513.180  1516.400\n",
       "2019-01-02 17:00:00  1533.500  1533.500  1512.930  1513.010\n",
       "2019-01-02 18:00:00  1549.000  1553.090  1533.930  1533.930\n",
       "2019-01-02 19:00:00  1543.230  1552.660  1539.150  1547.680\n",
       "2019-01-02 20:00:00  1538.400  1544.165  1531.825  1540.190\n",
       "2019-01-03 15:00:00  1515.715  1522.350  1503.125  1520.500\n",
       "2019-01-03 16:00:00  1529.000  1532.670  1514.575  1515.715\n",
       "2019-01-03 17:00:00  1522.040  1533.530  1520.420  1529.000\n",
       "2019-01-03 18:00:00  1507.750  1521.510  1507.750  1521.510"
      ]
     },
     "execution_count": 6,
     "metadata": {},
     "output_type": "execute_result"
    }
   ],
   "source": [
    "data.head(10)"
   ]
  },
  {
   "cell_type": "code",
   "execution_count": 7,
   "id": "2f7ffab0",
   "metadata": {},
   "outputs": [
    {
     "data": {
      "text/html": [
       "<div>\n",
       "<style scoped>\n",
       "    .dataframe tbody tr th:only-of-type {\n",
       "        vertical-align: middle;\n",
       "    }\n",
       "\n",
       "    .dataframe tbody tr th {\n",
       "        vertical-align: top;\n",
       "    }\n",
       "\n",
       "    .dataframe thead th {\n",
       "        text-align: right;\n",
       "    }\n",
       "</style>\n",
       "<table border=\"1\" class=\"dataframe\">\n",
       "  <thead>\n",
       "    <tr style=\"text-align: right;\">\n",
       "      <th></th>\n",
       "      <th>close</th>\n",
       "      <th>high</th>\n",
       "      <th>low</th>\n",
       "      <th>open</th>\n",
       "    </tr>\n",
       "    <tr>\n",
       "      <th>date</th>\n",
       "      <th></th>\n",
       "      <th></th>\n",
       "      <th></th>\n",
       "      <th></th>\n",
       "    </tr>\n",
       "  </thead>\n",
       "  <tbody>\n",
       "    <tr>\n",
       "      <th>2025-02-18 16:00:00</th>\n",
       "      <td>224.360</td>\n",
       "      <td>225.605</td>\n",
       "      <td>224.245</td>\n",
       "      <td>225.550</td>\n",
       "    </tr>\n",
       "    <tr>\n",
       "      <th>2025-02-18 17:00:00</th>\n",
       "      <td>225.020</td>\n",
       "      <td>225.050</td>\n",
       "      <td>223.840</td>\n",
       "      <td>224.360</td>\n",
       "    </tr>\n",
       "    <tr>\n",
       "      <th>2025-02-18 18:00:00</th>\n",
       "      <td>224.275</td>\n",
       "      <td>225.245</td>\n",
       "      <td>223.740</td>\n",
       "      <td>225.025</td>\n",
       "    </tr>\n",
       "    <tr>\n",
       "      <th>2025-02-18 19:00:00</th>\n",
       "      <td>224.510</td>\n",
       "      <td>224.690</td>\n",
       "      <td>223.750</td>\n",
       "      <td>224.275</td>\n",
       "    </tr>\n",
       "    <tr>\n",
       "      <th>2025-02-18 20:00:00</th>\n",
       "      <td>226.640</td>\n",
       "      <td>226.640</td>\n",
       "      <td>224.270</td>\n",
       "      <td>224.515</td>\n",
       "    </tr>\n",
       "  </tbody>\n",
       "</table>\n",
       "</div>"
      ],
      "text/plain": [
       "                       close     high      low     open\n",
       "date                                                   \n",
       "2025-02-18 16:00:00  224.360  225.605  224.245  225.550\n",
       "2025-02-18 17:00:00  225.020  225.050  223.840  224.360\n",
       "2025-02-18 18:00:00  224.275  225.245  223.740  225.025\n",
       "2025-02-18 19:00:00  224.510  224.690  223.750  224.275\n",
       "2025-02-18 20:00:00  226.640  226.640  224.270  224.515"
      ]
     },
     "execution_count": 7,
     "metadata": {},
     "output_type": "execute_result"
    }
   ],
   "source": [
    "data.tail()"
   ]
  },
  {
   "cell_type": "code",
   "execution_count": 8,
   "id": "b1a818dc",
   "metadata": {},
   "outputs": [
    {
     "data": {
      "image/png": "[encoded data removed]",
      "text/plain": [
       "<Figure size 1000x700 with 1 Axes>"
      ]
     },
     "metadata": {},
     "output_type": "display_data"
    }
   ],
   "source": [
    "\n",
    "plt.figure(figsize=(10, 7))\n",
    "plt.plot(data.index, data[\"close\"])\n",
    "plt.show()"
   ]
  },
  {
   "cell_type": "markdown",
   "id": "2cddba7a",
   "metadata": {},
   "source": [
    "## Data Ingestion to Feature Store\n"
   ]
  },
  {
   "cell_type": "code",
   "execution_count": 9,
   "id": "fc4240c0",
   "metadata": {},
   "outputs": [],
   "source": [
    "# reset the index \n",
    "data = data.reset_index()\n",
    "\n",
    "# Add the id column as primary key\n",
    "data[\"id\"] = [str(date) for date in data['date']]"
   ]
  },
  {
   "cell_type": "code",
   "execution_count": 13,
   "id": "3b5d0491",
   "metadata": {},
   "outputs": [
    {
     "data": {
      "text/html": [
       "<div>\n",
       "<style scoped>\n",
       "    .dataframe tbody tr th:only-of-type {\n",
       "        vertical-align: middle;\n",
       "    }\n",
       "\n",
       "    .dataframe tbody tr th {\n",
       "        vertical-align: top;\n",
       "    }\n",
       "\n",
       "    .dataframe thead th {\n",
       "        text-align: right;\n",
       "    }\n",
       "</style>\n",
       "<table border=\"1\" class=\"dataframe\">\n",
       "  <thead>\n",
       "    <tr style=\"text-align: right;\">\n",
       "      <th></th>\n",
       "      <th>date</th>\n",
       "      <th>close</th>\n",
       "      <th>high</th>\n",
       "      <th>low</th>\n",
       "      <th>open</th>\n",
       "      <th>id</th>\n",
       "    </tr>\n",
       "  </thead>\n",
       "  <tbody>\n",
       "    <tr>\n",
       "      <th>0</th>\n",
       "      <td>2019-01-02 15:00:00</td>\n",
       "      <td>1515.03</td>\n",
       "      <td>1518.000</td>\n",
       "      <td>1479.59</td>\n",
       "      <td>1486.18</td>\n",
       "      <td>2019-01-02 15:00:00</td>\n",
       "    </tr>\n",
       "    <tr>\n",
       "      <th>1</th>\n",
       "      <td>2019-01-02 16:00:00</td>\n",
       "      <td>1513.50</td>\n",
       "      <td>1529.825</td>\n",
       "      <td>1513.18</td>\n",
       "      <td>1516.40</td>\n",
       "      <td>2019-01-02 16:00:00</td>\n",
       "    </tr>\n",
       "    <tr>\n",
       "      <th>2</th>\n",
       "      <td>2019-01-02 17:00:00</td>\n",
       "      <td>1533.50</td>\n",
       "      <td>1533.500</td>\n",
       "      <td>1512.93</td>\n",
       "      <td>1513.01</td>\n",
       "      <td>2019-01-02 17:00:00</td>\n",
       "    </tr>\n",
       "    <tr>\n",
       "      <th>3</th>\n",
       "      <td>2019-01-02 18:00:00</td>\n",
       "      <td>1549.00</td>\n",
       "      <td>1553.090</td>\n",
       "      <td>1533.93</td>\n",
       "      <td>1533.93</td>\n",
       "      <td>2019-01-02 18:00:00</td>\n",
       "    </tr>\n",
       "    <tr>\n",
       "      <th>4</th>\n",
       "      <td>2019-01-02 19:00:00</td>\n",
       "      <td>1543.23</td>\n",
       "      <td>1552.660</td>\n",
       "      <td>1539.15</td>\n",
       "      <td>1547.68</td>\n",
       "      <td>2019-01-02 19:00:00</td>\n",
       "    </tr>\n",
       "  </tbody>\n",
       "</table>\n",
       "</div>"
      ],
      "text/plain": [
       "                 date    close      high      low     open  \\\n",
       "0 2019-01-02 15:00:00  1515.03  1518.000  1479.59  1486.18   \n",
       "1 2019-01-02 16:00:00  1513.50  1529.825  1513.18  1516.40   \n",
       "2 2019-01-02 17:00:00  1533.50  1533.500  1512.93  1513.01   \n",
       "3 2019-01-02 18:00:00  1549.00  1553.090  1533.93  1533.93   \n",
       "4 2019-01-02 19:00:00  1543.23  1552.660  1539.15  1547.68   \n",
       "\n",
       "                    id  \n",
       "0  2019-01-02 15:00:00  \n",
       "1  2019-01-02 16:00:00  \n",
       "2  2019-01-02 17:00:00  \n",
       "3  2019-01-02 18:00:00  \n",
       "4  2019-01-02 19:00:00  "
      ]
     },
     "execution_count": 13,
     "metadata": {},
     "output_type": "execute_result"
    }
   ],
   "source": [
    "data.head()"
   ]
  },
  {
   "cell_type": "code",
   "execution_count": 11,
   "id": "d7a16963",
   "metadata": {},
   "outputs": [
    {
     "name": "stdout",
     "output_type": "stream",
     "text": [
      "2025-02-20 17:52:19,203 INFO: Initializing external client\n",
      "2025-02-20 17:52:19,204 INFO: Base URL: https://c.app.hopsworks.ai:443\n",
      "2025-02-20 17:52:22,975 INFO: Python Engine initialized.\n"
     ]
    },
    {
     "ename": "KeyboardInterrupt",
     "evalue": "",
     "output_type": "error",
     "traceback": [
      "\u001b[1;31m---------------------------------------------------------------------------\u001b[0m",
      "\u001b[1;31mKeyboardInterrupt\u001b[0m                         Traceback (most recent call last)",
      "Cell \u001b[1;32mIn[11], line 2\u001b[0m\n\u001b[0;32m      1\u001b[0m \u001b[38;5;66;03m# Login to Hopsworks\u001b[39;00m\n\u001b[1;32m----> 2\u001b[0m project \u001b[38;5;241m=\u001b[39m \u001b[43mhopsworks\u001b[49m\u001b[38;5;241;43m.\u001b[39;49m\u001b[43mlogin\u001b[49m\u001b[43m(\u001b[49m\u001b[43mapi_key_value\u001b[49m\u001b[43m \u001b[49m\u001b[38;5;241;43m=\u001b[39;49m\u001b[43m \u001b[49m\u001b[38;5;28;43mstr\u001b[39;49m\u001b[43m(\u001b[49m\u001b[43mhopsworks_api_key\u001b[49m\u001b[43m)\u001b[49m\u001b[43m)\u001b[49m\n\u001b[0;32m      4\u001b[0m \u001b[38;5;66;03m# Get the feature store\u001b[39;00m\n\u001b[0;32m      5\u001b[0m fs \u001b[38;5;241m=\u001b[39m project\u001b[38;5;241m.\u001b[39mget_feature_store()\n",
      "File \u001b[1;32md:\\Documents\\Projects\\hourly_amazon_stock_prediction\\.venv\\Lib\\site-packages\\hopsworks\\__init__.py:265\u001b[0m, in \u001b[0;36mlogin\u001b[1;34m(host, port, project, api_key_value, api_key_file, hostname_verification, trust_store_path, engine)\u001b[0m\n\u001b[0;32m    263\u001b[0m     _connected_project \u001b[38;5;241m=\u001b[39m _prompt_project(_hw_connection, project, is_app)\n\u001b[0;32m    264\u001b[0m     \u001b[38;5;28;01mif\u001b[39;00m _connected_project:\n\u001b[1;32m--> 265\u001b[0m         \u001b[43m_set_active_project\u001b[49m\u001b[43m(\u001b[49m\u001b[43m_connected_project\u001b[49m\u001b[43m)\u001b[49m\n\u001b[0;32m    266\u001b[0m \u001b[38;5;28;01mexcept\u001b[39;00m RestAPIError \u001b[38;5;28;01mas\u001b[39;00m hw_e:\n\u001b[0;32m    267\u001b[0m     logout()\n",
      "File \u001b[1;32md:\\Documents\\Projects\\hourly_amazon_stock_prediction\\.venv\\Lib\\site-packages\\hopsworks\\__init__.py:489\u001b[0m, in \u001b[0;36m_set_active_project\u001b[1;34m(project)\u001b[0m\n\u001b[0;32m    487\u001b[0m _client \u001b[38;5;241m=\u001b[39m client\u001b[38;5;241m.\u001b[39mget_instance()\n\u001b[0;32m    488\u001b[0m \u001b[38;5;28;01mif\u001b[39;00m _client\u001b[38;5;241m.\u001b[39m_is_external():\n\u001b[1;32m--> 489\u001b[0m     \u001b[43m_client\u001b[49m\u001b[38;5;241;43m.\u001b[39;49m\u001b[43mprovide_project\u001b[49m\u001b[43m(\u001b[49m\u001b[43mproject\u001b[49m\u001b[38;5;241;43m.\u001b[39;49m\u001b[43mname\u001b[49m\u001b[43m)\u001b[49m\n",
      "File \u001b[1;32md:\\Documents\\Projects\\hourly_amazon_stock_prediction\\.venv\\Lib\\site-packages\\hopsworks_common\\client\\external.py:160\u001b[0m, in \u001b[0;36mClient.provide_project\u001b[1;34m(self, project)\u001b[0m\n\u001b[0;32m    152\u001b[0m     _logger\u001b[38;5;241m.\u001b[39mdebug(\n\u001b[0;32m    153\u001b[0m         \u001b[38;5;124m\"\u001b[39m\u001b[38;5;124mRunning in Spark environment with no metastore and hopsfs, initializing Spark session\u001b[39m\u001b[38;5;124m\"\u001b[39m\n\u001b[0;32m    154\u001b[0m     )\n\u001b[0;32m    155\u001b[0m     _spark_session \u001b[38;5;241m=\u001b[39m SparkSession\u001b[38;5;241m.\u001b[39mbuilder \\\n\u001b[0;32m    156\u001b[0m         \u001b[38;5;241m.\u001b[39mconfig(\u001b[38;5;124m\"\u001b[39m\u001b[38;5;124mspark.sql.extensions\u001b[39m\u001b[38;5;124m\"\u001b[39m, \u001b[38;5;124m\"\u001b[39m\u001b[38;5;124mio.delta.sql.DeltaSparkSessionExtension\u001b[39m\u001b[38;5;124m\"\u001b[39m) \\\n\u001b[0;32m    157\u001b[0m         \u001b[38;5;241m.\u001b[39mconfig(\u001b[38;5;124m\"\u001b[39m\u001b[38;5;124mspark.sql.catalog.spark_catalog\u001b[39m\u001b[38;5;124m\"\u001b[39m, \u001b[38;5;124m\"\u001b[39m\u001b[38;5;124morg.apache.spark.sql.delta.catalog.DeltaCatalog\u001b[39m\u001b[38;5;124m\"\u001b[39m) \\\n\u001b[0;32m    158\u001b[0m         \u001b[38;5;241m.\u001b[39mgetOrCreate()\n\u001b[1;32m--> 160\u001b[0m \u001b[43mhopsworks_common\u001b[49m\u001b[38;5;241;43m.\u001b[39;49m\u001b[43mclient\u001b[49m\u001b[38;5;241;43m.\u001b[39;49m\u001b[43mget_connection\u001b[49m\u001b[43m(\u001b[49m\u001b[43m)\u001b[49m\u001b[38;5;241;43m.\u001b[39;49m\u001b[43m_provide_project\u001b[49m\u001b[43m(\u001b[49m\u001b[43m)\u001b[49m\n",
      "File \u001b[1;32md:\\Documents\\Projects\\hourly_amazon_stock_prediction\\.venv\\Lib\\site-packages\\hopsworks_common\\decorators.py:45\u001b[0m, in \u001b[0;36mconnected.<locals>.if_connected\u001b[1;34m(inst, *args, **kwargs)\u001b[0m\n\u001b[0;32m     43\u001b[0m \u001b[38;5;28;01mif\u001b[39;00m \u001b[38;5;129;01mnot\u001b[39;00m inst\u001b[38;5;241m.\u001b[39m_connected:\n\u001b[0;32m     44\u001b[0m     \u001b[38;5;28;01mraise\u001b[39;00m NoHopsworksConnectionError\n\u001b[1;32m---> 45\u001b[0m \u001b[38;5;28;01mreturn\u001b[39;00m \u001b[43mfn\u001b[49m\u001b[43m(\u001b[49m\u001b[43minst\u001b[49m\u001b[43m,\u001b[49m\u001b[43m \u001b[49m\u001b[38;5;241;43m*\u001b[39;49m\u001b[43margs\u001b[49m\u001b[43m,\u001b[49m\u001b[43m \u001b[49m\u001b[38;5;241;43m*\u001b[39;49m\u001b[38;5;241;43m*\u001b[39;49m\u001b[43mkwargs\u001b[49m\u001b[43m)\u001b[49m\n",
      "File \u001b[1;32md:\\Documents\\Projects\\hourly_amazon_stock_prediction\\.venv\\Lib\\site-packages\\hopsworks_common\\connection.py:433\u001b[0m, in \u001b[0;36mConnection._provide_project\u001b[1;34m(self, name)\u001b[0m\n\u001b[0;32m    429\u001b[0m engine\u001b[38;5;241m.\u001b[39mget_instance()\n\u001b[0;32m    430\u001b[0m \u001b[38;5;28;01mif\u001b[39;00m \u001b[38;5;28mself\u001b[39m\u001b[38;5;241m.\u001b[39m_variable_api\u001b[38;5;241m.\u001b[39mget_data_science_profile_enabled():\n\u001b[0;32m    431\u001b[0m     \u001b[38;5;66;03m# load_default_configuration has to be called before using hsml\u001b[39;00m\n\u001b[0;32m    432\u001b[0m     \u001b[38;5;66;03m# but after a project is provided to client\u001b[39;00m\n\u001b[1;32m--> 433\u001b[0m     \u001b[38;5;28;43mself\u001b[39;49m\u001b[38;5;241;43m.\u001b[39;49m\u001b[43m_model_serving_api\u001b[49m\u001b[38;5;241;43m.\u001b[39;49m\u001b[43mload_default_configuration\u001b[49m\u001b[43m(\u001b[49m\u001b[43m)\u001b[49m\n",
      "File \u001b[1;32md:\\Documents\\Projects\\hourly_amazon_stock_prediction\\.venv\\Lib\\site-packages\\hsml\\core\\model_serving_api.py:60\u001b[0m, in \u001b[0;36mModelServingApi.load_default_configuration\u001b[1;34m(self)\u001b[0m\n\u001b[0;32m     57\u001b[0m client\u001b[38;5;241m.\u001b[39mset_kserve_installed(is_kserve_installed)\n\u001b[0;32m     59\u001b[0m \u001b[38;5;66;03m# istio client\u001b[39;00m\n\u001b[1;32m---> 60\u001b[0m \u001b[38;5;28;43mself\u001b[39;49m\u001b[38;5;241;43m.\u001b[39;49m\u001b[43m_istio_init_if_available\u001b[49m\u001b[43m(\u001b[49m\u001b[43m)\u001b[49m\n\u001b[0;32m     62\u001b[0m \u001b[38;5;66;03m# resource limits\u001b[39;00m\n\u001b[0;32m     63\u001b[0m max_resources \u001b[38;5;241m=\u001b[39m \u001b[38;5;28mself\u001b[39m\u001b[38;5;241m.\u001b[39m_serving_api\u001b[38;5;241m.\u001b[39mget_resource_limits()\n",
      "File \u001b[1;32md:\\Documents\\Projects\\hourly_amazon_stock_prediction\\.venv\\Lib\\site-packages\\hsml\\core\\model_serving_api.py:86\u001b[0m, in \u001b[0;36mModelServingApi._istio_init_if_available\u001b[1;34m(self)\u001b[0m\n\u001b[0;32m     83\u001b[0m     \u001b[38;5;28;01mpass\u001b[39;00m\n\u001b[0;32m     85\u001b[0m \u001b[38;5;66;03m# setup istio client\u001b[39;00m\n\u001b[1;32m---> 86\u001b[0m inference_endpoints \u001b[38;5;241m=\u001b[39m \u001b[38;5;28;43mself\u001b[39;49m\u001b[38;5;241;43m.\u001b[39;49m\u001b[43m_serving_api\u001b[49m\u001b[38;5;241;43m.\u001b[39;49m\u001b[43mget_inference_endpoints\u001b[49m\u001b[43m(\u001b[49m\u001b[43m)\u001b[49m\n\u001b[0;32m     87\u001b[0m \u001b[38;5;28;01mif\u001b[39;00m \u001b[38;5;129;01mnot\u001b[39;00m client\u001b[38;5;241m.\u001b[39m_is_external():\n\u001b[0;32m     88\u001b[0m     \u001b[38;5;66;03m# if internal, get node port\u001b[39;00m\n\u001b[0;32m     89\u001b[0m     endpoint \u001b[38;5;241m=\u001b[39m get_endpoint_by_type(\n\u001b[0;32m     90\u001b[0m         inference_endpoints, INFERENCE_ENDPOINTS\u001b[38;5;241m.\u001b[39mENDPOINT_TYPE_NODE\n\u001b[0;32m     91\u001b[0m     )\n",
      "File \u001b[1;32md:\\Documents\\Projects\\hourly_amazon_stock_prediction\\.venv\\Lib\\site-packages\\hsml\\core\\serving_api.py:112\u001b[0m, in \u001b[0;36mServingApi.get_inference_endpoints\u001b[1;34m(self)\u001b[0m\n\u001b[0;32m    110\u001b[0m _client \u001b[38;5;241m=\u001b[39m client\u001b[38;5;241m.\u001b[39mget_instance()\n\u001b[0;32m    111\u001b[0m path_params \u001b[38;5;241m=\u001b[39m [\u001b[38;5;124m\"\u001b[39m\u001b[38;5;124mproject\u001b[39m\u001b[38;5;124m\"\u001b[39m, _client\u001b[38;5;241m.\u001b[39m_project_id, \u001b[38;5;124m\"\u001b[39m\u001b[38;5;124minference\u001b[39m\u001b[38;5;124m\"\u001b[39m, \u001b[38;5;124m\"\u001b[39m\u001b[38;5;124mendpoints\u001b[39m\u001b[38;5;124m\"\u001b[39m]\n\u001b[1;32m--> 112\u001b[0m endpoints_json \u001b[38;5;241m=\u001b[39m \u001b[43m_client\u001b[49m\u001b[38;5;241;43m.\u001b[39;49m\u001b[43m_send_request\u001b[49m\u001b[43m(\u001b[49m\u001b[38;5;124;43m\"\u001b[39;49m\u001b[38;5;124;43mGET\u001b[39;49m\u001b[38;5;124;43m\"\u001b[39;49m\u001b[43m,\u001b[49m\u001b[43m \u001b[49m\u001b[43mpath_params\u001b[49m\u001b[43m)\u001b[49m\n\u001b[0;32m    113\u001b[0m \u001b[38;5;28;01mreturn\u001b[39;00m inference_endpoint\u001b[38;5;241m.\u001b[39mInferenceEndpoint\u001b[38;5;241m.\u001b[39mfrom_response_json(endpoints_json)\n",
      "File \u001b[1;32md:\\Documents\\Projects\\hourly_amazon_stock_prediction\\.venv\\Lib\\site-packages\\hopsworks_common\\decorators.py:45\u001b[0m, in \u001b[0;36mconnected.<locals>.if_connected\u001b[1;34m(inst, *args, **kwargs)\u001b[0m\n\u001b[0;32m     43\u001b[0m \u001b[38;5;28;01mif\u001b[39;00m \u001b[38;5;129;01mnot\u001b[39;00m inst\u001b[38;5;241m.\u001b[39m_connected:\n\u001b[0;32m     44\u001b[0m     \u001b[38;5;28;01mraise\u001b[39;00m NoHopsworksConnectionError\n\u001b[1;32m---> 45\u001b[0m \u001b[38;5;28;01mreturn\u001b[39;00m \u001b[43mfn\u001b[49m\u001b[43m(\u001b[49m\u001b[43minst\u001b[49m\u001b[43m,\u001b[49m\u001b[43m \u001b[49m\u001b[38;5;241;43m*\u001b[39;49m\u001b[43margs\u001b[49m\u001b[43m,\u001b[49m\u001b[43m \u001b[49m\u001b[38;5;241;43m*\u001b[39;49m\u001b[38;5;241;43m*\u001b[39;49m\u001b[43mkwargs\u001b[49m\u001b[43m)\u001b[49m\n",
      "File \u001b[1;32md:\\Documents\\Projects\\hourly_amazon_stock_prediction\\.venv\\Lib\\site-packages\\hopsworks_common\\client\\base.py:177\u001b[0m, in \u001b[0;36mClient._send_request\u001b[1;34m(self, method, path_params, query_params, headers, data, stream, files, with_base_path_params)\u001b[0m\n\u001b[0;32m    174\u001b[0m _logger\u001b[38;5;241m.\u001b[39mdebug(\u001b[38;5;124m\"\u001b[39m\u001b[38;5;124murl:\u001b[39m\u001b[38;5;132;01m{}\u001b[39;00m\u001b[38;5;124m hostname_verification:\u001b[39m\u001b[38;5;132;01m{}\u001b[39;00m\u001b[38;5;124m\"\u001b[39m\u001b[38;5;241m.\u001b[39mformat(url, \u001b[38;5;28mself\u001b[39m\u001b[38;5;241m.\u001b[39m_verify))\n\u001b[0;32m    176\u001b[0m prepped \u001b[38;5;241m=\u001b[39m \u001b[38;5;28mself\u001b[39m\u001b[38;5;241m.\u001b[39m_session\u001b[38;5;241m.\u001b[39mprepare_request(request)\n\u001b[1;32m--> 177\u001b[0m response \u001b[38;5;241m=\u001b[39m \u001b[38;5;28;43mself\u001b[39;49m\u001b[38;5;241;43m.\u001b[39;49m\u001b[43m_session\u001b[49m\u001b[38;5;241;43m.\u001b[39;49m\u001b[43msend\u001b[49m\u001b[43m(\u001b[49m\u001b[43mprepped\u001b[49m\u001b[43m,\u001b[49m\u001b[43m \u001b[49m\u001b[43mverify\u001b[49m\u001b[38;5;241;43m=\u001b[39;49m\u001b[38;5;28;43mself\u001b[39;49m\u001b[38;5;241;43m.\u001b[39;49m\u001b[43m_verify\u001b[49m\u001b[43m,\u001b[49m\u001b[43m \u001b[49m\u001b[43mstream\u001b[49m\u001b[38;5;241;43m=\u001b[39;49m\u001b[43mstream\u001b[49m\u001b[43m)\u001b[49m\n\u001b[0;32m    179\u001b[0m \u001b[38;5;28;01mif\u001b[39;00m response\u001b[38;5;241m.\u001b[39mstatus_code \u001b[38;5;241m==\u001b[39m \u001b[38;5;241m401\u001b[39m \u001b[38;5;129;01mand\u001b[39;00m \u001b[38;5;28mself\u001b[39m\u001b[38;5;241m.\u001b[39mREST_ENDPOINT \u001b[38;5;129;01min\u001b[39;00m os\u001b[38;5;241m.\u001b[39menviron:\n\u001b[0;32m    180\u001b[0m     \u001b[38;5;66;03m# refresh token and retry request - only on hopsworks\u001b[39;00m\n\u001b[0;32m    181\u001b[0m     response \u001b[38;5;241m=\u001b[39m \u001b[38;5;28mself\u001b[39m\u001b[38;5;241m.\u001b[39m_retry_token_expired(\n\u001b[0;32m    182\u001b[0m         request, stream, \u001b[38;5;28mself\u001b[39m\u001b[38;5;241m.\u001b[39mTOKEN_EXPIRED_RETRY_INTERVAL, \u001b[38;5;241m1\u001b[39m\n\u001b[0;32m    183\u001b[0m     )\n",
      "File \u001b[1;32md:\\Documents\\Projects\\hourly_amazon_stock_prediction\\.venv\\Lib\\site-packages\\requests\\sessions.py:703\u001b[0m, in \u001b[0;36mSession.send\u001b[1;34m(self, request, **kwargs)\u001b[0m\n\u001b[0;32m    700\u001b[0m start \u001b[38;5;241m=\u001b[39m preferred_clock()\n\u001b[0;32m    702\u001b[0m \u001b[38;5;66;03m# Send the request\u001b[39;00m\n\u001b[1;32m--> 703\u001b[0m r \u001b[38;5;241m=\u001b[39m \u001b[43madapter\u001b[49m\u001b[38;5;241;43m.\u001b[39;49m\u001b[43msend\u001b[49m\u001b[43m(\u001b[49m\u001b[43mrequest\u001b[49m\u001b[43m,\u001b[49m\u001b[43m \u001b[49m\u001b[38;5;241;43m*\u001b[39;49m\u001b[38;5;241;43m*\u001b[39;49m\u001b[43mkwargs\u001b[49m\u001b[43m)\u001b[49m\n\u001b[0;32m    705\u001b[0m \u001b[38;5;66;03m# Total elapsed time of the request (approximately)\u001b[39;00m\n\u001b[0;32m    706\u001b[0m elapsed \u001b[38;5;241m=\u001b[39m preferred_clock() \u001b[38;5;241m-\u001b[39m start\n",
      "File \u001b[1;32md:\\Documents\\Projects\\hourly_amazon_stock_prediction\\.venv\\Lib\\site-packages\\requests\\adapters.py:667\u001b[0m, in \u001b[0;36mHTTPAdapter.send\u001b[1;34m(self, request, stream, timeout, verify, cert, proxies)\u001b[0m\n\u001b[0;32m    664\u001b[0m     timeout \u001b[38;5;241m=\u001b[39m TimeoutSauce(connect\u001b[38;5;241m=\u001b[39mtimeout, read\u001b[38;5;241m=\u001b[39mtimeout)\n\u001b[0;32m    666\u001b[0m \u001b[38;5;28;01mtry\u001b[39;00m:\n\u001b[1;32m--> 667\u001b[0m     resp \u001b[38;5;241m=\u001b[39m \u001b[43mconn\u001b[49m\u001b[38;5;241;43m.\u001b[39;49m\u001b[43murlopen\u001b[49m\u001b[43m(\u001b[49m\n\u001b[0;32m    668\u001b[0m \u001b[43m        \u001b[49m\u001b[43mmethod\u001b[49m\u001b[38;5;241;43m=\u001b[39;49m\u001b[43mrequest\u001b[49m\u001b[38;5;241;43m.\u001b[39;49m\u001b[43mmethod\u001b[49m\u001b[43m,\u001b[49m\n\u001b[0;32m    669\u001b[0m \u001b[43m        \u001b[49m\u001b[43murl\u001b[49m\u001b[38;5;241;43m=\u001b[39;49m\u001b[43murl\u001b[49m\u001b[43m,\u001b[49m\n\u001b[0;32m    670\u001b[0m \u001b[43m        \u001b[49m\u001b[43mbody\u001b[49m\u001b[38;5;241;43m=\u001b[39;49m\u001b[43mrequest\u001b[49m\u001b[38;5;241;43m.\u001b[39;49m\u001b[43mbody\u001b[49m\u001b[43m,\u001b[49m\n\u001b[0;32m    671\u001b[0m \u001b[43m        \u001b[49m\u001b[43mheaders\u001b[49m\u001b[38;5;241;43m=\u001b[39;49m\u001b[43mrequest\u001b[49m\u001b[38;5;241;43m.\u001b[39;49m\u001b[43mheaders\u001b[49m\u001b[43m,\u001b[49m\n\u001b[0;32m    672\u001b[0m \u001b[43m        \u001b[49m\u001b[43mredirect\u001b[49m\u001b[38;5;241;43m=\u001b[39;49m\u001b[38;5;28;43;01mFalse\u001b[39;49;00m\u001b[43m,\u001b[49m\n\u001b[0;32m    673\u001b[0m \u001b[43m        \u001b[49m\u001b[43massert_same_host\u001b[49m\u001b[38;5;241;43m=\u001b[39;49m\u001b[38;5;28;43;01mFalse\u001b[39;49;00m\u001b[43m,\u001b[49m\n\u001b[0;32m    674\u001b[0m \u001b[43m        \u001b[49m\u001b[43mpreload_content\u001b[49m\u001b[38;5;241;43m=\u001b[39;49m\u001b[38;5;28;43;01mFalse\u001b[39;49;00m\u001b[43m,\u001b[49m\n\u001b[0;32m    675\u001b[0m \u001b[43m        \u001b[49m\u001b[43mdecode_content\u001b[49m\u001b[38;5;241;43m=\u001b[39;49m\u001b[38;5;28;43;01mFalse\u001b[39;49;00m\u001b[43m,\u001b[49m\n\u001b[0;32m    676\u001b[0m \u001b[43m        \u001b[49m\u001b[43mretries\u001b[49m\u001b[38;5;241;43m=\u001b[39;49m\u001b[38;5;28;43mself\u001b[39;49m\u001b[38;5;241;43m.\u001b[39;49m\u001b[43mmax_retries\u001b[49m\u001b[43m,\u001b[49m\n\u001b[0;32m    677\u001b[0m \u001b[43m        \u001b[49m\u001b[43mtimeout\u001b[49m\u001b[38;5;241;43m=\u001b[39;49m\u001b[43mtimeout\u001b[49m\u001b[43m,\u001b[49m\n\u001b[0;32m    678\u001b[0m \u001b[43m        \u001b[49m\u001b[43mchunked\u001b[49m\u001b[38;5;241;43m=\u001b[39;49m\u001b[43mchunked\u001b[49m\u001b[43m,\u001b[49m\n\u001b[0;32m    679\u001b[0m \u001b[43m    \u001b[49m\u001b[43m)\u001b[49m\n\u001b[0;32m    681\u001b[0m \u001b[38;5;28;01mexcept\u001b[39;00m (ProtocolError, \u001b[38;5;167;01mOSError\u001b[39;00m) \u001b[38;5;28;01mas\u001b[39;00m err:\n\u001b[0;32m    682\u001b[0m     \u001b[38;5;28;01mraise\u001b[39;00m \u001b[38;5;167;01mConnectionError\u001b[39;00m(err, request\u001b[38;5;241m=\u001b[39mrequest)\n",
      "File \u001b[1;32md:\\Documents\\Projects\\hourly_amazon_stock_prediction\\.venv\\Lib\\site-packages\\urllib3\\connectionpool.py:787\u001b[0m, in \u001b[0;36mHTTPConnectionPool.urlopen\u001b[1;34m(self, method, url, body, headers, retries, redirect, assert_same_host, timeout, pool_timeout, release_conn, chunked, body_pos, preload_content, decode_content, **response_kw)\u001b[0m\n\u001b[0;32m    784\u001b[0m response_conn \u001b[38;5;241m=\u001b[39m conn \u001b[38;5;28;01mif\u001b[39;00m \u001b[38;5;129;01mnot\u001b[39;00m release_conn \u001b[38;5;28;01melse\u001b[39;00m \u001b[38;5;28;01mNone\u001b[39;00m\n\u001b[0;32m    786\u001b[0m \u001b[38;5;66;03m# Make the request on the HTTPConnection object\u001b[39;00m\n\u001b[1;32m--> 787\u001b[0m response \u001b[38;5;241m=\u001b[39m \u001b[38;5;28;43mself\u001b[39;49m\u001b[38;5;241;43m.\u001b[39;49m\u001b[43m_make_request\u001b[49m\u001b[43m(\u001b[49m\n\u001b[0;32m    788\u001b[0m \u001b[43m    \u001b[49m\u001b[43mconn\u001b[49m\u001b[43m,\u001b[49m\n\u001b[0;32m    789\u001b[0m \u001b[43m    \u001b[49m\u001b[43mmethod\u001b[49m\u001b[43m,\u001b[49m\n\u001b[0;32m    790\u001b[0m \u001b[43m    \u001b[49m\u001b[43murl\u001b[49m\u001b[43m,\u001b[49m\n\u001b[0;32m    791\u001b[0m \u001b[43m    \u001b[49m\u001b[43mtimeout\u001b[49m\u001b[38;5;241;43m=\u001b[39;49m\u001b[43mtimeout_obj\u001b[49m\u001b[43m,\u001b[49m\n\u001b[0;32m    792\u001b[0m \u001b[43m    \u001b[49m\u001b[43mbody\u001b[49m\u001b[38;5;241;43m=\u001b[39;49m\u001b[43mbody\u001b[49m\u001b[43m,\u001b[49m\n\u001b[0;32m    793\u001b[0m \u001b[43m    \u001b[49m\u001b[43mheaders\u001b[49m\u001b[38;5;241;43m=\u001b[39;49m\u001b[43mheaders\u001b[49m\u001b[43m,\u001b[49m\n\u001b[0;32m    794\u001b[0m \u001b[43m    \u001b[49m\u001b[43mchunked\u001b[49m\u001b[38;5;241;43m=\u001b[39;49m\u001b[43mchunked\u001b[49m\u001b[43m,\u001b[49m\n\u001b[0;32m    795\u001b[0m \u001b[43m    \u001b[49m\u001b[43mretries\u001b[49m\u001b[38;5;241;43m=\u001b[39;49m\u001b[43mretries\u001b[49m\u001b[43m,\u001b[49m\n\u001b[0;32m    796\u001b[0m \u001b[43m    \u001b[49m\u001b[43mresponse_conn\u001b[49m\u001b[38;5;241;43m=\u001b[39;49m\u001b[43mresponse_conn\u001b[49m\u001b[43m,\u001b[49m\n\u001b[0;32m    797\u001b[0m \u001b[43m    \u001b[49m\u001b[43mpreload_content\u001b[49m\u001b[38;5;241;43m=\u001b[39;49m\u001b[43mpreload_content\u001b[49m\u001b[43m,\u001b[49m\n\u001b[0;32m    798\u001b[0m \u001b[43m    \u001b[49m\u001b[43mdecode_content\u001b[49m\u001b[38;5;241;43m=\u001b[39;49m\u001b[43mdecode_content\u001b[49m\u001b[43m,\u001b[49m\n\u001b[0;32m    799\u001b[0m \u001b[43m    \u001b[49m\u001b[38;5;241;43m*\u001b[39;49m\u001b[38;5;241;43m*\u001b[39;49m\u001b[43mresponse_kw\u001b[49m\u001b[43m,\u001b[49m\n\u001b[0;32m    800\u001b[0m \u001b[43m\u001b[49m\u001b[43m)\u001b[49m\n\u001b[0;32m    802\u001b[0m \u001b[38;5;66;03m# Everything went great!\u001b[39;00m\n\u001b[0;32m    803\u001b[0m clean_exit \u001b[38;5;241m=\u001b[39m \u001b[38;5;28;01mTrue\u001b[39;00m\n",
      "File \u001b[1;32md:\\Documents\\Projects\\hourly_amazon_stock_prediction\\.venv\\Lib\\site-packages\\urllib3\\connectionpool.py:534\u001b[0m, in \u001b[0;36mHTTPConnectionPool._make_request\u001b[1;34m(self, conn, method, url, body, headers, retries, timeout, chunked, response_conn, preload_content, decode_content, enforce_content_length)\u001b[0m\n\u001b[0;32m    532\u001b[0m \u001b[38;5;66;03m# Receive the response from the server\u001b[39;00m\n\u001b[0;32m    533\u001b[0m \u001b[38;5;28;01mtry\u001b[39;00m:\n\u001b[1;32m--> 534\u001b[0m     response \u001b[38;5;241m=\u001b[39m \u001b[43mconn\u001b[49m\u001b[38;5;241;43m.\u001b[39;49m\u001b[43mgetresponse\u001b[49m\u001b[43m(\u001b[49m\u001b[43m)\u001b[49m\n\u001b[0;32m    535\u001b[0m \u001b[38;5;28;01mexcept\u001b[39;00m (BaseSSLError, \u001b[38;5;167;01mOSError\u001b[39;00m) \u001b[38;5;28;01mas\u001b[39;00m e:\n\u001b[0;32m    536\u001b[0m     \u001b[38;5;28mself\u001b[39m\u001b[38;5;241m.\u001b[39m_raise_timeout(err\u001b[38;5;241m=\u001b[39me, url\u001b[38;5;241m=\u001b[39murl, timeout_value\u001b[38;5;241m=\u001b[39mread_timeout)\n",
      "File \u001b[1;32md:\\Documents\\Projects\\hourly_amazon_stock_prediction\\.venv\\Lib\\site-packages\\urllib3\\connection.py:516\u001b[0m, in \u001b[0;36mHTTPConnection.getresponse\u001b[1;34m(self)\u001b[0m\n\u001b[0;32m    513\u001b[0m _shutdown \u001b[38;5;241m=\u001b[39m \u001b[38;5;28mgetattr\u001b[39m(\u001b[38;5;28mself\u001b[39m\u001b[38;5;241m.\u001b[39msock, \u001b[38;5;124m\"\u001b[39m\u001b[38;5;124mshutdown\u001b[39m\u001b[38;5;124m\"\u001b[39m, \u001b[38;5;28;01mNone\u001b[39;00m)\n\u001b[0;32m    515\u001b[0m \u001b[38;5;66;03m# Get the response from http.client.HTTPConnection\u001b[39;00m\n\u001b[1;32m--> 516\u001b[0m httplib_response \u001b[38;5;241m=\u001b[39m \u001b[38;5;28;43msuper\u001b[39;49m\u001b[43m(\u001b[49m\u001b[43m)\u001b[49m\u001b[38;5;241;43m.\u001b[39;49m\u001b[43mgetresponse\u001b[49m\u001b[43m(\u001b[49m\u001b[43m)\u001b[49m\n\u001b[0;32m    518\u001b[0m \u001b[38;5;28;01mtry\u001b[39;00m:\n\u001b[0;32m    519\u001b[0m     assert_header_parsing(httplib_response\u001b[38;5;241m.\u001b[39mmsg)\n",
      "File \u001b[1;32m~\\AppData\\Local\\Programs\\Python\\Python311\\Lib\\http\\client.py:1395\u001b[0m, in \u001b[0;36mHTTPConnection.getresponse\u001b[1;34m(self)\u001b[0m\n\u001b[0;32m   1393\u001b[0m \u001b[38;5;28;01mtry\u001b[39;00m:\n\u001b[0;32m   1394\u001b[0m     \u001b[38;5;28;01mtry\u001b[39;00m:\n\u001b[1;32m-> 1395\u001b[0m         \u001b[43mresponse\u001b[49m\u001b[38;5;241;43m.\u001b[39;49m\u001b[43mbegin\u001b[49m\u001b[43m(\u001b[49m\u001b[43m)\u001b[49m\n\u001b[0;32m   1396\u001b[0m     \u001b[38;5;28;01mexcept\u001b[39;00m \u001b[38;5;167;01mConnectionError\u001b[39;00m:\n\u001b[0;32m   1397\u001b[0m         \u001b[38;5;28mself\u001b[39m\u001b[38;5;241m.\u001b[39mclose()\n",
      "File \u001b[1;32m~\\AppData\\Local\\Programs\\Python\\Python311\\Lib\\http\\client.py:325\u001b[0m, in \u001b[0;36mHTTPResponse.begin\u001b[1;34m(self)\u001b[0m\n\u001b[0;32m    323\u001b[0m \u001b[38;5;66;03m# read until we get a non-100 response\u001b[39;00m\n\u001b[0;32m    324\u001b[0m \u001b[38;5;28;01mwhile\u001b[39;00m \u001b[38;5;28;01mTrue\u001b[39;00m:\n\u001b[1;32m--> 325\u001b[0m     version, status, reason \u001b[38;5;241m=\u001b[39m \u001b[38;5;28;43mself\u001b[39;49m\u001b[38;5;241;43m.\u001b[39;49m\u001b[43m_read_status\u001b[49m\u001b[43m(\u001b[49m\u001b[43m)\u001b[49m\n\u001b[0;32m    326\u001b[0m     \u001b[38;5;28;01mif\u001b[39;00m status \u001b[38;5;241m!=\u001b[39m CONTINUE:\n\u001b[0;32m    327\u001b[0m         \u001b[38;5;28;01mbreak\u001b[39;00m\n",
      "File \u001b[1;32m~\\AppData\\Local\\Programs\\Python\\Python311\\Lib\\http\\client.py:286\u001b[0m, in \u001b[0;36mHTTPResponse._read_status\u001b[1;34m(self)\u001b[0m\n\u001b[0;32m    285\u001b[0m \u001b[38;5;28;01mdef\u001b[39;00m\u001b[38;5;250m \u001b[39m\u001b[38;5;21m_read_status\u001b[39m(\u001b[38;5;28mself\u001b[39m):\n\u001b[1;32m--> 286\u001b[0m     line \u001b[38;5;241m=\u001b[39m \u001b[38;5;28mstr\u001b[39m(\u001b[38;5;28mself\u001b[39m\u001b[38;5;241m.\u001b[39mfp\u001b[38;5;241m.\u001b[39mreadline(_MAXLINE \u001b[38;5;241m+\u001b[39m \u001b[38;5;241m1\u001b[39m), \u001b[38;5;124m\"\u001b[39m\u001b[38;5;124miso-8859-1\u001b[39m\u001b[38;5;124m\"\u001b[39m)\n\u001b[0;32m    287\u001b[0m     \u001b[38;5;28;01mif\u001b[39;00m \u001b[38;5;28mlen\u001b[39m(line) \u001b[38;5;241m>\u001b[39m _MAXLINE:\n\u001b[0;32m    288\u001b[0m         \u001b[38;5;28;01mraise\u001b[39;00m LineTooLong(\u001b[38;5;124m\"\u001b[39m\u001b[38;5;124mstatus line\u001b[39m\u001b[38;5;124m\"\u001b[39m)\n",
      "File \u001b[1;32m~\\AppData\\Local\\Programs\\Python\\Python311\\Lib\\socket.py:706\u001b[0m, in \u001b[0;36mSocketIO.readinto\u001b[1;34m(self, b)\u001b[0m\n\u001b[0;32m    704\u001b[0m \u001b[38;5;28;01mwhile\u001b[39;00m \u001b[38;5;28;01mTrue\u001b[39;00m:\n\u001b[0;32m    705\u001b[0m     \u001b[38;5;28;01mtry\u001b[39;00m:\n\u001b[1;32m--> 706\u001b[0m         \u001b[38;5;28;01mreturn\u001b[39;00m \u001b[38;5;28;43mself\u001b[39;49m\u001b[38;5;241;43m.\u001b[39;49m\u001b[43m_sock\u001b[49m\u001b[38;5;241;43m.\u001b[39;49m\u001b[43mrecv_into\u001b[49m\u001b[43m(\u001b[49m\u001b[43mb\u001b[49m\u001b[43m)\u001b[49m\n\u001b[0;32m    707\u001b[0m     \u001b[38;5;28;01mexcept\u001b[39;00m timeout:\n\u001b[0;32m    708\u001b[0m         \u001b[38;5;28mself\u001b[39m\u001b[38;5;241m.\u001b[39m_timeout_occurred \u001b[38;5;241m=\u001b[39m \u001b[38;5;28;01mTrue\u001b[39;00m\n",
      "File \u001b[1;32m~\\AppData\\Local\\Programs\\Python\\Python311\\Lib\\ssl.py:1314\u001b[0m, in \u001b[0;36mSSLSocket.recv_into\u001b[1;34m(self, buffer, nbytes, flags)\u001b[0m\n\u001b[0;32m   1310\u001b[0m     \u001b[38;5;28;01mif\u001b[39;00m flags \u001b[38;5;241m!=\u001b[39m \u001b[38;5;241m0\u001b[39m:\n\u001b[0;32m   1311\u001b[0m         \u001b[38;5;28;01mraise\u001b[39;00m \u001b[38;5;167;01mValueError\u001b[39;00m(\n\u001b[0;32m   1312\u001b[0m           \u001b[38;5;124m\"\u001b[39m\u001b[38;5;124mnon-zero flags not allowed in calls to recv_into() on \u001b[39m\u001b[38;5;132;01m%s\u001b[39;00m\u001b[38;5;124m\"\u001b[39m \u001b[38;5;241m%\u001b[39m\n\u001b[0;32m   1313\u001b[0m           \u001b[38;5;28mself\u001b[39m\u001b[38;5;241m.\u001b[39m\u001b[38;5;18m__class__\u001b[39m)\n\u001b[1;32m-> 1314\u001b[0m     \u001b[38;5;28;01mreturn\u001b[39;00m \u001b[38;5;28;43mself\u001b[39;49m\u001b[38;5;241;43m.\u001b[39;49m\u001b[43mread\u001b[49m\u001b[43m(\u001b[49m\u001b[43mnbytes\u001b[49m\u001b[43m,\u001b[49m\u001b[43m \u001b[49m\u001b[43mbuffer\u001b[49m\u001b[43m)\u001b[49m\n\u001b[0;32m   1315\u001b[0m \u001b[38;5;28;01melse\u001b[39;00m:\n\u001b[0;32m   1316\u001b[0m     \u001b[38;5;28;01mreturn\u001b[39;00m \u001b[38;5;28msuper\u001b[39m()\u001b[38;5;241m.\u001b[39mrecv_into(buffer, nbytes, flags)\n",
      "File \u001b[1;32m~\\AppData\\Local\\Programs\\Python\\Python311\\Lib\\ssl.py:1166\u001b[0m, in \u001b[0;36mSSLSocket.read\u001b[1;34m(self, len, buffer)\u001b[0m\n\u001b[0;32m   1164\u001b[0m \u001b[38;5;28;01mtry\u001b[39;00m:\n\u001b[0;32m   1165\u001b[0m     \u001b[38;5;28;01mif\u001b[39;00m buffer \u001b[38;5;129;01mis\u001b[39;00m \u001b[38;5;129;01mnot\u001b[39;00m \u001b[38;5;28;01mNone\u001b[39;00m:\n\u001b[1;32m-> 1166\u001b[0m         \u001b[38;5;28;01mreturn\u001b[39;00m \u001b[38;5;28;43mself\u001b[39;49m\u001b[38;5;241;43m.\u001b[39;49m\u001b[43m_sslobj\u001b[49m\u001b[38;5;241;43m.\u001b[39;49m\u001b[43mread\u001b[49m\u001b[43m(\u001b[49m\u001b[38;5;28;43mlen\u001b[39;49m\u001b[43m,\u001b[49m\u001b[43m \u001b[49m\u001b[43mbuffer\u001b[49m\u001b[43m)\u001b[49m\n\u001b[0;32m   1167\u001b[0m     \u001b[38;5;28;01melse\u001b[39;00m:\n\u001b[0;32m   1168\u001b[0m         \u001b[38;5;28;01mreturn\u001b[39;00m \u001b[38;5;28mself\u001b[39m\u001b[38;5;241m.\u001b[39m_sslobj\u001b[38;5;241m.\u001b[39mread(\u001b[38;5;28mlen\u001b[39m)\n",
      "\u001b[1;31mKeyboardInterrupt\u001b[0m: "
     ]
    }
   ],
   "source": [
    "# Login to Hopsworks\n",
    "project = hopsworks.login(api_key_value = str(hopsworks_api_key))\n",
    "\n",
    "# Get the feature store\n",
    "fs = project.get_feature_store()"
   ]
  },
  {
   "cell_type": "code",
   "execution_count": null,
   "id": "d7679487",
   "metadata": {},
   "outputs": [
    {
     "name": "stdout",
     "output_type": "stream",
     "text": [
      "Feature Group created successfully, explore it at \n",
      "https://c.app.hopsworks.ai:443/p/1212597/fs/1200226/fg/1401055\n"
     ]
    },
    {
     "name": "stderr",
     "output_type": "stream",
     "text": [
      "Uploading Dataframe: 100.00% |██████████| Rows 15834/15834 | Elapsed Time: 00:04 | Remaining Time: 00:00\n"
     ]
    },
    {
     "name": "stdout",
     "output_type": "stream",
     "text": [
      "Launching job: amazon_stock_prices_1_offline_fg_materialization\n",
      "Job started successfully, you can follow the progress at \n",
      "https://c.app.hopsworks.ai:443/p/1212597/jobs/named/amazon_stock_prices_1_offline_fg_materialization/executions\n"
     ]
    },
    {
     "data": {
      "text/plain": [
       "(Job('amazon_stock_prices_1_offline_fg_materialization', 'SPARK'), None)"
      ]
     },
     "execution_count": 12,
     "metadata": {},
     "output_type": "execute_result"
    }
   ],
   "source": [
    "# Create feature group\n",
    "amazon_fg = fs.get_or_create_feature_group(\n",
    "    name=\"amazon_stock_prices\",\n",
    "    description=\"Amazon last 5 year stock prices\",\n",
    "    version=1,\n",
    "    online_enabled=True,\n",
    "    primary_key=[\"id\"],\n",
    "    event_time=\"date\"\n",
    ")\n",
    "\n",
    "# Insert into feature group\n",
    "amazon_fg.insert(data)"
   ]
  },
  {
   "cell_type": "code",
   "execution_count": null,
   "id": "517acef5",
   "metadata": {},
   "outputs": [],
   "source": [
    "# Create a list of dictionaries with column names and descriptions\n",
    "column_descriptions = [\n",
    "    {'name': 'date', 'description': 'The date and time of the stock data'},\n",
    "    {'name': 'close', 'description': 'The closing price of the stock'},\n",
    "    {'name': 'high', 'description': 'The highest price of the stock during the period'},\n",
    "    {'name': 'low', 'description': 'The lowest price of the stock during the period'},\n",
    "    {'name': 'open', 'description': 'The opening price of the stock'},\n",
    "    {'name': 'id', 'description': 'primary key'}\n",
    "]\n",
    "\n",
    "for desc in column_descriptions:\n",
    "    amazon_fg.update_feature_description(desc['name'], desc['description'])"
   ]
  },
  {
   "cell_type": "code",
   "execution_count": null,
   "id": "23b23caa",
   "metadata": {},
   "outputs": [],
   "source": []
  }
 ],
 "metadata": {
  "kernelspec": {
   "display_name": ".venv",
   "language": "python",
   "name": "python3"
  },
  "language_info": {
   "codemirror_mode": {
    "name": "ipython",
    "version": 3
   },
   "file_extension": ".py",
   "mimetype": "text/x-python",
   "name": "python",
   "nbconvert_exporter": "python",
   "pygments_lexer": "ipython3",
   "version": "3.11.9"
  }
 },
 "nbformat": 4,
 "nbformat_minor": 5
}

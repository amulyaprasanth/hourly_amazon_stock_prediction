{
 "cells": [
  {
   "cell_type": "markdown",
   "id": "b56973f1-8307-4fb9-b26d-31232c89ccf2",
   "metadata": {},
   "source": [
    "# Stock Feature Pipeline\n",
    "\n",
    "This notebook converts the raw data from the apis into model inputs\n"
   ]
  },
  {
   "cell_type": "code",
   "execution_count": null,
   "id": "542b3969-d8cf-4cb6-adcf-837d6bdf703b",
   "metadata": {},
   "outputs": [],
   "source": [
    "# Import the required libraries and load in the environment variables\n",
    "import hopsworks\n",
    "import os\n",
    "from dotenv import load_dotenv\n",
    "import yfinance as yf\n",
    "import pandas as pd\n",
    "import matplotlib.pyplot as plt\n",
    "\n",
    "# Load the .env file\n",
    "load_dotenv()\n",
    "\n",
    "# Get the environment variables\n",
    "hopsworks_api_key = os.getenv(\"HOPSWORKS_API_KEY\")\n"
   ]
  },
  {
   "cell_type": "markdown",
   "id": "ed631dbf-8085-48dc-a5cb-d7ae8c69698d",
   "metadata": {},
   "source": [
    "### Getting Data From API\n"
   ]
  },
  {
   "cell_type": "code",
   "execution_count": null,
   "id": "3c0ed013",
   "metadata": {},
   "outputs": [],
   "source": [
    "def fetch_historical_data(ticker: str = \"AMZN\", period: str = \"2y\", interval: str = \"1h\") -> pd.DataFrame: \n",
    "    \"\"\"\n",
    "    Fetch historical stock data for a given ticker, period, and interval.\n",
    "\n",
    "    Parameters:\n",
    "    ticker (str): The stock ticker symbol (default is \"AMZN\").\n",
    "    period (str): The period over which to fetch data (default is \"2y\").\n",
    "    interval (str): The interval between data points (default is \"1h\").\n",
    "\n",
    "    Returns:\n",
    "    pd.DataFrame: A DataFrame containing the historical stock data with the following modifications:\n",
    "        - Index reset to convert the date index into a column.\n",
    "        - Time zone information removed from the 'Datetime' column.\n",
    "        - Column names converted to lower case.\n",
    "        - An 'id' column added as a primary key, which is a string representation of the 'datetime' column.\n",
    "    \"\"\"\n",
    "    data = pd.DataFrame(yf.download(tickers=ticker, period=period, interval=interval, multi_level_index=False))\n",
    "\n",
    "    # Reset the index to convert the date index into a column\n",
    "    data = data.reset_index()\n",
    "\n",
    "    # Remove the time zone information from the 'Datetime' column\n",
    "    data['Datetime'] = pd.to_datetime(data['Datetime'].dt.strftime('%Y-%m-%d %H:%M:%S'))\n",
    "\n",
    "    # Rename columns to lower case for consistency\n",
    "    data.columns = [column.lower() for column in data.columns]\n",
    "\n",
    "    # Add the 'id' column as a primary key, which is a string representation of the 'datetime' column\n",
    "    data[\"id\"] = [str(date) for date in data['datetime']]\n",
    "    \n",
    "    return data"
   ]
  },
  {
   "cell_type": "code",
   "execution_count": null,
   "id": "e17b7784",
   "metadata": {},
   "outputs": [
    {
     "name": "stderr",
     "output_type": "stream",
     "text": [
      "[*********************100%***********************]  1 of 1 completed\n"
     ]
    },
    {
     "data": {
      "text/html": [
       "<div>\n",
       "<style scoped>\n",
       "    .dataframe tbody tr th:only-of-type {\n",
       "        vertical-align: middle;\n",
       "    }\n",
       "\n",
       "    .dataframe tbody tr th {\n",
       "        vertical-align: top;\n",
       "    }\n",
       "\n",
       "    .dataframe thead th {\n",
       "        text-align: right;\n",
       "    }\n",
       "</style>\n",
       "<table border=\"1\" class=\"dataframe\">\n",
       "  <thead>\n",
       "    <tr style=\"text-align: right;\">\n",
       "      <th></th>\n",
       "      <th>datetime</th>\n",
       "      <th>close</th>\n",
       "      <th>high</th>\n",
       "      <th>low</th>\n",
       "      <th>open</th>\n",
       "      <th>volume</th>\n",
       "      <th>id</th>\n",
       "    </tr>\n",
       "  </thead>\n",
       "  <tbody>\n",
       "    <tr>\n",
       "      <th>0</th>\n",
       "      <td>2023-02-22 14:30:00</td>\n",
       "      <td>95.699997</td>\n",
       "      <td>97.010002</td>\n",
       "      <td>94.800003</td>\n",
       "      <td>95.099998</td>\n",
       "      <td>15243384</td>\n",
       "      <td>2023-02-22 14:30:00</td>\n",
       "    </tr>\n",
       "    <tr>\n",
       "      <th>1</th>\n",
       "      <td>2023-02-22 15:30:00</td>\n",
       "      <td>96.218399</td>\n",
       "      <td>96.980003</td>\n",
       "      <td>95.650002</td>\n",
       "      <td>95.690002</td>\n",
       "      <td>8365097</td>\n",
       "      <td>2023-02-22 15:30:00</td>\n",
       "    </tr>\n",
       "    <tr>\n",
       "      <th>2</th>\n",
       "      <td>2023-02-22 16:30:00</td>\n",
       "      <td>96.025597</td>\n",
       "      <td>96.550003</td>\n",
       "      <td>95.710098</td>\n",
       "      <td>96.220001</td>\n",
       "      <td>4727154</td>\n",
       "      <td>2023-02-22 16:30:00</td>\n",
       "    </tr>\n",
       "    <tr>\n",
       "      <th>3</th>\n",
       "      <td>2023-02-22 17:30:00</td>\n",
       "      <td>96.139999</td>\n",
       "      <td>96.300003</td>\n",
       "      <td>95.879997</td>\n",
       "      <td>96.029999</td>\n",
       "      <td>3013457</td>\n",
       "      <td>2023-02-22 17:30:00</td>\n",
       "    </tr>\n",
       "    <tr>\n",
       "      <th>4</th>\n",
       "      <td>2023-02-22 18:30:00</td>\n",
       "      <td>95.529999</td>\n",
       "      <td>96.308403</td>\n",
       "      <td>95.250000</td>\n",
       "      <td>96.155800</td>\n",
       "      <td>5525224</td>\n",
       "      <td>2023-02-22 18:30:00</td>\n",
       "    </tr>\n",
       "  </tbody>\n",
       "</table>\n",
       "</div>"
      ],
      "text/plain": [
       "             datetime      close       high        low       open    volume  \\\n",
       "0 2023-02-22 14:30:00  95.699997  97.010002  94.800003  95.099998  15243384   \n",
       "1 2023-02-22 15:30:00  96.218399  96.980003  95.650002  95.690002   8365097   \n",
       "2 2023-02-22 16:30:00  96.025597  96.550003  95.710098  96.220001   4727154   \n",
       "3 2023-02-22 17:30:00  96.139999  96.300003  95.879997  96.029999   3013457   \n",
       "4 2023-02-22 18:30:00  95.529999  96.308403  95.250000  96.155800   5525224   \n",
       "\n",
       "                    id  \n",
       "0  2023-02-22 14:30:00  \n",
       "1  2023-02-22 15:30:00  \n",
       "2  2023-02-22 16:30:00  \n",
       "3  2023-02-22 17:30:00  \n",
       "4  2023-02-22 18:30:00  "
      ]
     },
     "execution_count": 17,
     "metadata": {},
     "output_type": "execute_result"
    }
   ],
   "source": [
    "data = fetch_historical_data()\n",
    "data.head()"
   ]
  },
  {
   "cell_type": "code",
   "execution_count": 18,
   "id": "889ae82f",
   "metadata": {},
   "outputs": [
    {
     "name": "stdout",
     "output_type": "stream",
     "text": [
      "<class 'pandas.core.frame.DataFrame'>\n",
      "RangeIndex: 3494 entries, 0 to 3493\n",
      "Data columns (total 7 columns):\n",
      " #   Column    Non-Null Count  Dtype         \n",
      "---  ------    --------------  -----         \n",
      " 0   datetime  3494 non-null   datetime64[ns]\n",
      " 1   close     3494 non-null   float64       \n",
      " 2   high      3494 non-null   float64       \n",
      " 3   low       3494 non-null   float64       \n",
      " 4   open      3494 non-null   float64       \n",
      " 5   volume    3494 non-null   int64         \n",
      " 6   id        3494 non-null   object        \n",
      "dtypes: datetime64[ns](1), float64(4), int64(1), object(1)\n",
      "memory usage: 191.2+ KB\n"
     ]
    }
   ],
   "source": [
    "data.info()"
   ]
  },
  {
   "cell_type": "code",
   "execution_count": 20,
   "id": "b1a818dc",
   "metadata": {},
   "outputs": [
    {
     "data": {
      "image/png": "[encoded data removed]",
      "text/plain": [
       "<Figure size 1000x700 with 1 Axes>"
      ]
     },
     "metadata": {},
     "output_type": "display_data"
    }
   ],
   "source": [
    "\n",
    "plt.figure(figsize=(10, 7))\n",
    "plt.plot(data['datetime'], data['close'], label='Close Price')\n",
    "plt.title(\"Amazon Stock Price Trends (Last 2 Years) - Close Price\")\n",
    "plt.show()"
   ]
  },
  {
   "cell_type": "markdown",
   "id": "e87af53d",
   "metadata": {},
   "source": [
    "## Feature Engineering\n"
   ]
  },
  {
   "cell_type": "code",
   "execution_count": 31,
   "id": "23d666f9",
   "metadata": {},
   "outputs": [],
   "source": [
    "from ta.momentum import RSIIndicator\n",
    "from ta.trend import CCIIndicator\n",
    "\n",
    "def calculate_indicators(data: pd.DataFrame) -> pd.DataFrame:\n",
    "    \"\"\"\n",
    "    Calculates RSI and CCI indicators for the given stock data.\n",
    "\n",
    "    Args:\n",
    "        data (pd.DataFrame): The stock data.\n",
    "\n",
    "    Returns:\n",
    "        pd.DataFrame: The stock data with RSI and CCI indicators.\n",
    "    \"\"\"\n",
    "    rsi = RSIIndicator(data['close']).rsi()\n",
    "    cci = CCIIndicator(data['high'], data['low'], data['close']).cci()\n",
    "    data['rsi'] = rsi\n",
    "    data['cci'] = cci\n",
    "\n",
    "    return data.dropna()"
   ]
  },
  {
   "cell_type": "code",
   "execution_count": 32,
   "id": "5047cfcb",
   "metadata": {},
   "outputs": [
    {
     "data": {
      "text/html": [
       "<div>\n",
       "<style scoped>\n",
       "    .dataframe tbody tr th:only-of-type {\n",
       "        vertical-align: middle;\n",
       "    }\n",
       "\n",
       "    .dataframe tbody tr th {\n",
       "        vertical-align: top;\n",
       "    }\n",
       "\n",
       "    .dataframe thead th {\n",
       "        text-align: right;\n",
       "    }\n",
       "</style>\n",
       "<table border=\"1\" class=\"dataframe\">\n",
       "  <thead>\n",
       "    <tr style=\"text-align: right;\">\n",
       "      <th></th>\n",
       "      <th>datetime</th>\n",
       "      <th>close</th>\n",
       "      <th>high</th>\n",
       "      <th>low</th>\n",
       "      <th>open</th>\n",
       "      <th>volume</th>\n",
       "      <th>id</th>\n",
       "      <th>rsi</th>\n",
       "      <th>cci</th>\n",
       "    </tr>\n",
       "  </thead>\n",
       "  <tbody>\n",
       "    <tr>\n",
       "      <th>19</th>\n",
       "      <td>2023-02-24 19:30:00</td>\n",
       "      <td>92.823997</td>\n",
       "      <td>93.235001</td>\n",
       "      <td>92.669899</td>\n",
       "      <td>92.970001</td>\n",
       "      <td>4999767</td>\n",
       "      <td>2023-02-24 19:30:00</td>\n",
       "      <td>32.315574</td>\n",
       "      <td>-105.323194</td>\n",
       "    </tr>\n",
       "    <tr>\n",
       "      <th>20</th>\n",
       "      <td>2023-02-24 20:30:00</td>\n",
       "      <td>93.489998</td>\n",
       "      <td>93.650002</td>\n",
       "      <td>92.529999</td>\n",
       "      <td>92.824997</td>\n",
       "      <td>8320491</td>\n",
       "      <td>2023-02-24 20:30:00</td>\n",
       "      <td>40.248223</td>\n",
       "      <td>-77.804206</td>\n",
       "    </tr>\n",
       "    <tr>\n",
       "      <th>21</th>\n",
       "      <td>2023-02-27 14:30:00</td>\n",
       "      <td>94.352097</td>\n",
       "      <td>94.779999</td>\n",
       "      <td>93.620003</td>\n",
       "      <td>94.279999</td>\n",
       "      <td>10798576</td>\n",
       "      <td>2023-02-27 14:30:00</td>\n",
       "      <td>48.639464</td>\n",
       "      <td>-15.820844</td>\n",
       "    </tr>\n",
       "    <tr>\n",
       "      <th>22</th>\n",
       "      <td>2023-02-27 15:30:00</td>\n",
       "      <td>93.680000</td>\n",
       "      <td>94.371002</td>\n",
       "      <td>93.230003</td>\n",
       "      <td>94.355003</td>\n",
       "      <td>7009890</td>\n",
       "      <td>2023-02-27 15:30:00</td>\n",
       "      <td>43.509454</td>\n",
       "      <td>-39.282996</td>\n",
       "    </tr>\n",
       "    <tr>\n",
       "      <th>23</th>\n",
       "      <td>2023-02-27 16:30:00</td>\n",
       "      <td>93.650002</td>\n",
       "      <td>93.779999</td>\n",
       "      <td>93.379997</td>\n",
       "      <td>93.681602</td>\n",
       "      <td>3575581</td>\n",
       "      <td>2023-02-27 16:30:00</td>\n",
       "      <td>43.289985</td>\n",
       "      <td>-43.533943</td>\n",
       "    </tr>\n",
       "  </tbody>\n",
       "</table>\n",
       "</div>"
      ],
      "text/plain": [
       "              datetime      close       high        low       open    volume  \\\n",
       "19 2023-02-24 19:30:00  92.823997  93.235001  92.669899  92.970001   4999767   \n",
       "20 2023-02-24 20:30:00  93.489998  93.650002  92.529999  92.824997   8320491   \n",
       "21 2023-02-27 14:30:00  94.352097  94.779999  93.620003  94.279999  10798576   \n",
       "22 2023-02-27 15:30:00  93.680000  94.371002  93.230003  94.355003   7009890   \n",
       "23 2023-02-27 16:30:00  93.650002  93.779999  93.379997  93.681602   3575581   \n",
       "\n",
       "                     id        rsi         cci  \n",
       "19  2023-02-24 19:30:00  32.315574 -105.323194  \n",
       "20  2023-02-24 20:30:00  40.248223  -77.804206  \n",
       "21  2023-02-27 14:30:00  48.639464  -15.820844  \n",
       "22  2023-02-27 15:30:00  43.509454  -39.282996  \n",
       "23  2023-02-27 16:30:00  43.289985  -43.533943  "
      ]
     },
     "execution_count": 32,
     "metadata": {},
     "output_type": "execute_result"
    }
   ],
   "source": [
    "# Calculate indicators\n",
    "data = calculate_indicators(data)\n",
    "\n",
    "data.head()"
   ]
  },
  {
   "cell_type": "code",
   "execution_count": 33,
   "id": "ac513360",
   "metadata": {},
   "outputs": [
    {
     "data": {
      "text/html": [
       "<div>\n",
       "<style scoped>\n",
       "    .dataframe tbody tr th:only-of-type {\n",
       "        vertical-align: middle;\n",
       "    }\n",
       "\n",
       "    .dataframe tbody tr th {\n",
       "        vertical-align: top;\n",
       "    }\n",
       "\n",
       "    .dataframe thead th {\n",
       "        text-align: right;\n",
       "    }\n",
       "</style>\n",
       "<table border=\"1\" class=\"dataframe\">\n",
       "  <thead>\n",
       "    <tr style=\"text-align: right;\">\n",
       "      <th></th>\n",
       "      <th>datetime</th>\n",
       "      <th>close</th>\n",
       "      <th>high</th>\n",
       "      <th>low</th>\n",
       "      <th>open</th>\n",
       "      <th>volume</th>\n",
       "      <th>id</th>\n",
       "      <th>rsi</th>\n",
       "      <th>cci</th>\n",
       "    </tr>\n",
       "  </thead>\n",
       "  <tbody>\n",
       "    <tr>\n",
       "      <th>3489</th>\n",
       "      <td>2025-02-21 16:30:00</td>\n",
       "      <td>217.630005</td>\n",
       "      <td>219.740005</td>\n",
       "      <td>217.399994</td>\n",
       "      <td>219.250000</td>\n",
       "      <td>4778204</td>\n",
       "      <td>2025-02-21 16:30:00</td>\n",
       "      <td>23.488227</td>\n",
       "      <td>-201.945381</td>\n",
       "    </tr>\n",
       "    <tr>\n",
       "      <th>3490</th>\n",
       "      <td>2025-02-21 17:30:00</td>\n",
       "      <td>216.049698</td>\n",
       "      <td>217.690598</td>\n",
       "      <td>215.949997</td>\n",
       "      <td>217.630005</td>\n",
       "      <td>7934021</td>\n",
       "      <td>2025-02-21 17:30:00</td>\n",
       "      <td>20.716787</td>\n",
       "      <td>-215.456538</td>\n",
       "    </tr>\n",
       "    <tr>\n",
       "      <th>3491</th>\n",
       "      <td>2025-02-21 18:30:00</td>\n",
       "      <td>214.960007</td>\n",
       "      <td>216.500000</td>\n",
       "      <td>214.740005</td>\n",
       "      <td>216.039993</td>\n",
       "      <td>6070526</td>\n",
       "      <td>2025-02-21 18:30:00</td>\n",
       "      <td>19.047821</td>\n",
       "      <td>-207.864825</td>\n",
       "    </tr>\n",
       "    <tr>\n",
       "      <th>3492</th>\n",
       "      <td>2025-02-21 19:30:00</td>\n",
       "      <td>216.439896</td>\n",
       "      <td>216.479904</td>\n",
       "      <td>214.750107</td>\n",
       "      <td>214.970001</td>\n",
       "      <td>5888288</td>\n",
       "      <td>2025-02-21 19:30:00</td>\n",
       "      <td>27.580595</td>\n",
       "      <td>-155.573258</td>\n",
       "    </tr>\n",
       "    <tr>\n",
       "      <th>3493</th>\n",
       "      <td>2025-02-21 20:30:00</td>\n",
       "      <td>216.490005</td>\n",
       "      <td>216.850006</td>\n",
       "      <td>215.630005</td>\n",
       "      <td>216.440002</td>\n",
       "      <td>5715615</td>\n",
       "      <td>2025-02-21 20:30:00</td>\n",
       "      <td>27.857881</td>\n",
       "      <td>-121.195865</td>\n",
       "    </tr>\n",
       "  </tbody>\n",
       "</table>\n",
       "</div>"
      ],
      "text/plain": [
       "                datetime       close        high         low        open  \\\n",
       "3489 2025-02-21 16:30:00  217.630005  219.740005  217.399994  219.250000   \n",
       "3490 2025-02-21 17:30:00  216.049698  217.690598  215.949997  217.630005   \n",
       "3491 2025-02-21 18:30:00  214.960007  216.500000  214.740005  216.039993   \n",
       "3492 2025-02-21 19:30:00  216.439896  216.479904  214.750107  214.970001   \n",
       "3493 2025-02-21 20:30:00  216.490005  216.850006  215.630005  216.440002   \n",
       "\n",
       "       volume                   id        rsi         cci  \n",
       "3489  4778204  2025-02-21 16:30:00  23.488227 -201.945381  \n",
       "3490  7934021  2025-02-21 17:30:00  20.716787 -215.456538  \n",
       "3491  6070526  2025-02-21 18:30:00  19.047821 -207.864825  \n",
       "3492  5888288  2025-02-21 19:30:00  27.580595 -155.573258  \n",
       "3493  5715615  2025-02-21 20:30:00  27.857881 -121.195865  "
      ]
     },
     "execution_count": 33,
     "metadata": {},
     "output_type": "execute_result"
    }
   ],
   "source": [
    "data.tail()"
   ]
  },
  {
   "cell_type": "markdown",
   "id": "2cddba7a",
   "metadata": {},
   "source": [
    "## Data Ingestion to Feature Store\n"
   ]
  },
  {
   "cell_type": "code",
   "execution_count": 21,
   "id": "d7a16963",
   "metadata": {},
   "outputs": [
    {
     "name": "stdout",
     "output_type": "stream",
     "text": [
      "2025-02-22 14:59:32,653 INFO: Closing external client and cleaning up certificates.\n",
      "Connection closed.\n",
      "2025-02-22 14:59:32,655 INFO: Initializing external client\n",
      "2025-02-22 14:59:32,656 INFO: Base URL: https://c.app.hopsworks.ai:443\n",
      "2025-02-22 14:59:35,312 INFO: Python Engine initialized.\n",
      "\n",
      "Logged in to project, explore it here https://c.app.hopsworks.ai:443/p/1212597\n"
     ]
    }
   ],
   "source": [
    "# Login to Hopsworks\n",
    "project = hopsworks.login(api_key_value = str(hopsworks_api_key))\n",
    "\n",
    "# Get the feature store\n",
    "fs = project.get_feature_store()"
   ]
  },
  {
   "cell_type": "code",
   "execution_count": 34,
   "id": "d7679487",
   "metadata": {},
   "outputs": [
    {
     "name": "stdout",
     "output_type": "stream",
     "text": [
      "Feature Group created successfully, explore it at \n",
      "https://c.app.hopsworks.ai:443/p/1212597/fs/1200226/fg/1401447\n"
     ]
    },
    {
     "name": "stderr",
     "output_type": "stream",
     "text": [
      "Uploading Dataframe: 100.00% |██████████| Rows 3475/3475 | Elapsed Time: 00:03 | Remaining Time: 00:00\n"
     ]
    },
    {
     "name": "stdout",
     "output_type": "stream",
     "text": [
      "Launching job: amazon_stock_prices_1_offline_fg_materialization\n",
      "Job started successfully, you can follow the progress at \n",
      "https://c.app.hopsworks.ai:443/p/1212597/jobs/named/amazon_stock_prices_1_offline_fg_materialization/executions\n"
     ]
    },
    {
     "data": {
      "text/plain": [
       "(Job('amazon_stock_prices_1_offline_fg_materialization', 'SPARK'), None)"
      ]
     },
     "execution_count": 34,
     "metadata": {},
     "output_type": "execute_result"
    }
   ],
   "source": [
    "# Create feature group\n",
    "amazon_fg = fs.get_or_create_feature_group(\n",
    "    name=\"amazon_stock_prices\",\n",
    "    description=\"Amazon last 5 year stock prices\",\n",
    "    version=1,\n",
    "    online_enabled=True,\n",
    "    primary_key=[\"id\"],\n",
    "    event_time=\"datetime\"\n",
    ")\n",
    "\n",
    "# Insert into feature group\n",
    "amazon_fg.insert(data)"
   ]
  },
  {
   "cell_type": "code",
   "execution_count": 35,
   "id": "517acef5",
   "metadata": {},
   "outputs": [],
   "source": [
    "# Create a list of dictionaries with column names and descriptions\n",
    "column_descriptions = [\n",
    "    {'name': 'datetime', 'description': 'The date and time of the stock data'},\n",
    "    {'name': 'close', 'description': 'The closing price of the stock'},\n",
    "    {'name': 'high', 'description': 'The highest price of the stock during the period'},\n",
    "    {'name': 'low', 'description': 'The lowest price of the stock during the period'},\n",
    "    {'name': 'open', 'description': 'The opening price of the stock'},\n",
    "    {'name': 'volume', 'description': 'The total number of shares or contacts traded during the period'},\n",
    "    {'name': 'rsi', 'description': 'Relative Strength Index (RSI) for the stock'},\n",
    "    {'name': 'cci', 'description': 'Commodity Channel Index (CCI) for the stock' },\n",
    "    {'name': 'id', 'description': 'primary key'}\n",
    "]\n",
    "\n",
    "for desc in column_descriptions:\n",
    "    amazon_fg.update_feature_description(desc['name'], desc['description'])"
   ]
  },
  {
   "cell_type": "code",
   "execution_count": null,
   "id": "23b23caa",
   "metadata": {},
   "outputs": [],
   "source": []
  }
 ],
 "metadata": {
  "kernelspec": {
   "display_name": ".venv",
   "language": "python",
   "name": "python3"
  },
  "language_info": {
   "codemirror_mode": {
    "name": "ipython",
    "version": 3
   },
   "file_extension": ".py",
   "mimetype": "text/x-python",
   "name": "python",
   "nbconvert_exporter": "python",
   "pygments_lexer": "ipython3",
   "version": "3.11.9"
  }
 },
 "nbformat": 4,
 "nbformat_minor": 5
}

{
 "cells": [
  {
   "cell_type": "markdown",
   "id": "b56973f1-8307-4fb9-b26d-31232c89ccf2",
   "metadata": {},
   "source": [
    "# Stock Feature Pipeline\n",
    "\n",
    "This notebook converts the raw data from the apis into model inputs\n"
   ]
  },
  {
   "cell_type": "code",
   "execution_count": 1,
   "id": "542b3969-d8cf-4cb6-adcf-837d6bdf703b",
   "metadata": {},
   "outputs": [],
   "source": [
    "# Import the required libraries and load in the environment variables\n",
    "import hopsworks\n",
    "import os\n",
    "from dotenv import load_dotenv\n",
    "\n",
    "import requests\n",
    "import pandas as pd\n",
    "from tqdm import tqdm\n",
    "import matplotlib.pyplot as plt\n",
    "\n",
    "\n",
    "plt.style.use('grayscale')\n",
    "\n",
    "# Load the .env file\n",
    "load_dotenv()\n",
    "\n",
    "# Get the environment variables\n",
    "tiingo_api_key = os.getenv(\"TIINGO_API_KEY\")\n",
    "hopsworks_api_key = os.getenv(\"HOPSWORKS_API_KEY\")\n",
    "alpha_vantage_key = os.getenv(\"ALPHA_VANTAGE_KEY\")"
   ]
  },
  {
   "cell_type": "markdown",
   "id": "ed631dbf-8085-48dc-a5cb-d7ae8c69698d",
   "metadata": {},
   "source": [
    "### Getting Data From API\n"
   ]
  },
  {
   "cell_type": "markdown",
   "id": "321572e2",
   "metadata": {},
   "source": [
    "#### Generate Dataset from API getting last year data\n"
   ]
  },
  {
   "cell_type": "code",
   "execution_count": 2,
   "id": "2b31ba51",
   "metadata": {},
   "outputs": [],
   "source": [
    "\n",
    "def create_dataset_chunk(start_date: str, end_date: str, ticker=\"AMZN\", freq: str = '60min') -> pd.DataFrame:\n",
    "\n",
    "    # Format the url with start_data, end_data and freq\n",
    "    url = f\"https://api.tiingo.com/iex/{ticker}/prices?startDate={start_date}&endDate={end_date}&resampleFreq={freq}&token={tiingo_api_key}\"\n",
    "    response = requests.get(url).json()\n",
    "\n",
    "    return pd.DataFrame(response)\n",
    "\n",
    "\n",
    "# df = create_dataset_chunk(\"2024-01-01\", \"2024-02-29\")  # Test the function"
   ]
  },
  {
   "cell_type": "code",
   "execution_count": 3,
   "id": "8d9fe306",
   "metadata": {},
   "outputs": [
    {
     "name": "stdout",
     "output_type": "stream",
     "text": [
      "2023 2024\n"
     ]
    }
   ],
   "source": [
    "years = [2023, 2024]\n",
    "\n",
    "for i in range(len(years) - 1):\n",
    "    print(years[i], years[i + 1])"
   ]
  },
  {
   "cell_type": "code",
   "execution_count": 4,
   "id": "dcb13241",
   "metadata": {},
   "outputs": [],
   "source": [
    "\n",
    "def create_supervised_dataset(years: list, ticker: str = \"AMZN\", freq: str = '60min') -> pd.DataFrame:\n",
    "    \"\"\"\n",
    "    Generates a supervised dataset from DataFrame chunks based on the provided date ranges.\n",
    "\n",
    "    Args:\n",
    "        dates (dict): A dictionary where keys are start dates and values are end dates.\n",
    "        ticker (str): The stock ticker symbol. Default is \"AMZN\".\n",
    "        freq (str): The frequency of the data. Default is '60min'.\n",
    "\n",
    "    Returns:\n",
    "        pd.DataFrame: A DataFrame containing the concatenated data for all date ranges.\n",
    "    \"\"\"\n",
    "    # Initialize an empty DataFrame to store the concatenated data\n",
    "    data = pd.DataFrame(create_dataset_chunk(start_date='2022-06-07', end_date='2022-12-31', ticker=ticker, freq=freq))\n",
    "\n",
    "    # Iterate over each date range in the dates dictionary\n",
    "    for i in tqdm(range(len(years) - 1)):\n",
    "        # Create a DataFrame chunk for the given date range, ticker, and frequency\n",
    "        df = create_dataset_chunk(\n",
    "            start_date=f\"{years[i]}-01-01\", end_date=f\"{years[i+1]}-12-31\", ticker=ticker, freq=freq)\n",
    "\n",
    "        # Concatenate the new chunk with the existing data\n",
    "        data = pd.concat([data, df])\n",
    "\n",
    "        # Get the current year stock market data\n",
    "    data = pd.concat([data, create_dataset_chunk('2025-01-01', '2025-02-20')])\n",
    "\n",
    "    # Change the date column to datetime format\n",
    "    data['date'] = data['date'].map(lambda x: x.split('.')[0])\n",
    "    data['date'] = pd.to_datetime(data['date'])\n",
    "\n",
    "    # Set the index as the date column\n",
    "    data = data.set_index(\"date\")\n",
    "    # Return the concatenated DataFrame\n",
    "    return data.sort_index()"
   ]
  },
  {
   "cell_type": "code",
   "execution_count": 5,
   "id": "61e9e4b4",
   "metadata": {},
   "outputs": [
    {
     "name": "stderr",
     "output_type": "stream",
     "text": [
      "100%|██████████| 1/1 [00:02<00:00,  2.58s/it]\n"
     ]
    },
    {
     "data": {
      "text/html": [
       "<div>\n",
       "<style scoped>\n",
       "    .dataframe tbody tr th:only-of-type {\n",
       "        vertical-align: middle;\n",
       "    }\n",
       "\n",
       "    .dataframe tbody tr th {\n",
       "        vertical-align: top;\n",
       "    }\n",
       "\n",
       "    .dataframe thead th {\n",
       "        text-align: right;\n",
       "    }\n",
       "</style>\n",
       "<table border=\"1\" class=\"dataframe\">\n",
       "  <thead>\n",
       "    <tr style=\"text-align: right;\">\n",
       "      <th></th>\n",
       "      <th>close</th>\n",
       "      <th>high</th>\n",
       "      <th>low</th>\n",
       "      <th>open</th>\n",
       "    </tr>\n",
       "    <tr>\n",
       "      <th>date</th>\n",
       "      <th></th>\n",
       "      <th></th>\n",
       "      <th></th>\n",
       "      <th></th>\n",
       "    </tr>\n",
       "  </thead>\n",
       "  <tbody>\n",
       "    <tr>\n",
       "      <th>2022-06-07 14:00:00</th>\n",
       "      <td>123.350</td>\n",
       "      <td>124.090</td>\n",
       "      <td>121.55</td>\n",
       "      <td>122.440</td>\n",
       "    </tr>\n",
       "    <tr>\n",
       "      <th>2022-06-07 15:00:00</th>\n",
       "      <td>122.420</td>\n",
       "      <td>123.375</td>\n",
       "      <td>121.53</td>\n",
       "      <td>123.360</td>\n",
       "    </tr>\n",
       "    <tr>\n",
       "      <th>2022-06-07 16:00:00</th>\n",
       "      <td>121.670</td>\n",
       "      <td>122.500</td>\n",
       "      <td>121.03</td>\n",
       "      <td>122.500</td>\n",
       "    </tr>\n",
       "    <tr>\n",
       "      <th>2022-06-07 17:00:00</th>\n",
       "      <td>122.085</td>\n",
       "      <td>122.475</td>\n",
       "      <td>121.40</td>\n",
       "      <td>121.680</td>\n",
       "    </tr>\n",
       "    <tr>\n",
       "      <th>2022-06-07 18:00:00</th>\n",
       "      <td>122.190</td>\n",
       "      <td>122.810</td>\n",
       "      <td>121.95</td>\n",
       "      <td>122.085</td>\n",
       "    </tr>\n",
       "  </tbody>\n",
       "</table>\n",
       "</div>"
      ],
      "text/plain": [
       "                       close     high     low     open\n",
       "date                                                  \n",
       "2022-06-07 14:00:00  123.350  124.090  121.55  122.440\n",
       "2022-06-07 15:00:00  122.420  123.375  121.53  123.360\n",
       "2022-06-07 16:00:00  121.670  122.500  121.03  122.500\n",
       "2022-06-07 17:00:00  122.085  122.475  121.40  121.680\n",
       "2022-06-07 18:00:00  122.190  122.810  121.95  122.085"
      ]
     },
     "execution_count": 5,
     "metadata": {},
     "output_type": "execute_result"
    }
   ],
   "source": [
    "# Call the function\n",
    "data = create_supervised_dataset(years, \"AMZN\")\n",
    "\n",
    "data.head()"
   ]
  },
  {
   "cell_type": "code",
   "execution_count": 6,
   "id": "6fe0772b",
   "metadata": {},
   "outputs": [
    {
     "data": {
      "text/html": [
       "<div>\n",
       "<style scoped>\n",
       "    .dataframe tbody tr th:only-of-type {\n",
       "        vertical-align: middle;\n",
       "    }\n",
       "\n",
       "    .dataframe tbody tr th {\n",
       "        vertical-align: top;\n",
       "    }\n",
       "\n",
       "    .dataframe thead th {\n",
       "        text-align: right;\n",
       "    }\n",
       "</style>\n",
       "<table border=\"1\" class=\"dataframe\">\n",
       "  <thead>\n",
       "    <tr style=\"text-align: right;\">\n",
       "      <th></th>\n",
       "      <th>close</th>\n",
       "      <th>high</th>\n",
       "      <th>low</th>\n",
       "      <th>open</th>\n",
       "    </tr>\n",
       "    <tr>\n",
       "      <th>date</th>\n",
       "      <th></th>\n",
       "      <th></th>\n",
       "      <th></th>\n",
       "      <th></th>\n",
       "    </tr>\n",
       "  </thead>\n",
       "  <tbody>\n",
       "    <tr>\n",
       "      <th>2022-06-07 14:00:00</th>\n",
       "      <td>123.350</td>\n",
       "      <td>124.090</td>\n",
       "      <td>121.55</td>\n",
       "      <td>122.440</td>\n",
       "    </tr>\n",
       "    <tr>\n",
       "      <th>2022-06-07 15:00:00</th>\n",
       "      <td>122.420</td>\n",
       "      <td>123.375</td>\n",
       "      <td>121.53</td>\n",
       "      <td>123.360</td>\n",
       "    </tr>\n",
       "    <tr>\n",
       "      <th>2022-06-07 16:00:00</th>\n",
       "      <td>121.670</td>\n",
       "      <td>122.500</td>\n",
       "      <td>121.03</td>\n",
       "      <td>122.500</td>\n",
       "    </tr>\n",
       "    <tr>\n",
       "      <th>2022-06-07 17:00:00</th>\n",
       "      <td>122.085</td>\n",
       "      <td>122.475</td>\n",
       "      <td>121.40</td>\n",
       "      <td>121.680</td>\n",
       "    </tr>\n",
       "    <tr>\n",
       "      <th>2022-06-07 18:00:00</th>\n",
       "      <td>122.190</td>\n",
       "      <td>122.810</td>\n",
       "      <td>121.95</td>\n",
       "      <td>122.085</td>\n",
       "    </tr>\n",
       "    <tr>\n",
       "      <th>2022-06-07 19:00:00</th>\n",
       "      <td>123.000</td>\n",
       "      <td>123.540</td>\n",
       "      <td>122.17</td>\n",
       "      <td>122.190</td>\n",
       "    </tr>\n",
       "    <tr>\n",
       "      <th>2022-06-08 14:00:00</th>\n",
       "      <td>122.575</td>\n",
       "      <td>123.700</td>\n",
       "      <td>122.25</td>\n",
       "      <td>123.300</td>\n",
       "    </tr>\n",
       "    <tr>\n",
       "      <th>2022-06-08 15:00:00</th>\n",
       "      <td>122.670</td>\n",
       "      <td>123.250</td>\n",
       "      <td>122.08</td>\n",
       "      <td>122.575</td>\n",
       "    </tr>\n",
       "    <tr>\n",
       "      <th>2022-06-08 16:00:00</th>\n",
       "      <td>121.565</td>\n",
       "      <td>122.860</td>\n",
       "      <td>121.02</td>\n",
       "      <td>122.600</td>\n",
       "    </tr>\n",
       "    <tr>\n",
       "      <th>2022-06-08 17:00:00</th>\n",
       "      <td>121.475</td>\n",
       "      <td>121.560</td>\n",
       "      <td>120.79</td>\n",
       "      <td>121.500</td>\n",
       "    </tr>\n",
       "  </tbody>\n",
       "</table>\n",
       "</div>"
      ],
      "text/plain": [
       "                       close     high     low     open\n",
       "date                                                  \n",
       "2022-06-07 14:00:00  123.350  124.090  121.55  122.440\n",
       "2022-06-07 15:00:00  122.420  123.375  121.53  123.360\n",
       "2022-06-07 16:00:00  121.670  122.500  121.03  122.500\n",
       "2022-06-07 17:00:00  122.085  122.475  121.40  121.680\n",
       "2022-06-07 18:00:00  122.190  122.810  121.95  122.085\n",
       "2022-06-07 19:00:00  123.000  123.540  122.17  122.190\n",
       "2022-06-08 14:00:00  122.575  123.700  122.25  123.300\n",
       "2022-06-08 15:00:00  122.670  123.250  122.08  122.575\n",
       "2022-06-08 16:00:00  121.565  122.860  121.02  122.600\n",
       "2022-06-08 17:00:00  121.475  121.560  120.79  121.500"
      ]
     },
     "execution_count": 6,
     "metadata": {},
     "output_type": "execute_result"
    }
   ],
   "source": [
    "data.head(10)"
   ]
  },
  {
   "cell_type": "code",
   "execution_count": 7,
   "id": "2f7ffab0",
   "metadata": {},
   "outputs": [
    {
     "data": {
      "text/html": [
       "<div>\n",
       "<style scoped>\n",
       "    .dataframe tbody tr th:only-of-type {\n",
       "        vertical-align: middle;\n",
       "    }\n",
       "\n",
       "    .dataframe tbody tr th {\n",
       "        vertical-align: top;\n",
       "    }\n",
       "\n",
       "    .dataframe thead th {\n",
       "        text-align: right;\n",
       "    }\n",
       "</style>\n",
       "<table border=\"1\" class=\"dataframe\">\n",
       "  <thead>\n",
       "    <tr style=\"text-align: right;\">\n",
       "      <th></th>\n",
       "      <th>close</th>\n",
       "      <th>high</th>\n",
       "      <th>low</th>\n",
       "      <th>open</th>\n",
       "    </tr>\n",
       "    <tr>\n",
       "      <th>date</th>\n",
       "      <th></th>\n",
       "      <th></th>\n",
       "      <th></th>\n",
       "      <th></th>\n",
       "    </tr>\n",
       "  </thead>\n",
       "  <tbody>\n",
       "    <tr>\n",
       "      <th>2025-02-20 16:00:00</th>\n",
       "      <td>222.38</td>\n",
       "      <td>223.070</td>\n",
       "      <td>221.810</td>\n",
       "      <td>222.085</td>\n",
       "    </tr>\n",
       "    <tr>\n",
       "      <th>2025-02-20 17:00:00</th>\n",
       "      <td>222.57</td>\n",
       "      <td>223.035</td>\n",
       "      <td>222.110</td>\n",
       "      <td>222.370</td>\n",
       "    </tr>\n",
       "    <tr>\n",
       "      <th>2025-02-20 18:00:00</th>\n",
       "      <td>222.27</td>\n",
       "      <td>222.580</td>\n",
       "      <td>222.180</td>\n",
       "      <td>222.560</td>\n",
       "    </tr>\n",
       "    <tr>\n",
       "      <th>2025-02-20 19:00:00</th>\n",
       "      <td>222.49</td>\n",
       "      <td>222.830</td>\n",
       "      <td>222.040</td>\n",
       "      <td>222.270</td>\n",
       "    </tr>\n",
       "    <tr>\n",
       "      <th>2025-02-20 20:00:00</th>\n",
       "      <td>222.85</td>\n",
       "      <td>223.080</td>\n",
       "      <td>222.335</td>\n",
       "      <td>222.490</td>\n",
       "    </tr>\n",
       "  </tbody>\n",
       "</table>\n",
       "</div>"
      ],
      "text/plain": [
       "                      close     high      low     open\n",
       "date                                                  \n",
       "2025-02-20 16:00:00  222.38  223.070  221.810  222.085\n",
       "2025-02-20 17:00:00  222.57  223.035  222.110  222.370\n",
       "2025-02-20 18:00:00  222.27  222.580  222.180  222.560\n",
       "2025-02-20 19:00:00  222.49  222.830  222.040  222.270\n",
       "2025-02-20 20:00:00  222.85  223.080  222.335  222.490"
      ]
     },
     "execution_count": 7,
     "metadata": {},
     "output_type": "execute_result"
    }
   ],
   "source": [
    "data.tail()"
   ]
  },
  {
   "cell_type": "code",
   "execution_count": 8,
   "id": "b1a818dc",
   "metadata": {},
   "outputs": [
    {
     "data": {
      "image/png": "[encoded data removed]",
      "text/plain": [
       "<Figure size 1000x700 with 1 Axes>"
      ]
     },
     "metadata": {},
     "output_type": "display_data"
    }
   ],
   "source": [
    "\n",
    "plt.figure(figsize=(10, 7))\n",
    "plt.plot(data.index, data[\"close\"])\n",
    "plt.show()"
   ]
  },
  {
   "cell_type": "markdown",
   "id": "2cddba7a",
   "metadata": {},
   "source": [
    "## Data Ingestion to Feature Store\n"
   ]
  },
  {
   "cell_type": "code",
   "execution_count": 9,
   "id": "fc4240c0",
   "metadata": {},
   "outputs": [],
   "source": [
    "# reset the index \n",
    "data = data.reset_index()\n",
    "\n",
    "# Add the id column as primary key\n",
    "data[\"id\"] = [str(date) for date in data['date']]"
   ]
  },
  {
   "cell_type": "code",
   "execution_count": 10,
   "id": "3b5d0491",
   "metadata": {},
   "outputs": [
    {
     "data": {
      "text/html": [
       "<div>\n",
       "<style scoped>\n",
       "    .dataframe tbody tr th:only-of-type {\n",
       "        vertical-align: middle;\n",
       "    }\n",
       "\n",
       "    .dataframe tbody tr th {\n",
       "        vertical-align: top;\n",
       "    }\n",
       "\n",
       "    .dataframe thead th {\n",
       "        text-align: right;\n",
       "    }\n",
       "</style>\n",
       "<table border=\"1\" class=\"dataframe\">\n",
       "  <thead>\n",
       "    <tr style=\"text-align: right;\">\n",
       "      <th></th>\n",
       "      <th>date</th>\n",
       "      <th>close</th>\n",
       "      <th>high</th>\n",
       "      <th>low</th>\n",
       "      <th>open</th>\n",
       "      <th>id</th>\n",
       "    </tr>\n",
       "  </thead>\n",
       "  <tbody>\n",
       "    <tr>\n",
       "      <th>0</th>\n",
       "      <td>2022-06-07 14:00:00</td>\n",
       "      <td>123.350</td>\n",
       "      <td>124.090</td>\n",
       "      <td>121.55</td>\n",
       "      <td>122.440</td>\n",
       "      <td>2022-06-07 14:00:00</td>\n",
       "    </tr>\n",
       "    <tr>\n",
       "      <th>1</th>\n",
       "      <td>2022-06-07 15:00:00</td>\n",
       "      <td>122.420</td>\n",
       "      <td>123.375</td>\n",
       "      <td>121.53</td>\n",
       "      <td>123.360</td>\n",
       "      <td>2022-06-07 15:00:00</td>\n",
       "    </tr>\n",
       "    <tr>\n",
       "      <th>2</th>\n",
       "      <td>2022-06-07 16:00:00</td>\n",
       "      <td>121.670</td>\n",
       "      <td>122.500</td>\n",
       "      <td>121.03</td>\n",
       "      <td>122.500</td>\n",
       "      <td>2022-06-07 16:00:00</td>\n",
       "    </tr>\n",
       "    <tr>\n",
       "      <th>3</th>\n",
       "      <td>2022-06-07 17:00:00</td>\n",
       "      <td>122.085</td>\n",
       "      <td>122.475</td>\n",
       "      <td>121.40</td>\n",
       "      <td>121.680</td>\n",
       "      <td>2022-06-07 17:00:00</td>\n",
       "    </tr>\n",
       "    <tr>\n",
       "      <th>4</th>\n",
       "      <td>2022-06-07 18:00:00</td>\n",
       "      <td>122.190</td>\n",
       "      <td>122.810</td>\n",
       "      <td>121.95</td>\n",
       "      <td>122.085</td>\n",
       "      <td>2022-06-07 18:00:00</td>\n",
       "    </tr>\n",
       "  </tbody>\n",
       "</table>\n",
       "</div>"
      ],
      "text/plain": [
       "                 date    close     high     low     open                   id\n",
       "0 2022-06-07 14:00:00  123.350  124.090  121.55  122.440  2022-06-07 14:00:00\n",
       "1 2022-06-07 15:00:00  122.420  123.375  121.53  123.360  2022-06-07 15:00:00\n",
       "2 2022-06-07 16:00:00  121.670  122.500  121.03  122.500  2022-06-07 16:00:00\n",
       "3 2022-06-07 17:00:00  122.085  122.475  121.40  121.680  2022-06-07 17:00:00\n",
       "4 2022-06-07 18:00:00  122.190  122.810  121.95  122.085  2022-06-07 18:00:00"
      ]
     },
     "execution_count": 10,
     "metadata": {},
     "output_type": "execute_result"
    }
   ],
   "source": [
    "data.head()"
   ]
  },
  {
   "cell_type": "code",
   "execution_count": 11,
   "id": "d7a16963",
   "metadata": {},
   "outputs": [
    {
     "name": "stdout",
     "output_type": "stream",
     "text": [
      "2025-02-21 21:06:26,129 INFO: Initializing external client\n",
      "2025-02-21 21:06:26,129 INFO: Base URL: https://c.app.hopsworks.ai:443\n",
      "2025-02-21 21:06:29,130 INFO: Python Engine initialized.\n",
      "\n",
      "Logged in to project, explore it here https://c.app.hopsworks.ai:443/p/1212597\n"
     ]
    }
   ],
   "source": [
    "# Login to Hopsworks\n",
    "project = hopsworks.login(api_key_value = str(hopsworks_api_key))\n",
    "\n",
    "# Get the feature store\n",
    "fs = project.get_feature_store()"
   ]
  },
  {
   "cell_type": "code",
   "execution_count": 12,
   "id": "d7679487",
   "metadata": {},
   "outputs": [
    {
     "name": "stdout",
     "output_type": "stream",
     "text": [
      "Feature Group created successfully, explore it at \n",
      "https://c.app.hopsworks.ai:443/p/1212597/fs/1200226/fg/1401414\n"
     ]
    },
    {
     "name": "stderr",
     "output_type": "stream",
     "text": [
      "Uploading Dataframe: 100.00% |██████████| Rows 4236/4236 | Elapsed Time: 00:04 | Remaining Time: 00:00\n"
     ]
    },
    {
     "name": "stdout",
     "output_type": "stream",
     "text": [
      "Launching job: amazon_stock_prices_1_offline_fg_materialization\n",
      "Job started successfully, you can follow the progress at \n",
      "https://c.app.hopsworks.ai:443/p/1212597/jobs/named/amazon_stock_prices_1_offline_fg_materialization/executions\n"
     ]
    },
    {
     "data": {
      "text/plain": [
       "(Job('amazon_stock_prices_1_offline_fg_materialization', 'SPARK'), None)"
      ]
     },
     "execution_count": 12,
     "metadata": {},
     "output_type": "execute_result"
    }
   ],
   "source": [
    "# Create feature group\n",
    "amazon_fg = fs.get_or_create_feature_group(\n",
    "    name=\"amazon_stock_prices\",\n",
    "    description=\"Amazon last 5 year stock prices\",\n",
    "    version=1,\n",
    "    online_enabled=True,\n",
    "    primary_key=[\"id\"],\n",
    "    event_time=\"date\"\n",
    ")\n",
    "\n",
    "# Insert into feature group\n",
    "amazon_fg.insert(data)"
   ]
  },
  {
   "cell_type": "code",
   "execution_count": 13,
   "id": "517acef5",
   "metadata": {},
   "outputs": [],
   "source": [
    "# Create a list of dictionaries with column names and descriptions\n",
    "column_descriptions = [\n",
    "    {'name': 'date', 'description': 'The date and time of the stock data'},\n",
    "    {'name': 'close', 'description': 'The closing price of the stock'},\n",
    "    {'name': 'high', 'description': 'The highest price of the stock during the period'},\n",
    "    {'name': 'low', 'description': 'The lowest price of the stock during the period'},\n",
    "    {'name': 'open', 'description': 'The opening price of the stock'},\n",
    "    {'name': 'id', 'description': 'primary key'}\n",
    "]\n",
    "\n",
    "for desc in column_descriptions:\n",
    "    amazon_fg.update_feature_description(desc['name'], desc['description'])"
   ]
  },
  {
   "cell_type": "code",
   "execution_count": null,
   "id": "23b23caa",
   "metadata": {},
   "outputs": [],
   "source": []
  }
 ],
 "metadata": {
  "kernelspec": {
   "display_name": ".venv",
   "language": "python",
   "name": "python3"
  },
  "language_info": {
   "codemirror_mode": {
    "name": "ipython",
    "version": 3
   },
   "file_extension": ".py",
   "mimetype": "text/x-python",
   "name": "python",
   "nbconvert_exporter": "python",
   "pygments_lexer": "ipython3",
   "version": "3.11.9"
  }
 },
 "nbformat": 4,
 "nbformat_minor": 5
}

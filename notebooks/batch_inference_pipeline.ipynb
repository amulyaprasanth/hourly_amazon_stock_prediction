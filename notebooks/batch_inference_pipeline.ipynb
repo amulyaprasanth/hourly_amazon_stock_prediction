{
 "cells": [
  {
   "cell_type": "markdown",
   "metadata": {},
   "source": [
    "# Batch Inference Pipeline\n"
   ]
  },
  {
   "cell_type": "markdown",
   "metadata": {},
   "source": [
    "## 1. Import necessary libraries\n"
   ]
  },
  {
   "cell_type": "code",
   "execution_count": 1,
   "metadata": {},
   "outputs": [
    {
     "name": "stderr",
     "output_type": "stream",
     "text": [
      "d:\\Documents\\Projects\\hourly_amazon_stock_prediction\\.venv\\Lib\\site-packages\\tqdm\\auto.py:21: TqdmWarning: IProgress not found. Please update jupyter and ipywidgets. See https://ipywidgets.readthedocs.io/en/stable/user_install.html\n",
      "  from .autonotebook import tqdm as notebook_tqdm\n"
     ]
    }
   ],
   "source": [
    "import os\n",
    "import hopsworks\n",
    "import joblib\n",
    "import numpy as np\n",
    "from dotenv import load_dotenv\n",
    "load_dotenv()\n",
    "\n",
    "# Get the environment variables\n",
    "hopsworks_api_key = os.getenv(\"HOPSWORKS_API_KEY\")"
   ]
  },
  {
   "cell_type": "markdown",
   "metadata": {},
   "source": [
    "## 2. Login to Hopsworks, get the batch data and model\n"
   ]
  },
  {
   "cell_type": "markdown",
   "metadata": {},
   "source": [
    "### 2.1 Login to Hopsworks\n"
   ]
  },
  {
   "cell_type": "code",
   "execution_count": 2,
   "metadata": {},
   "outputs": [
    {
     "name": "stdout",
     "output_type": "stream",
     "text": [
      "2025-03-08 10:07:09,705 INFO: Initializing external client\n",
      "2025-03-08 10:07:09,709 INFO: Base URL: https://c.app.hopsworks.ai:443\n",
      "2025-03-08 10:07:15,347 INFO: Python Engine initialized.\n",
      "\n",
      "Logged in to project, explore it here https://c.app.hopsworks.ai:443/p/1212597\n"
     ]
    }
   ],
   "source": [
    "# login to hopsworks\n",
    "project = hopsworks.login(api_key_value=str(hopsworks_api_key))\n",
    "\n",
    "# get the feature store and feature view\n",
    "fs = project.get_feature_store()\n",
    "mr = project.get_model_registry()\n",
    "fv = fs.get_feature_view(\"amazon_fv\", version=1)"
   ]
  },
  {
   "cell_type": "markdown",
   "metadata": {},
   "source": [
    "### 2.2 Download the best model based on rmse\n"
   ]
  },
  {
   "cell_type": "code",
   "execution_count": 3,
   "metadata": {},
   "outputs": [],
   "source": [
    "EVALUATION_METRIC=\"rmse\"  \n",
    "SORT_METRICS_BY=\"min\"\n",
    "\n",
    "# get best model based on custom metrics\n",
    "best_model = mr.get_best_model(\"amazon_stock_price_prediction_model_xgboost\",\n",
    "                               EVALUATION_METRIC,\n",
    "                               SORT_METRICS_BY)\n"
   ]
  },
  {
   "cell_type": "code",
   "execution_count": 4,
   "metadata": {},
   "outputs": [
    {
     "name": "stdout",
     "output_type": "stream",
     "text": [
      "Downloading model artifact (0 dirs, 1 files)... DONE\r"
     ]
    },
    {
     "data": {
      "text/plain": [
       "'../models/xgboost_model'"
      ]
     },
     "execution_count": 4,
     "metadata": {},
     "output_type": "execute_result"
    }
   ],
   "source": [
    "# Download the model\n",
    "if not os.path.exists(\"../models/xgboost_model\"):\n",
    "    os.makedirs(\"../models/xgboost_model\")\n",
    "best_model.download(\"../models/xgboost_model\")"
   ]
  },
  {
   "cell_type": "markdown",
   "metadata": {},
   "source": [
    "### 2.3 Prepare the data for inference\n"
   ]
  },
  {
   "cell_type": "code",
   "execution_count": 5,
   "metadata": {},
   "outputs": [
    {
     "name": "stdout",
     "output_type": "stream",
     "text": [
      "Finished: Reading data from Hopsworks, using Hopsworks Feature Query Service (2.17s) \n"
     ]
    },
    {
     "data": {
      "text/html": [
       "<div>\n",
       "<style scoped>\n",
       "    .dataframe tbody tr th:only-of-type {\n",
       "        vertical-align: middle;\n",
       "    }\n",
       "\n",
       "    .dataframe tbody tr th {\n",
       "        vertical-align: top;\n",
       "    }\n",
       "\n",
       "    .dataframe thead th {\n",
       "        text-align: right;\n",
       "    }\n",
       "</style>\n",
       "<table border=\"1\" class=\"dataframe\">\n",
       "  <thead>\n",
       "    <tr style=\"text-align: right;\">\n",
       "      <th></th>\n",
       "      <th>datetime</th>\n",
       "      <th>open</th>\n",
       "      <th>high</th>\n",
       "      <th>close</th>\n",
       "      <th>low</th>\n",
       "      <th>volume</th>\n",
       "      <th>rsi</th>\n",
       "      <th>cci</th>\n",
       "    </tr>\n",
       "  </thead>\n",
       "  <tbody>\n",
       "    <tr>\n",
       "      <th>3458</th>\n",
       "      <td>2025-03-04 14:30:00+00:00</td>\n",
       "      <td>200.110001</td>\n",
       "      <td>202.100006</td>\n",
       "      <td>198.350006</td>\n",
       "      <td>197.432007</td>\n",
       "      <td>18755863</td>\n",
       "      <td>24.264700</td>\n",
       "      <td>-298.490628</td>\n",
       "    </tr>\n",
       "    <tr>\n",
       "      <th>1444</th>\n",
       "      <td>2025-03-04 15:30:00+00:00</td>\n",
       "      <td>198.270004</td>\n",
       "      <td>199.990005</td>\n",
       "      <td>199.404999</td>\n",
       "      <td>197.929993</td>\n",
       "      <td>8047180</td>\n",
       "      <td>27.833037</td>\n",
       "      <td>-236.149018</td>\n",
       "    </tr>\n",
       "    <tr>\n",
       "      <th>656</th>\n",
       "      <td>2025-03-04 16:30:00+00:00</td>\n",
       "      <td>199.389999</td>\n",
       "      <td>203.449997</td>\n",
       "      <td>203.065002</td>\n",
       "      <td>199.350006</td>\n",
       "      <td>6681653</td>\n",
       "      <td>38.635048</td>\n",
       "      <td>-133.357042</td>\n",
       "    </tr>\n",
       "    <tr>\n",
       "      <th>3435</th>\n",
       "      <td>2025-03-04 17:30:00+00:00</td>\n",
       "      <td>203.050003</td>\n",
       "      <td>203.759995</td>\n",
       "      <td>202.899994</td>\n",
       "      <td>201.910004</td>\n",
       "      <td>4598446</td>\n",
       "      <td>38.356300</td>\n",
       "      <td>-95.238190</td>\n",
       "    </tr>\n",
       "    <tr>\n",
       "      <th>2238</th>\n",
       "      <td>2025-03-04 18:30:00+00:00</td>\n",
       "      <td>202.899994</td>\n",
       "      <td>205.759995</td>\n",
       "      <td>204.850006</td>\n",
       "      <td>202.690002</td>\n",
       "      <td>4444550</td>\n",
       "      <td>43.540520</td>\n",
       "      <td>-52.653373</td>\n",
       "    </tr>\n",
       "    <tr>\n",
       "      <th>1774</th>\n",
       "      <td>2025-03-04 19:30:00+00:00</td>\n",
       "      <td>204.869995</td>\n",
       "      <td>206.800003</td>\n",
       "      <td>206.199997</td>\n",
       "      <td>204.389999</td>\n",
       "      <td>5216931</td>\n",
       "      <td>46.871706</td>\n",
       "      <td>-19.635454</td>\n",
       "    </tr>\n",
       "    <tr>\n",
       "      <th>457</th>\n",
       "      <td>2025-03-04 20:30:00+00:00</td>\n",
       "      <td>206.220001</td>\n",
       "      <td>206.389999</td>\n",
       "      <td>203.850006</td>\n",
       "      <td>203.029999</td>\n",
       "      <td>5483834</td>\n",
       "      <td>42.203689</td>\n",
       "      <td>-44.191887</td>\n",
       "    </tr>\n",
       "    <tr>\n",
       "      <th>61</th>\n",
       "      <td>2025-03-05 14:30:00+00:00</td>\n",
       "      <td>204.759995</td>\n",
       "      <td>206.409897</td>\n",
       "      <td>205.195007</td>\n",
       "      <td>203.259995</td>\n",
       "      <td>7710718</td>\n",
       "      <td>45.546350</td>\n",
       "      <td>-28.092445</td>\n",
       "    </tr>\n",
       "    <tr>\n",
       "      <th>2482</th>\n",
       "      <td>2025-03-05 15:30:00+00:00</td>\n",
       "      <td>205.205002</td>\n",
       "      <td>206.550003</td>\n",
       "      <td>205.445007</td>\n",
       "      <td>204.429993</td>\n",
       "      <td>3715484</td>\n",
       "      <td>46.169563</td>\n",
       "      <td>-12.394222</td>\n",
       "    </tr>\n",
       "    <tr>\n",
       "      <th>1439</th>\n",
       "      <td>2025-03-05 16:30:00+00:00</td>\n",
       "      <td>205.449997</td>\n",
       "      <td>207.350006</td>\n",
       "      <td>207.345001</td>\n",
       "      <td>204.070007</td>\n",
       "      <td>4547543</td>\n",
       "      <td>50.780061</td>\n",
       "      <td>9.106479</td>\n",
       "    </tr>\n",
       "    <tr>\n",
       "      <th>855</th>\n",
       "      <td>2025-03-05 17:30:00+00:00</td>\n",
       "      <td>207.369995</td>\n",
       "      <td>208.457504</td>\n",
       "      <td>207.679993</td>\n",
       "      <td>206.639999</td>\n",
       "      <td>4169321</td>\n",
       "      <td>51.567689</td>\n",
       "      <td>43.729990</td>\n",
       "    </tr>\n",
       "    <tr>\n",
       "      <th>587</th>\n",
       "      <td>2025-03-05 18:30:00+00:00</td>\n",
       "      <td>207.690002</td>\n",
       "      <td>209.979996</td>\n",
       "      <td>208.649994</td>\n",
       "      <td>207.050003</td>\n",
       "      <td>3471533</td>\n",
       "      <td>53.869611</td>\n",
       "      <td>69.856239</td>\n",
       "    </tr>\n",
       "    <tr>\n",
       "      <th>1607</th>\n",
       "      <td>2025-03-05 19:30:00+00:00</td>\n",
       "      <td>208.660004</td>\n",
       "      <td>209.639999</td>\n",
       "      <td>209.100403</td>\n",
       "      <td>208.149994</td>\n",
       "      <td>3797556</td>\n",
       "      <td>54.940540</td>\n",
       "      <td>86.881315</td>\n",
       "    </tr>\n",
       "    <tr>\n",
       "      <th>3051</th>\n",
       "      <td>2025-03-05 20:30:00+00:00</td>\n",
       "      <td>209.100006</td>\n",
       "      <td>209.119995</td>\n",
       "      <td>208.460007</td>\n",
       "      <td>207.919998</td>\n",
       "      <td>4220668</td>\n",
       "      <td>53.054620</td>\n",
       "      <td>82.659899</td>\n",
       "    </tr>\n",
       "    <tr>\n",
       "      <th>3477</th>\n",
       "      <td>2025-03-06 14:30:00+00:00</td>\n",
       "      <td>204.300003</td>\n",
       "      <td>205.669998</td>\n",
       "      <td>205.119995</td>\n",
       "      <td>202.160004</td>\n",
       "      <td>8693104</td>\n",
       "      <td>44.478856</td>\n",
       "      <td>-29.970652</td>\n",
       "    </tr>\n",
       "    <tr>\n",
       "      <th>3479</th>\n",
       "      <td>2025-03-06 15:30:00+00:00</td>\n",
       "      <td>205.119995</td>\n",
       "      <td>205.770004</td>\n",
       "      <td>203.835007</td>\n",
       "      <td>203.110001</td>\n",
       "      <td>3953955</td>\n",
       "      <td>41.687039</td>\n",
       "      <td>-26.941015</td>\n",
       "    </tr>\n",
       "    <tr>\n",
       "      <th>3481</th>\n",
       "      <td>2025-03-06 16:30:00+00:00</td>\n",
       "      <td>203.809998</td>\n",
       "      <td>204.559998</td>\n",
       "      <td>201.315002</td>\n",
       "      <td>201.110001</td>\n",
       "      <td>4610406</td>\n",
       "      <td>36.807722</td>\n",
       "      <td>-79.133830</td>\n",
       "    </tr>\n",
       "    <tr>\n",
       "      <th>3475</th>\n",
       "      <td>2025-03-06 17:30:00+00:00</td>\n",
       "      <td>201.310593</td>\n",
       "      <td>201.850006</td>\n",
       "      <td>200.835007</td>\n",
       "      <td>200.550003</td>\n",
       "      <td>4270556</td>\n",
       "      <td>35.944716</td>\n",
       "      <td>-107.701438</td>\n",
       "    </tr>\n",
       "    <tr>\n",
       "      <th>3478</th>\n",
       "      <td>2025-03-06 18:30:00+00:00</td>\n",
       "      <td>200.830002</td>\n",
       "      <td>201.119995</td>\n",
       "      <td>198.800003</td>\n",
       "      <td>198.470001</td>\n",
       "      <td>6250010</td>\n",
       "      <td>32.468913</td>\n",
       "      <td>-135.540917</td>\n",
       "    </tr>\n",
       "    <tr>\n",
       "      <th>3476</th>\n",
       "      <td>2025-03-06 19:30:00+00:00</td>\n",
       "      <td>198.770004</td>\n",
       "      <td>200.522003</td>\n",
       "      <td>199.520004</td>\n",
       "      <td>198.350006</td>\n",
       "      <td>7468306</td>\n",
       "      <td>34.868646</td>\n",
       "      <td>-114.768347</td>\n",
       "    </tr>\n",
       "    <tr>\n",
       "      <th>3480</th>\n",
       "      <td>2025-03-06 20:30:00+00:00</td>\n",
       "      <td>199.559998</td>\n",
       "      <td>200.740005</td>\n",
       "      <td>200.699997</td>\n",
       "      <td>198.919998</td>\n",
       "      <td>5767673</td>\n",
       "      <td>38.712458</td>\n",
       "      <td>-100.971312</td>\n",
       "    </tr>\n",
       "    <tr>\n",
       "      <th>3484</th>\n",
       "      <td>2025-03-07 14:30:00+00:00</td>\n",
       "      <td>199.339996</td>\n",
       "      <td>202.265305</td>\n",
       "      <td>199.425003</td>\n",
       "      <td>199.187607</td>\n",
       "      <td>9367161</td>\n",
       "      <td>36.225381</td>\n",
       "      <td>-100.815833</td>\n",
       "    </tr>\n",
       "    <tr>\n",
       "      <th>3485</th>\n",
       "      <td>2025-03-07 15:30:00+00:00</td>\n",
       "      <td>199.429993</td>\n",
       "      <td>199.440002</td>\n",
       "      <td>194.524994</td>\n",
       "      <td>194.399994</td>\n",
       "      <td>10284459</td>\n",
       "      <td>28.614784</td>\n",
       "      <td>-179.541599</td>\n",
       "    </tr>\n",
       "    <tr>\n",
       "      <th>3488</th>\n",
       "      <td>2025-03-07 16:30:00+00:00</td>\n",
       "      <td>194.539993</td>\n",
       "      <td>194.710007</td>\n",
       "      <td>193.919998</td>\n",
       "      <td>192.539993</td>\n",
       "      <td>9162595</td>\n",
       "      <td>27.837158</td>\n",
       "      <td>-188.716392</td>\n",
       "    </tr>\n",
       "    <tr>\n",
       "      <th>3487</th>\n",
       "      <td>2025-03-07 17:30:00+00:00</td>\n",
       "      <td>193.910004</td>\n",
       "      <td>197.800003</td>\n",
       "      <td>197.160095</td>\n",
       "      <td>193.589996</td>\n",
       "      <td>6790767</td>\n",
       "      <td>37.615153</td>\n",
       "      <td>-120.049339</td>\n",
       "    </tr>\n",
       "    <tr>\n",
       "      <th>3486</th>\n",
       "      <td>2025-03-07 18:30:00+00:00</td>\n",
       "      <td>197.210007</td>\n",
       "      <td>200.425003</td>\n",
       "      <td>200.335007</td>\n",
       "      <td>196.960007</td>\n",
       "      <td>8021795</td>\n",
       "      <td>45.419428</td>\n",
       "      <td>-58.898410</td>\n",
       "    </tr>\n",
       "    <tr>\n",
       "      <th>3483</th>\n",
       "      <td>2025-03-07 19:30:00+00:00</td>\n",
       "      <td>200.350006</td>\n",
       "      <td>200.500000</td>\n",
       "      <td>199.139999</td>\n",
       "      <td>198.770004</td>\n",
       "      <td>4747538</td>\n",
       "      <td>43.227447</td>\n",
       "      <td>-49.930058</td>\n",
       "    </tr>\n",
       "    <tr>\n",
       "      <th>3482</th>\n",
       "      <td>2025-03-07 20:30:00+00:00</td>\n",
       "      <td>199.130005</td>\n",
       "      <td>200.020004</td>\n",
       "      <td>199.270004</td>\n",
       "      <td>198.169998</td>\n",
       "      <td>4687031</td>\n",
       "      <td>43.546644</td>\n",
       "      <td>-50.432342</td>\n",
       "    </tr>\n",
       "  </tbody>\n",
       "</table>\n",
       "</div>"
      ],
      "text/plain": [
       "                      datetime        open        high       close  \\\n",
       "3458 2025-03-04 14:30:00+00:00  200.110001  202.100006  198.350006   \n",
       "1444 2025-03-04 15:30:00+00:00  198.270004  199.990005  199.404999   \n",
       "656  2025-03-04 16:30:00+00:00  199.389999  203.449997  203.065002   \n",
       "3435 2025-03-04 17:30:00+00:00  203.050003  203.759995  202.899994   \n",
       "2238 2025-03-04 18:30:00+00:00  202.899994  205.759995  204.850006   \n",
       "1774 2025-03-04 19:30:00+00:00  204.869995  206.800003  206.199997   \n",
       "457  2025-03-04 20:30:00+00:00  206.220001  206.389999  203.850006   \n",
       "61   2025-03-05 14:30:00+00:00  204.759995  206.409897  205.195007   \n",
       "2482 2025-03-05 15:30:00+00:00  205.205002  206.550003  205.445007   \n",
       "1439 2025-03-05 16:30:00+00:00  205.449997  207.350006  207.345001   \n",
       "855  2025-03-05 17:30:00+00:00  207.369995  208.457504  207.679993   \n",
       "587  2025-03-05 18:30:00+00:00  207.690002  209.979996  208.649994   \n",
       "1607 2025-03-05 19:30:00+00:00  208.660004  209.639999  209.100403   \n",
       "3051 2025-03-05 20:30:00+00:00  209.100006  209.119995  208.460007   \n",
       "3477 2025-03-06 14:30:00+00:00  204.300003  205.669998  205.119995   \n",
       "3479 2025-03-06 15:30:00+00:00  205.119995  205.770004  203.835007   \n",
       "3481 2025-03-06 16:30:00+00:00  203.809998  204.559998  201.315002   \n",
       "3475 2025-03-06 17:30:00+00:00  201.310593  201.850006  200.835007   \n",
       "3478 2025-03-06 18:30:00+00:00  200.830002  201.119995  198.800003   \n",
       "3476 2025-03-06 19:30:00+00:00  198.770004  200.522003  199.520004   \n",
       "3480 2025-03-06 20:30:00+00:00  199.559998  200.740005  200.699997   \n",
       "3484 2025-03-07 14:30:00+00:00  199.339996  202.265305  199.425003   \n",
       "3485 2025-03-07 15:30:00+00:00  199.429993  199.440002  194.524994   \n",
       "3488 2025-03-07 16:30:00+00:00  194.539993  194.710007  193.919998   \n",
       "3487 2025-03-07 17:30:00+00:00  193.910004  197.800003  197.160095   \n",
       "3486 2025-03-07 18:30:00+00:00  197.210007  200.425003  200.335007   \n",
       "3483 2025-03-07 19:30:00+00:00  200.350006  200.500000  199.139999   \n",
       "3482 2025-03-07 20:30:00+00:00  199.130005  200.020004  199.270004   \n",
       "\n",
       "             low    volume        rsi         cci  \n",
       "3458  197.432007  18755863  24.264700 -298.490628  \n",
       "1444  197.929993   8047180  27.833037 -236.149018  \n",
       "656   199.350006   6681653  38.635048 -133.357042  \n",
       "3435  201.910004   4598446  38.356300  -95.238190  \n",
       "2238  202.690002   4444550  43.540520  -52.653373  \n",
       "1774  204.389999   5216931  46.871706  -19.635454  \n",
       "457   203.029999   5483834  42.203689  -44.191887  \n",
       "61    203.259995   7710718  45.546350  -28.092445  \n",
       "2482  204.429993   3715484  46.169563  -12.394222  \n",
       "1439  204.070007   4547543  50.780061    9.106479  \n",
       "855   206.639999   4169321  51.567689   43.729990  \n",
       "587   207.050003   3471533  53.869611   69.856239  \n",
       "1607  208.149994   3797556  54.940540   86.881315  \n",
       "3051  207.919998   4220668  53.054620   82.659899  \n",
       "3477  202.160004   8693104  44.478856  -29.970652  \n",
       "3479  203.110001   3953955  41.687039  -26.941015  \n",
       "3481  201.110001   4610406  36.807722  -79.133830  \n",
       "3475  200.550003   4270556  35.944716 -107.701438  \n",
       "3478  198.470001   6250010  32.468913 -135.540917  \n",
       "3476  198.350006   7468306  34.868646 -114.768347  \n",
       "3480  198.919998   5767673  38.712458 -100.971312  \n",
       "3484  199.187607   9367161  36.225381 -100.815833  \n",
       "3485  194.399994  10284459  28.614784 -179.541599  \n",
       "3488  192.539993   9162595  27.837158 -188.716392  \n",
       "3487  193.589996   6790767  37.615153 -120.049339  \n",
       "3486  196.960007   8021795  45.419428  -58.898410  \n",
       "3483  198.770004   4747538  43.227447  -49.930058  \n",
       "3482  198.169998   4687031  43.546644  -50.432342  "
      ]
     },
     "execution_count": 5,
     "metadata": {},
     "output_type": "execute_result"
    }
   ],
   "source": [
    "# Get the last batch data from the feature view\n",
    "# Our batch contains last 28 days of data because we are using 28-day window for prediction\n",
    "window_size = 28\n",
    "\n",
    "# get the last batch data from the feature view\n",
    "last_batch_data = fv.get_batch_data().sort_values('datetime').iloc[-window_size:, :]\n",
    "\n",
    "last_batch_data"
   ]
  },
  {
   "cell_type": "code",
   "execution_count": 9,
   "metadata": {},
   "outputs": [
    {
     "data": {
      "text/plain": [
       "(1, 196)"
      ]
     },
     "execution_count": 9,
     "metadata": {},
     "output_type": "execute_result"
    }
   ],
   "source": [
    "# Reshape the data for input to xgboost\n",
    "last_batch_data_reshaped  = np.expand_dims(last_batch_data.drop('datetime', axis=1), axis=0).reshape(1, -1)\n",
    "last_batch_data_reshaped.shape"
   ]
  },
  {
   "cell_type": "markdown",
   "metadata": {},
   "source": [
    "## 3. Inference\n"
   ]
  },
  {
   "cell_type": "markdown",
   "metadata": {},
   "source": [
    "### 3.1 Load the model\n"
   ]
  },
  {
   "cell_type": "code",
   "execution_count": 10,
   "metadata": {},
   "outputs": [],
   "source": [
    "model = joblib.load(\"../models/xgboost_model/xgboost_model.pkl\")"
   ]
  },
  {
   "cell_type": "markdown",
   "metadata": {},
   "source": [
    "### 3.2 Make predictions\n"
   ]
  },
  {
   "cell_type": "code",
   "execution_count": 11,
   "metadata": {},
   "outputs": [],
   "source": [
    "predictions = model.predict(last_batch_data_reshaped)"
   ]
  },
  {
   "cell_type": "code",
   "execution_count": 12,
   "metadata": {},
   "outputs": [
    {
     "data": {
      "text/plain": [
       "array([[194.25198, 198.81454, 197.05263, 196.35185, 192.01303, 194.39842,\n",
       "        193.24477]], dtype=float32)"
      ]
     },
     "execution_count": 12,
     "metadata": {},
     "output_type": "execute_result"
    }
   ],
   "source": [
    "predictions"
   ]
  },
  {
   "cell_type": "markdown",
   "metadata": {},
   "source": [
    "### 3.3 Save the predictions to a DataFrame\n"
   ]
  },
  {
   "cell_type": "code",
   "execution_count": 13,
   "metadata": {},
   "outputs": [
    {
     "data": {
      "text/plain": [
       "['2025-03-08 14:30:00',\n",
       " '2025-03-08 15:30:00',\n",
       " '2025-03-08 16:30:00',\n",
       " '2025-03-08 17:30:00',\n",
       " '2025-03-08 18:30:00',\n",
       " '2025-03-08 19:30:00',\n",
       " '2025-03-08 20:30:00']"
      ]
     },
     "execution_count": 13,
     "metadata": {},
     "output_type": "execute_result"
    }
   ],
   "source": [
    "import datetime\n",
    "time_index = [\"14:30:00\", \"15:30:00\", \"16:30:00\", \"17:30:00\", \"18:30:00\", \"19:30:00\", \"20:30:00\"]\n",
    "\n",
    "# Add today's date to the time index\n",
    "\n",
    "today = datetime.date.today()\n",
    "today_str = today.strftime(\"%Y-%m-%d\")\n",
    "\n",
    "time_index = [f\"{today_str} {t}\" for t in time_index]\n",
    "\n",
    "time_index"
   ]
  },
  {
   "cell_type": "code",
   "execution_count": 14,
   "metadata": {},
   "outputs": [
    {
     "data": {
      "text/html": [
       "<div>\n",
       "<style scoped>\n",
       "    .dataframe tbody tr th:only-of-type {\n",
       "        vertical-align: middle;\n",
       "    }\n",
       "\n",
       "    .dataframe tbody tr th {\n",
       "        vertical-align: top;\n",
       "    }\n",
       "\n",
       "    .dataframe thead th {\n",
       "        text-align: right;\n",
       "    }\n",
       "</style>\n",
       "<table border=\"1\" class=\"dataframe\">\n",
       "  <thead>\n",
       "    <tr style=\"text-align: right;\">\n",
       "      <th></th>\n",
       "      <th>datetime</th>\n",
       "      <th>prediction</th>\n",
       "    </tr>\n",
       "  </thead>\n",
       "  <tbody>\n",
       "    <tr>\n",
       "      <th>0</th>\n",
       "      <td>2025-03-08 14:30:00</td>\n",
       "      <td>194.251984</td>\n",
       "    </tr>\n",
       "    <tr>\n",
       "      <th>1</th>\n",
       "      <td>2025-03-08 15:30:00</td>\n",
       "      <td>198.814545</td>\n",
       "    </tr>\n",
       "    <tr>\n",
       "      <th>2</th>\n",
       "      <td>2025-03-08 16:30:00</td>\n",
       "      <td>197.052628</td>\n",
       "    </tr>\n",
       "    <tr>\n",
       "      <th>3</th>\n",
       "      <td>2025-03-08 17:30:00</td>\n",
       "      <td>196.351852</td>\n",
       "    </tr>\n",
       "    <tr>\n",
       "      <th>4</th>\n",
       "      <td>2025-03-08 18:30:00</td>\n",
       "      <td>192.013031</td>\n",
       "    </tr>\n",
       "    <tr>\n",
       "      <th>5</th>\n",
       "      <td>2025-03-08 19:30:00</td>\n",
       "      <td>194.398422</td>\n",
       "    </tr>\n",
       "    <tr>\n",
       "      <th>6</th>\n",
       "      <td>2025-03-08 20:30:00</td>\n",
       "      <td>193.244766</td>\n",
       "    </tr>\n",
       "  </tbody>\n",
       "</table>\n",
       "</div>"
      ],
      "text/plain": [
       "             datetime  prediction\n",
       "0 2025-03-08 14:30:00  194.251984\n",
       "1 2025-03-08 15:30:00  198.814545\n",
       "2 2025-03-08 16:30:00  197.052628\n",
       "3 2025-03-08 17:30:00  196.351852\n",
       "4 2025-03-08 18:30:00  192.013031\n",
       "5 2025-03-08 19:30:00  194.398422\n",
       "6 2025-03-08 20:30:00  193.244766"
      ]
     },
     "execution_count": 14,
     "metadata": {},
     "output_type": "execute_result"
    }
   ],
   "source": [
    "# Create the Dataframe with predictions and time index\n",
    "import pandas as pd\n",
    "predictions_df = pd.DataFrame({\n",
    "    \"datetime\": time_index,\n",
    "    \"prediction\": predictions.squeeze()\n",
    "})\n",
    "\n",
    "predictions_df['datetime'] = pd.to_datetime(predictions_df['datetime'])\n",
    "\n",
    "predictions_df"
   ]
  },
  {
   "cell_type": "markdown",
   "metadata": {},
   "source": [
    "### 3.4 Upload the Predictions DataFrame to feature store\n"
   ]
  },
  {
   "cell_type": "code",
   "execution_count": 15,
   "metadata": {},
   "outputs": [
    {
     "data": {
      "text/html": [
       "<div>\n",
       "<style scoped>\n",
       "    .dataframe tbody tr th:only-of-type {\n",
       "        vertical-align: middle;\n",
       "    }\n",
       "\n",
       "    .dataframe tbody tr th {\n",
       "        vertical-align: top;\n",
       "    }\n",
       "\n",
       "    .dataframe thead th {\n",
       "        text-align: right;\n",
       "    }\n",
       "</style>\n",
       "<table border=\"1\" class=\"dataframe\">\n",
       "  <thead>\n",
       "    <tr style=\"text-align: right;\">\n",
       "      <th></th>\n",
       "      <th>datetime</th>\n",
       "      <th>prediction</th>\n",
       "      <th>id</th>\n",
       "    </tr>\n",
       "  </thead>\n",
       "  <tbody>\n",
       "    <tr>\n",
       "      <th>0</th>\n",
       "      <td>2025-03-08 14:30:00</td>\n",
       "      <td>194.251984</td>\n",
       "      <td>2025-03-08 14:30:00</td>\n",
       "    </tr>\n",
       "    <tr>\n",
       "      <th>1</th>\n",
       "      <td>2025-03-08 15:30:00</td>\n",
       "      <td>198.814545</td>\n",
       "      <td>2025-03-08 15:30:00</td>\n",
       "    </tr>\n",
       "    <tr>\n",
       "      <th>2</th>\n",
       "      <td>2025-03-08 16:30:00</td>\n",
       "      <td>197.052628</td>\n",
       "      <td>2025-03-08 16:30:00</td>\n",
       "    </tr>\n",
       "    <tr>\n",
       "      <th>3</th>\n",
       "      <td>2025-03-08 17:30:00</td>\n",
       "      <td>196.351852</td>\n",
       "      <td>2025-03-08 17:30:00</td>\n",
       "    </tr>\n",
       "    <tr>\n",
       "      <th>4</th>\n",
       "      <td>2025-03-08 18:30:00</td>\n",
       "      <td>192.013031</td>\n",
       "      <td>2025-03-08 18:30:00</td>\n",
       "    </tr>\n",
       "    <tr>\n",
       "      <th>5</th>\n",
       "      <td>2025-03-08 19:30:00</td>\n",
       "      <td>194.398422</td>\n",
       "      <td>2025-03-08 19:30:00</td>\n",
       "    </tr>\n",
       "    <tr>\n",
       "      <th>6</th>\n",
       "      <td>2025-03-08 20:30:00</td>\n",
       "      <td>193.244766</td>\n",
       "      <td>2025-03-08 20:30:00</td>\n",
       "    </tr>\n",
       "  </tbody>\n",
       "</table>\n",
       "</div>"
      ],
      "text/plain": [
       "             datetime  prediction                   id\n",
       "0 2025-03-08 14:30:00  194.251984  2025-03-08 14:30:00\n",
       "1 2025-03-08 15:30:00  198.814545  2025-03-08 15:30:00\n",
       "2 2025-03-08 16:30:00  197.052628  2025-03-08 16:30:00\n",
       "3 2025-03-08 17:30:00  196.351852  2025-03-08 17:30:00\n",
       "4 2025-03-08 18:30:00  192.013031  2025-03-08 18:30:00\n",
       "5 2025-03-08 19:30:00  194.398422  2025-03-08 19:30:00\n",
       "6 2025-03-08 20:30:00  193.244766  2025-03-08 20:30:00"
      ]
     },
     "execution_count": 15,
     "metadata": {},
     "output_type": "execute_result"
    }
   ],
   "source": [
    "# Create an id column to act as primary key in our feature group\n",
    "predictions_df['id'] = predictions_df['datetime'].dt.strftime('%Y-%m-%d %H:%M:%S')\n",
    "predictions_df"
   ]
  },
  {
   "cell_type": "code",
   "execution_count": 16,
   "metadata": {},
   "outputs": [
    {
     "name": "stdout",
     "output_type": "stream",
     "text": [
      "Feature Group created successfully, explore it at \n",
      "https://c.app.hopsworks.ai:443/p/1212597/fs/1200226/fg/1403702\n"
     ]
    },
    {
     "name": "stderr",
     "output_type": "stream",
     "text": [
      "Uploading Dataframe: 100.00% |██████████| Rows 7/7 | Elapsed Time: 00:02 | Remaining Time: 00:00\n"
     ]
    },
    {
     "name": "stdout",
     "output_type": "stream",
     "text": [
      "Launching job: amazon_stock_predictions_1_offline_fg_materialization\n",
      "Job started successfully, you can follow the progress at \n",
      "https://c.app.hopsworks.ai:443/p/1212597/jobs/named/amazon_stock_predictions_1_offline_fg_materialization/executions\n"
     ]
    },
    {
     "data": {
      "text/plain": [
       "(Job('amazon_stock_predictions_1_offline_fg_materialization', 'SPARK'), None)"
      ]
     },
     "execution_count": 16,
     "metadata": {},
     "output_type": "execute_result"
    }
   ],
   "source": [
    "# Upload the prediction dataframe to the feature store\n",
    "amazon_prediction_fg = fs.get_or_create_feature_group(\n",
    "    name=\"amazon_stock_predictions\",\n",
    "    description=\"Amazon stock predictions\",\n",
    "    version=1,\n",
    "    online_enabled=True,\n",
    "    primary_key=['id'],\n",
    "    event_time='datetime'\n",
    ")\n",
    "\n",
    "amazon_prediction_fg.insert(predictions_df)"
   ]
  },
  {
   "cell_type": "code",
   "execution_count": null,
   "metadata": {},
   "outputs": [],
   "source": []
  }
 ],
 "metadata": {
  "kernelspec": {
   "display_name": ".venv",
   "language": "python",
   "name": "python3"
  },
  "language_info": {
   "codemirror_mode": {
    "name": "ipython",
    "version": 3
   },
   "file_extension": ".py",
   "mimetype": "text/x-python",
   "name": "python",
   "nbconvert_exporter": "python",
   "pygments_lexer": "ipython3",
   "version": "3.11.9"
  }
 },
 "nbformat": 4,
 "nbformat_minor": 2
}

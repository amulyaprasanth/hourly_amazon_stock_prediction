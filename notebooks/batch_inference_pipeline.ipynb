{
 "cells": [
  {
   "cell_type": "markdown",
   "metadata": {},
   "source": [
    "# Batch Inference Pipeline\n",
    "\n",
    "In this notebook, we will do the following tasks:\n",
    "1. Create a batch inference pipeline using the pre-trained model.\n",
    "2. Run the pipeline and get the predictions.\n"
   ]
  },
  {
   "cell_type": "code",
   "execution_count": 1,
   "metadata": {},
   "outputs": [],
   "source": [
    "import hopsworks\n",
    "import os\n",
    "import json\n",
    "import torch\n",
    "import pandas as pd\n",
    "import numpy as np\n",
    "from dotenv import load_dotenv\n",
    "\n",
    "# Load the.env file\n",
    "load_dotenv()\n",
    "\n",
    "# Get the environment variables\n",
    "hopsworks_api_key = os.getenv(\"HOPSWORKS_API_KEY\")\n"
   ]
  },
  {
   "cell_type": "code",
   "execution_count": 2,
   "metadata": {},
   "outputs": [
    {
     "name": "stdout",
     "output_type": "stream",
     "text": [
      "2025-02-22 16:22:26,928 INFO: Initializing external client\n",
      "2025-02-22 16:22:26,930 INFO: Base URL: https://c.app.hopsworks.ai:443\n",
      "2025-02-22 16:22:30,567 INFO: Python Engine initialized.\n",
      "\n",
      "Logged in to project, explore it here https://c.app.hopsworks.ai:443/p/1212597\n"
     ]
    }
   ],
   "source": [
    "project = hopsworks.login(api_key_value=str(hopsworks_api_key))\n",
    "fs = project.get_feature_store()\n"
   ]
  },
  {
   "cell_type": "code",
   "execution_count": 3,
   "metadata": {},
   "outputs": [
    {
     "name": "stdout",
     "output_type": "stream",
     "text": [
      "2025-02-22 16:22:33,359 WARNING: DeprecationWarning: Providing event_time as a single-element list is deprecated and will be dropped in future versions. Provide the feature_name string instead.\n",
      "\n"
     ]
    }
   ],
   "source": [
    "#  Create feature group for storing predictions\n",
    "amazon_stock_predictions_fg = fs.create_feature_group(\"amazon_stock_predictions\", version=1, description=\"Predicted prices for Amazon stocks\", online_enabled=True, primary_key=[\"id\"], event_time=[\"datetime\"])\n"
   ]
  },
  {
   "cell_type": "markdown",
   "metadata": {},
   "source": [
    "### Get the model from model registry"
   ]
  },
  {
   "cell_type": "code",
   "execution_count": 4,
   "metadata": {},
   "outputs": [],
   "source": [
    "mr = project.get_model_registry()\n",
    "\n",
    "EVALUATION_METRIC=\"mean_squared_error\"  \n",
    "SORT_METRICS_BY=\"min\" # your sorting criteria\n",
    "\n",
    "# get best model based on custom metrics\n",
    "best_model = mr.get_best_model(\"amazon_stock_price_prediction_model_torch\",\n",
    "                               EVALUATION_METRIC,\n",
    "                               SORT_METRICS_BY)\n"
   ]
  },
  {
   "cell_type": "code",
   "execution_count": 5,
   "metadata": {},
   "outputs": [
    {
     "name": "stdout",
     "output_type": "stream",
     "text": [
      "Downloading model artifact (0 dirs, 1 files)... DONE\r"
     ]
    }
   ],
   "source": [
    "# Load the pre-trained model\n",
    "model_dir = \"../models/amazon_stock_price_prediction_model_torch\"\n",
    "best_model.download(model_dir)\n",
    "state_dict = torch.load(f\"{model_dir}/model.pt\", weights_only=True)\n",
    "\n",
    "\n",
    "with open(\"../preprocessor/hyper_params.json\", \"r\") as f:\n",
    "    hyper_params = json.load(f)"
   ]
  },
  {
   "cell_type": "code",
   "execution_count": 6,
   "metadata": {},
   "outputs": [],
   "source": [
    "# Create the model\n",
    "import torch\n",
    "from torch import nn\n",
    "class LSTMModel(nn.Module):\n",
    "    def __init__(self, input_dim: int, hidden_dim: int, output_dim: int, num_layers: int, device:str = 'cpu'):\n",
    "        super(LSTMModel, self).__init__()\n",
    "        self.hidden_dim = hidden_dim\n",
    "        self.num_layers = num_layers\n",
    "        self.device = device\n",
    "        \n",
    "\t\t# LSTM layer\n",
    "        self.lstm = nn.LSTM(input_dim, hidden_dim, num_layers, batch_first=True)\n",
    "        self.fc = nn.Linear(hidden_dim, output_dim)\n",
    "        \n",
    "\t# forward pass\n",
    "    def forward(self, x: torch.Tensor) -> torch.Tensor:\n",
    "        h0 = torch.zeros(self.num_layers, x.size(0), self.hidden_dim).to(self.device)\n",
    "        c0 = torch.zeros(self.num_layers, x.size(0), self.hidden_dim).to(self.device)\n",
    "        \n",
    "        out, (_, _) = self.lstm(x, (h0, c0))\n",
    "        out = self.fc(out[:, -1, :])\n",
    "        return out\n",
    "        \n"
   ]
  },
  {
   "cell_type": "code",
   "execution_count": 7,
   "metadata": {},
   "outputs": [
    {
     "data": {
      "text/plain": [
       "<All keys matched successfully>"
      ]
     },
     "execution_count": 7,
     "metadata": {},
     "output_type": "execute_result"
    }
   ],
   "source": [
    "model = LSTMModel(input_dim=hyper_params['input_size'], hidden_dim=hyper_params['hidden_size'], output_dim=hyper_params['forecast_steps'], num_layers=hyper_params['num_layers'], device='cpu').to('cpu')\n",
    "\n",
    "# Load the trained model state_dict\n",
    "model.load_state_dict(state_dict)\n"
   ]
  },
  {
   "cell_type": "markdown",
   "metadata": {},
   "source": [
    "### Get Feature view"
   ]
  },
  {
   "cell_type": "code",
   "execution_count": 8,
   "metadata": {},
   "outputs": [
    {
     "name": "stdout",
     "output_type": "stream",
     "text": [
      "2025-02-22 16:22:37,139 WARNING: VersionWarning: No version provided for getting feature view `amazon_fv`, defaulting to `1`.\n",
      "\n"
     ]
    }
   ],
   "source": [
    "amazon_fv = fs.get_feature_view(\"amazon_fv\")\n"
   ]
  },
  {
   "cell_type": "code",
   "execution_count": 9,
   "metadata": {},
   "outputs": [
    {
     "name": "stdout",
     "output_type": "stream",
     "text": [
      "Finished: Reading data from Hopsworks, using Hopsworks Feature Query Service (1.92s) \n"
     ]
    }
   ],
   "source": [
    "batch_data = amazon_fv.get_batch_data()\n",
    "\n",
    "\n",
    "# get the last 24 days of data for window_size\n",
    "sample  = batch_data.sort_values('datetime').drop('datetime', axis=1).tail(hyper_params['window_size'])"
   ]
  },
  {
   "cell_type": "code",
   "execution_count": 10,
   "metadata": {},
   "outputs": [
    {
     "data": {
      "text/html": [
       "<div>\n",
       "<style scoped>\n",
       "    .dataframe tbody tr th:only-of-type {\n",
       "        vertical-align: middle;\n",
       "    }\n",
       "\n",
       "    .dataframe tbody tr th {\n",
       "        vertical-align: top;\n",
       "    }\n",
       "\n",
       "    .dataframe thead th {\n",
       "        text-align: right;\n",
       "    }\n",
       "</style>\n",
       "<table border=\"1\" class=\"dataframe\">\n",
       "  <thead>\n",
       "    <tr style=\"text-align: right;\">\n",
       "      <th></th>\n",
       "      <th>datetime</th>\n",
       "      <th>open</th>\n",
       "      <th>high</th>\n",
       "      <th>close</th>\n",
       "      <th>low</th>\n",
       "      <th>volume</th>\n",
       "      <th>rsi</th>\n",
       "      <th>cci</th>\n",
       "    </tr>\n",
       "  </thead>\n",
       "  <tbody>\n",
       "    <tr>\n",
       "      <th>842</th>\n",
       "      <td>2025-02-21 15:30:00+00:00</td>\n",
       "      <td>219.480804</td>\n",
       "      <td>219.839996</td>\n",
       "      <td>219.264999</td>\n",
       "      <td>218.070007</td>\n",
       "      <td>6202619</td>\n",
       "      <td>26.950381</td>\n",
       "      <td>-214.759373</td>\n",
       "    </tr>\n",
       "    <tr>\n",
       "      <th>354</th>\n",
       "      <td>2025-02-21 16:30:00+00:00</td>\n",
       "      <td>219.250000</td>\n",
       "      <td>219.740005</td>\n",
       "      <td>217.630005</td>\n",
       "      <td>217.399994</td>\n",
       "      <td>4778204</td>\n",
       "      <td>23.486556</td>\n",
       "      <td>-201.945381</td>\n",
       "    </tr>\n",
       "    <tr>\n",
       "      <th>623</th>\n",
       "      <td>2025-02-21 17:30:00+00:00</td>\n",
       "      <td>217.630005</td>\n",
       "      <td>217.690598</td>\n",
       "      <td>216.049698</td>\n",
       "      <td>215.949997</td>\n",
       "      <td>7934021</td>\n",
       "      <td>20.715212</td>\n",
       "      <td>-215.456538</td>\n",
       "    </tr>\n",
       "    <tr>\n",
       "      <th>2537</th>\n",
       "      <td>2025-02-21 18:30:00+00:00</td>\n",
       "      <td>216.039993</td>\n",
       "      <td>216.500000</td>\n",
       "      <td>214.960007</td>\n",
       "      <td>214.740005</td>\n",
       "      <td>6070526</td>\n",
       "      <td>19.046318</td>\n",
       "      <td>-207.864825</td>\n",
       "    </tr>\n",
       "    <tr>\n",
       "      <th>1956</th>\n",
       "      <td>2025-02-21 19:30:00+00:00</td>\n",
       "      <td>214.970001</td>\n",
       "      <td>216.479904</td>\n",
       "      <td>216.439896</td>\n",
       "      <td>214.750107</td>\n",
       "      <td>5888288</td>\n",
       "      <td>27.579504</td>\n",
       "      <td>-155.573258</td>\n",
       "    </tr>\n",
       "    <tr>\n",
       "      <th>3223</th>\n",
       "      <td>2025-02-21 20:30:00+00:00</td>\n",
       "      <td>216.440002</td>\n",
       "      <td>216.850006</td>\n",
       "      <td>216.490005</td>\n",
       "      <td>215.630005</td>\n",
       "      <td>5715615</td>\n",
       "      <td>27.856803</td>\n",
       "      <td>-121.195865</td>\n",
       "    </tr>\n",
       "  </tbody>\n",
       "</table>\n",
       "</div>"
      ],
      "text/plain": [
       "                      datetime        open        high       close  \\\n",
       "842  2025-02-21 15:30:00+00:00  219.480804  219.839996  219.264999   \n",
       "354  2025-02-21 16:30:00+00:00  219.250000  219.740005  217.630005   \n",
       "623  2025-02-21 17:30:00+00:00  217.630005  217.690598  216.049698   \n",
       "2537 2025-02-21 18:30:00+00:00  216.039993  216.500000  214.960007   \n",
       "1956 2025-02-21 19:30:00+00:00  214.970001  216.479904  216.439896   \n",
       "3223 2025-02-21 20:30:00+00:00  216.440002  216.850006  216.490005   \n",
       "\n",
       "             low   volume        rsi         cci  \n",
       "842   218.070007  6202619  26.950381 -214.759373  \n",
       "354   217.399994  4778204  23.486556 -201.945381  \n",
       "623   215.949997  7934021  20.715212 -215.456538  \n",
       "2537  214.740005  6070526  19.046318 -207.864825  \n",
       "1956  214.750107  5888288  27.579504 -155.573258  \n",
       "3223  215.630005  5715615  27.856803 -121.195865  "
      ]
     },
     "execution_count": 10,
     "metadata": {},
     "output_type": "execute_result"
    }
   ],
   "source": [
    "import pandas as pd\n",
    "batch_data['datetime'] = pd.to_datetime(batch_data['datetime'], utc=True)\n",
    "\n",
    "batch_data = batch_data.sort_values('datetime')\n",
    "\n",
    "batch_data.tail(6)"
   ]
  },
  {
   "cell_type": "code",
   "execution_count": 11,
   "metadata": {},
   "outputs": [],
   "source": [
    "model.eval()\n",
    "with torch.inference_mode():\n",
    "    outputs = model(torch.tensor(np.array(sample)).float().unsqueeze(0).to('cpu'))"
   ]
  },
  {
   "cell_type": "code",
   "execution_count": 12,
   "metadata": {},
   "outputs": [],
   "source": [
    "outputs = outputs.reshape(-1, 1)"
   ]
  },
  {
   "cell_type": "code",
   "execution_count": 14,
   "metadata": {},
   "outputs": [
    {
     "name": "stdout",
     "output_type": "stream",
     "text": [
      "YF.download() has changed argument auto_adjust default to True\n"
     ]
    },
    {
     "name": "stderr",
     "output_type": "stream",
     "text": [
      "[*********************100%***********************]  1 of 1 completed\n"
     ]
    }
   ],
   "source": [
    "# Get the actual values for comparison\n",
    "import yfinance as yf\n",
    "\n",
    "# Get the last today data\n",
    "actual_values = pd.DataFrame(yf.download('AMZN', period='1d', interval='1h', multi_level_index=False))['Close']"
   ]
  },
  {
   "cell_type": "code",
   "execution_count": null,
   "metadata": {},
   "outputs": [],
   "source": [
    "import pandas as pd\n",
    "\n",
    "time_stamps = batch_data.tail(7)['datetime'].dt.time.values[::-1]\n",
    "\n",
    "predicted_df = pd.DataFrame(outputs, columns=[\"Predicted\"])\n",
    "predicted_df = predicted_df.set_index(time_stamps)\n",
    "predicted_df['Actual'] = actual_values.values"
   ]
  },
  {
   "cell_type": "code",
   "execution_count": 23,
   "metadata": {},
   "outputs": [],
   "source": [
    "import dataframe_image as dfi\n",
    "\n",
    "# Create the directory for assets\n",
    "os.makedirs(\"../assets\", exist_ok=True)\n",
    "\n",
    "dfi.export(predicted_df, \"../assets/actual_vs_predictions.png\", table_conversion='matplotlib')"
   ]
  },
  {
   "cell_type": "code",
   "execution_count": null,
   "metadata": {},
   "outputs": [],
   "source": []
  }
 ],
 "metadata": {
  "kernelspec": {
   "display_name": ".venv",
   "language": "python",
   "name": "python3"
  },
  "language_info": {
   "codemirror_mode": {
    "name": "ipython",
    "version": 3
   },
   "file_extension": ".py",
   "mimetype": "text/x-python",
   "name": "python",
   "nbconvert_exporter": "python",
   "pygments_lexer": "ipython3",
   "version": "3.11.9"
  }
 },
 "nbformat": 4,
 "nbformat_minor": 2
}

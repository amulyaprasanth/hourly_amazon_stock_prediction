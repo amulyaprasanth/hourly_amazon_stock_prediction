{
 "cells": [
  {
   "cell_type": "markdown",
   "id": "b56973f1-8307-4fb9-b26d-31232c89ccf2",
   "metadata": {},
   "source": [
    "# Stock Feature Pipeline\n",
    "\n",
    "This notebook is divided into following sections:\n",
    "\n",
    "1. Getting Data from API and Converting it into a Dataset\n"
   ]
  },
  {
   "cell_type": "code",
   "execution_count": 11,
   "id": "542b3969-d8cf-4cb6-adcf-837d6bdf703b",
   "metadata": {},
   "outputs": [],
   "source": [
    "# Import the required libraries and load in the environment variables\n",
    "import hopsworks\n",
    "import os\n",
    "from dotenv import load_dotenv\n",
    "\n",
    "import requests\n",
    "import numpy as np\n",
    "import pandas as pd\n",
    "from tqdm import tqdm\n",
    "import matplotlib.pyplot as plt\n",
    "\n",
    "plt.style.use('grayscale')\n",
    "\n",
    "# Load the .env file\n",
    "load_dotenv()\n",
    "\n",
    "# Get the environment variables\n",
    "tiingo_api_key = os.getenv(\"TIINGO_API_KEY\")\n",
    "hopsworks_api_key = os.getenv(\"HOPSWORKS_API_KEY\")"
   ]
  },
  {
   "cell_type": "markdown",
   "id": "ed631dbf-8085-48dc-a5cb-d7ae8c69698d",
   "metadata": {},
   "source": [
    "### Getting Data From API\n"
   ]
  },
  {
   "cell_type": "markdown",
   "id": "321572e2",
   "metadata": {},
   "source": [
    "#### Generate Dataset from API getting last year data\n"
   ]
  },
  {
   "cell_type": "code",
   "execution_count": null,
   "id": "2b31ba51",
   "metadata": {},
   "outputs": [],
   "source": [
    "\n",
    "def create_dataset_chunk(start_date: str, end_date: str, ticker=\"AMZN\", freq: str = '60min') -> pd.DataFrame:\n",
    "\n",
    "    # Format the url with start_data, end_data and freq\n",
    "    url = f\"https://api.tiingo.com/iex/{ticker}/prices?startDate={start_date}&endDate={end_date}&resampleFreq={freq}&token={tiingo_api_key}\"\n",
    "    response = requests.get(url).json()\n",
    "\n",
    "    return pd.DataFrame(response)\n",
    "\n",
    "\n",
    "# df = create_dataset_chunk(\"2024-01-01\", \"2024-02-29\")  # Test the function"
   ]
  },
  {
   "cell_type": "code",
   "execution_count": 16,
   "id": "b152400f",
   "metadata": {},
   "outputs": [],
   "source": [
    "df = create_dataset_chunk('2023', '2024')"
   ]
  },
  {
   "cell_type": "code",
   "execution_count": 17,
   "id": "e852bb0a",
   "metadata": {},
   "outputs": [
    {
     "data": {
      "text/html": [
       "<div>\n",
       "<style scoped>\n",
       "    .dataframe tbody tr th:only-of-type {\n",
       "        vertical-align: middle;\n",
       "    }\n",
       "\n",
       "    .dataframe tbody tr th {\n",
       "        vertical-align: top;\n",
       "    }\n",
       "\n",
       "    .dataframe thead th {\n",
       "        text-align: right;\n",
       "    }\n",
       "</style>\n",
       "<table border=\"1\" class=\"dataframe\">\n",
       "  <thead>\n",
       "    <tr style=\"text-align: right;\">\n",
       "      <th></th>\n",
       "      <th>date</th>\n",
       "      <th>close</th>\n",
       "      <th>high</th>\n",
       "      <th>low</th>\n",
       "      <th>open</th>\n",
       "    </tr>\n",
       "  </thead>\n",
       "  <tbody>\n",
       "    <tr>\n",
       "      <th>0</th>\n",
       "      <td>2023-02-21T15:00:00.000Z</td>\n",
       "      <td>94.515</td>\n",
       "      <td>95.23</td>\n",
       "      <td>94.355</td>\n",
       "      <td>95.090</td>\n",
       "    </tr>\n",
       "    <tr>\n",
       "      <th>1</th>\n",
       "      <td>2023-02-21T16:00:00.000Z</td>\n",
       "      <td>94.410</td>\n",
       "      <td>94.74</td>\n",
       "      <td>94.370</td>\n",
       "      <td>94.515</td>\n",
       "    </tr>\n",
       "    <tr>\n",
       "      <th>2</th>\n",
       "      <td>2023-02-21T17:00:00.000Z</td>\n",
       "      <td>94.590</td>\n",
       "      <td>94.75</td>\n",
       "      <td>94.280</td>\n",
       "      <td>94.420</td>\n",
       "    </tr>\n",
       "    <tr>\n",
       "      <th>3</th>\n",
       "      <td>2023-02-21T18:00:00.000Z</td>\n",
       "      <td>94.525</td>\n",
       "      <td>94.63</td>\n",
       "      <td>94.365</td>\n",
       "      <td>94.590</td>\n",
       "    </tr>\n",
       "    <tr>\n",
       "      <th>4</th>\n",
       "      <td>2023-02-21T19:00:00.000Z</td>\n",
       "      <td>94.865</td>\n",
       "      <td>94.94</td>\n",
       "      <td>94.295</td>\n",
       "      <td>94.535</td>\n",
       "    </tr>\n",
       "  </tbody>\n",
       "</table>\n",
       "</div>"
      ],
      "text/plain": [
       "                       date   close   high     low    open\n",
       "0  2023-02-21T15:00:00.000Z  94.515  95.23  94.355  95.090\n",
       "1  2023-02-21T16:00:00.000Z  94.410  94.74  94.370  94.515\n",
       "2  2023-02-21T17:00:00.000Z  94.590  94.75  94.280  94.420\n",
       "3  2023-02-21T18:00:00.000Z  94.525  94.63  94.365  94.590\n",
       "4  2023-02-21T19:00:00.000Z  94.865  94.94  94.295  94.535"
      ]
     },
     "execution_count": 17,
     "metadata": {},
     "output_type": "execute_result"
    }
   ],
   "source": [
    "df.head()"
   ]
  },
  {
   "cell_type": "code",
   "execution_count": 18,
   "id": "3766de53",
   "metadata": {},
   "outputs": [
    {
     "data": {
      "text/html": [
       "<div>\n",
       "<style scoped>\n",
       "    .dataframe tbody tr th:only-of-type {\n",
       "        vertical-align: middle;\n",
       "    }\n",
       "\n",
       "    .dataframe tbody tr th {\n",
       "        vertical-align: top;\n",
       "    }\n",
       "\n",
       "    .dataframe thead th {\n",
       "        text-align: right;\n",
       "    }\n",
       "</style>\n",
       "<table border=\"1\" class=\"dataframe\">\n",
       "  <thead>\n",
       "    <tr style=\"text-align: right;\">\n",
       "      <th></th>\n",
       "      <th>date</th>\n",
       "      <th>close</th>\n",
       "      <th>high</th>\n",
       "      <th>low</th>\n",
       "      <th>open</th>\n",
       "    </tr>\n",
       "  </thead>\n",
       "  <tbody>\n",
       "    <tr>\n",
       "      <th>1549</th>\n",
       "      <td>2024-02-16T16:00:00.000Z</td>\n",
       "      <td>170.000</td>\n",
       "      <td>170.415</td>\n",
       "      <td>168.930</td>\n",
       "      <td>169.030</td>\n",
       "    </tr>\n",
       "    <tr>\n",
       "      <th>1550</th>\n",
       "      <td>2024-02-16T17:00:00.000Z</td>\n",
       "      <td>169.675</td>\n",
       "      <td>170.125</td>\n",
       "      <td>169.405</td>\n",
       "      <td>169.995</td>\n",
       "    </tr>\n",
       "    <tr>\n",
       "      <th>1551</th>\n",
       "      <td>2024-02-16T18:00:00.000Z</td>\n",
       "      <td>170.145</td>\n",
       "      <td>170.160</td>\n",
       "      <td>169.420</td>\n",
       "      <td>169.670</td>\n",
       "    </tr>\n",
       "    <tr>\n",
       "      <th>1552</th>\n",
       "      <td>2024-02-16T19:00:00.000Z</td>\n",
       "      <td>169.400</td>\n",
       "      <td>170.400</td>\n",
       "      <td>169.160</td>\n",
       "      <td>170.145</td>\n",
       "    </tr>\n",
       "    <tr>\n",
       "      <th>1553</th>\n",
       "      <td>2024-02-16T20:00:00.000Z</td>\n",
       "      <td>169.490</td>\n",
       "      <td>170.035</td>\n",
       "      <td>169.230</td>\n",
       "      <td>169.415</td>\n",
       "    </tr>\n",
       "  </tbody>\n",
       "</table>\n",
       "</div>"
      ],
      "text/plain": [
       "                          date    close     high      low     open\n",
       "1549  2024-02-16T16:00:00.000Z  170.000  170.415  168.930  169.030\n",
       "1550  2024-02-16T17:00:00.000Z  169.675  170.125  169.405  169.995\n",
       "1551  2024-02-16T18:00:00.000Z  170.145  170.160  169.420  169.670\n",
       "1552  2024-02-16T19:00:00.000Z  169.400  170.400  169.160  170.145\n",
       "1553  2024-02-16T20:00:00.000Z  169.490  170.035  169.230  169.415"
      ]
     },
     "execution_count": 18,
     "metadata": {},
     "output_type": "execute_result"
    }
   ],
   "source": [
    "df.tail()"
   ]
  },
  {
   "cell_type": "markdown",
   "id": "635761fd",
   "metadata": {},
   "source": [
    "The API limits data retrieval to a maximum of 2 months at a time. Therefore, data must be fetched in 2-month intervals and then merged into a single dataset.\n"
   ]
  },
  {
   "cell_type": "code",
   "execution_count": null,
   "id": "8d9fe306",
   "metadata": {},
   "outputs": [
    {
     "name": "stdout",
     "output_type": "stream",
     "text": [
      "2020 2021\n",
      "2021 2022\n",
      "2022 2023\n",
      "2023 2024\n"
     ]
    }
   ],
   "source": [
    "years = [2019, 2020, 2021, 2022, 2023, 2024]\n",
    "\n",
    "for i in range(len(years) - 1):\n",
    "    print(years[i], years[i + 1])"
   ]
  },
  {
   "cell_type": "code",
   "execution_count": 28,
   "id": "dcb13241",
   "metadata": {},
   "outputs": [],
   "source": [
    "\n",
    "def create_supervised_dataset(years: list, ticker: str = \"AMZN\", freq: str = '60min') -> pd.DataFrame:\n",
    "    \"\"\"\n",
    "    Generates a supervised dataset from DataFrame chunks based on the provided date ranges.\n",
    "\n",
    "    Args:\n",
    "        dates (dict): A dictionary where keys are start dates and values are end dates.\n",
    "        ticker (str): The stock ticker symbol. Default is \"AMZN\".\n",
    "        freq (str): The frequency of the data. Default is '60min'.\n",
    "\n",
    "    Returns:\n",
    "        pd.DataFrame: A DataFrame containing the concatenated data for all date ranges.\n",
    "    \"\"\"\n",
    "    # Initialize an empty DataFrame to store the concatenated data\n",
    "    data = pd.DataFrame()\n",
    "\n",
    "    # Iterate over each date range in the dates dictionary\n",
    "    for i in tqdm(range(len(years) - 1)):\n",
    "        # Create a DataFrame chunk for the given date range, ticker, and frequency\n",
    "        df = create_dataset_chunk(\n",
    "            start_date=f\"{years[i]}-01-01\", end_date=f\"{years[i+1]}-12-31\")\n",
    "\n",
    "        # Concatenate the new chunk with the existing data\n",
    "        data = pd.concat([data, df])\n",
    "\n",
    "        # Get the current year stock market data\n",
    "    data = pd.concat([data, create_dataset_chunk('2025-01-01', '2025-02-18')])\n",
    "\n",
    "    # Change the date column to datetime format\n",
    "    data['date'] = data['date'].map(lambda x: x.split('.')[0])\n",
    "    data['date'] = pd.to_datetime(data['date'])\n",
    "\n",
    "    # Set the index as the date column\n",
    "    data = data.set_index(\"date\")\n",
    "    # Return the concatenated DataFrame\n",
    "    return data.sort_index()"
   ]
  },
  {
   "cell_type": "code",
   "execution_count": 29,
   "id": "61e9e4b4",
   "metadata": {},
   "outputs": [
    {
     "name": "stderr",
     "output_type": "stream",
     "text": [
      "100%|██████████| 4/4 [00:59<00:00, 14.95s/it]\n"
     ]
    },
    {
     "name": "stdout",
     "output_type": "stream",
     "text": [
      "                        close      high       low      open\n",
      "date                                                       \n",
      "2020-01-02 15:00:00  1870.510  1875.210  1864.690  1873.875\n",
      "2020-01-02 16:00:00  1872.455  1873.660  1866.455  1870.605\n",
      "2020-01-02 17:00:00  1877.330  1878.680  1870.345  1872.455\n",
      "2020-01-02 18:00:00  1880.690  1881.205  1876.055  1877.110\n",
      "2020-01-02 19:00:00  1895.210  1897.070  1880.690  1880.690\n"
     ]
    }
   ],
   "source": [
    "# Call the function\n",
    "data = create_supervised_dataset(years)\n",
    "\n",
    "print(data.head())"
   ]
  },
  {
   "cell_type": "code",
   "execution_count": 32,
   "id": "5fd3d2f3",
   "metadata": {},
   "outputs": [
    {
     "data": {
      "text/html": [
       "<div>\n",
       "<style scoped>\n",
       "    .dataframe tbody tr th:only-of-type {\n",
       "        vertical-align: middle;\n",
       "    }\n",
       "\n",
       "    .dataframe tbody tr th {\n",
       "        vertical-align: top;\n",
       "    }\n",
       "\n",
       "    .dataframe thead th {\n",
       "        text-align: right;\n",
       "    }\n",
       "</style>\n",
       "<table border=\"1\" class=\"dataframe\">\n",
       "  <thead>\n",
       "    <tr style=\"text-align: right;\">\n",
       "      <th></th>\n",
       "      <th>close</th>\n",
       "      <th>high</th>\n",
       "      <th>low</th>\n",
       "      <th>open</th>\n",
       "    </tr>\n",
       "    <tr>\n",
       "      <th>date</th>\n",
       "      <th></th>\n",
       "      <th></th>\n",
       "      <th></th>\n",
       "      <th></th>\n",
       "    </tr>\n",
       "  </thead>\n",
       "  <tbody>\n",
       "    <tr>\n",
       "      <th>2020-01-02 15:00:00</th>\n",
       "      <td>1870.510</td>\n",
       "      <td>1875.210</td>\n",
       "      <td>1864.690</td>\n",
       "      <td>1873.875</td>\n",
       "    </tr>\n",
       "    <tr>\n",
       "      <th>2020-01-02 16:00:00</th>\n",
       "      <td>1872.455</td>\n",
       "      <td>1873.660</td>\n",
       "      <td>1866.455</td>\n",
       "      <td>1870.605</td>\n",
       "    </tr>\n",
       "    <tr>\n",
       "      <th>2020-01-02 17:00:00</th>\n",
       "      <td>1877.330</td>\n",
       "      <td>1878.680</td>\n",
       "      <td>1870.345</td>\n",
       "      <td>1872.455</td>\n",
       "    </tr>\n",
       "    <tr>\n",
       "      <th>2020-01-02 18:00:00</th>\n",
       "      <td>1880.690</td>\n",
       "      <td>1881.205</td>\n",
       "      <td>1876.055</td>\n",
       "      <td>1877.110</td>\n",
       "    </tr>\n",
       "    <tr>\n",
       "      <th>2020-01-02 19:00:00</th>\n",
       "      <td>1895.210</td>\n",
       "      <td>1897.070</td>\n",
       "      <td>1880.690</td>\n",
       "      <td>1880.690</td>\n",
       "    </tr>\n",
       "  </tbody>\n",
       "</table>\n",
       "</div>"
      ],
      "text/plain": [
       "                        close      high       low      open\n",
       "date                                                       \n",
       "2020-01-02 15:00:00  1870.510  1875.210  1864.690  1873.875\n",
       "2020-01-02 16:00:00  1872.455  1873.660  1866.455  1870.605\n",
       "2020-01-02 17:00:00  1877.330  1878.680  1870.345  1872.455\n",
       "2020-01-02 18:00:00  1880.690  1881.205  1876.055  1877.110\n",
       "2020-01-02 19:00:00  1895.210  1897.070  1880.690  1880.690"
      ]
     },
     "execution_count": 32,
     "metadata": {},
     "output_type": "execute_result"
    }
   ],
   "source": [
    "data.head()"
   ]
  },
  {
   "cell_type": "code",
   "execution_count": 33,
   "id": "2f7ffab0",
   "metadata": {},
   "outputs": [
    {
     "data": {
      "text/html": [
       "<div>\n",
       "<style scoped>\n",
       "    .dataframe tbody tr th:only-of-type {\n",
       "        vertical-align: middle;\n",
       "    }\n",
       "\n",
       "    .dataframe tbody tr th {\n",
       "        vertical-align: top;\n",
       "    }\n",
       "\n",
       "    .dataframe thead th {\n",
       "        text-align: right;\n",
       "    }\n",
       "</style>\n",
       "<table border=\"1\" class=\"dataframe\">\n",
       "  <thead>\n",
       "    <tr style=\"text-align: right;\">\n",
       "      <th></th>\n",
       "      <th>close</th>\n",
       "      <th>high</th>\n",
       "      <th>low</th>\n",
       "      <th>open</th>\n",
       "    </tr>\n",
       "    <tr>\n",
       "      <th>date</th>\n",
       "      <th></th>\n",
       "      <th></th>\n",
       "      <th></th>\n",
       "      <th></th>\n",
       "    </tr>\n",
       "  </thead>\n",
       "  <tbody>\n",
       "    <tr>\n",
       "      <th>2025-02-18 16:00:00</th>\n",
       "      <td>224.360</td>\n",
       "      <td>225.605</td>\n",
       "      <td>224.245</td>\n",
       "      <td>225.550</td>\n",
       "    </tr>\n",
       "    <tr>\n",
       "      <th>2025-02-18 17:00:00</th>\n",
       "      <td>225.020</td>\n",
       "      <td>225.050</td>\n",
       "      <td>223.840</td>\n",
       "      <td>224.360</td>\n",
       "    </tr>\n",
       "    <tr>\n",
       "      <th>2025-02-18 18:00:00</th>\n",
       "      <td>224.275</td>\n",
       "      <td>225.245</td>\n",
       "      <td>223.740</td>\n",
       "      <td>225.025</td>\n",
       "    </tr>\n",
       "    <tr>\n",
       "      <th>2025-02-18 19:00:00</th>\n",
       "      <td>224.510</td>\n",
       "      <td>224.690</td>\n",
       "      <td>223.750</td>\n",
       "      <td>224.275</td>\n",
       "    </tr>\n",
       "    <tr>\n",
       "      <th>2025-02-18 20:00:00</th>\n",
       "      <td>226.640</td>\n",
       "      <td>226.640</td>\n",
       "      <td>224.270</td>\n",
       "      <td>224.515</td>\n",
       "    </tr>\n",
       "  </tbody>\n",
       "</table>\n",
       "</div>"
      ],
      "text/plain": [
       "                       close     high      low     open\n",
       "date                                                   \n",
       "2025-02-18 16:00:00  224.360  225.605  224.245  225.550\n",
       "2025-02-18 17:00:00  225.020  225.050  223.840  224.360\n",
       "2025-02-18 18:00:00  224.275  225.245  223.740  225.025\n",
       "2025-02-18 19:00:00  224.510  224.690  223.750  224.275\n",
       "2025-02-18 20:00:00  226.640  226.640  224.270  224.515"
      ]
     },
     "execution_count": 33,
     "metadata": {},
     "output_type": "execute_result"
    }
   ],
   "source": [
    "data.tail()"
   ]
  },
  {
   "cell_type": "code",
   "execution_count": 34,
   "id": "b1a818dc",
   "metadata": {},
   "outputs": [
    {
     "data": {
      "image/png": "[encoded data removed]",
      "text/plain": [
       "<Figure size 1000x700 with 1 Axes>"
      ]
     },
     "metadata": {},
     "output_type": "display_data"
    }
   ],
   "source": [
    "\n",
    "plt.figure(figsize=(10, 7))\n",
    "plt.plot(data.index, data[\"close\"])\n",
    "plt.show()"
   ]
  },
  {
   "cell_type": "markdown",
   "id": "4d160716",
   "metadata": {},
   "source": [
    "### Generate\n"
   ]
  },
  {
   "cell_type": "code",
   "execution_count": null,
   "id": "67db6ab8",
   "metadata": {},
   "outputs": [],
   "source": []
  }
 ],
 "metadata": {
  "kernelspec": {
   "display_name": ".venv",
   "language": "python",
   "name": "python3"
  },
  "language_info": {
   "codemirror_mode": {
    "name": "ipython",
    "version": 3
   },
   "file_extension": ".py",
   "mimetype": "text/x-python",
   "name": "python",
   "nbconvert_exporter": "python",
   "pygments_lexer": "ipython3",
   "version": "3.11.9"
  }
 },
 "nbformat": 4,
 "nbformat_minor": 5
}

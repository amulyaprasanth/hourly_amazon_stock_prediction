{
 "cells": [
  {
   "cell_type": "code",
   "execution_count": 1,
   "metadata": {},
   "outputs": [],
   "source": [
    "import hopsworks\n",
    "import os\n",
    "from dotenv import load_dotenv\n",
    "\n",
    "import requests\n",
    "from datetime import datetime, timedelta\n",
    "import numpy as np\n",
    "import pandas as pd\n",
    "from tqdm import tqdm\n",
    "import matplotlib.pyplot as plt\n",
    "from ta.momentum import RSIIndicator\n",
    "from ta.trend import CCIIndicator\n",
    "\n",
    "plt.style.use('grayscale')\n",
    "\n",
    "# Load the .env file\n",
    "load_dotenv()\n",
    "\n",
    "# Get the environment variables\n",
    "tiingo_api_key = os.getenv(\"TIINGO_API_KEY\")\n",
    "hopsworks_api_key = os.getenv(\"HOPSWORKS_API_KEY\")\n"
   ]
  },
  {
   "cell_type": "code",
   "execution_count": 5,
   "metadata": {},
   "outputs": [
    {
     "data": {
      "text/html": [
       "<div>\n",
       "<style scoped>\n",
       "    .dataframe tbody tr th:only-of-type {\n",
       "        vertical-align: middle;\n",
       "    }\n",
       "\n",
       "    .dataframe tbody tr th {\n",
       "        vertical-align: top;\n",
       "    }\n",
       "\n",
       "    .dataframe thead th {\n",
       "        text-align: right;\n",
       "    }\n",
       "</style>\n",
       "<table border=\"1\" class=\"dataframe\">\n",
       "  <thead>\n",
       "    <tr style=\"text-align: right;\">\n",
       "      <th></th>\n",
       "      <th>date</th>\n",
       "      <th>close</th>\n",
       "      <th>high</th>\n",
       "      <th>low</th>\n",
       "      <th>open</th>\n",
       "    </tr>\n",
       "  </thead>\n",
       "  <tbody>\n",
       "    <tr>\n",
       "      <th>0</th>\n",
       "      <td>2025-02-19T15:00:00.000Z</td>\n",
       "      <td>224.405</td>\n",
       "      <td>225.005</td>\n",
       "      <td>223.720</td>\n",
       "      <td>224.935</td>\n",
       "    </tr>\n",
       "    <tr>\n",
       "      <th>1</th>\n",
       "      <td>2025-02-19T16:00:00.000Z</td>\n",
       "      <td>224.965</td>\n",
       "      <td>225.000</td>\n",
       "      <td>224.220</td>\n",
       "      <td>224.410</td>\n",
       "    </tr>\n",
       "    <tr>\n",
       "      <th>2</th>\n",
       "      <td>2025-02-19T17:00:00.000Z</td>\n",
       "      <td>224.440</td>\n",
       "      <td>225.330</td>\n",
       "      <td>224.290</td>\n",
       "      <td>224.960</td>\n",
       "    </tr>\n",
       "    <tr>\n",
       "      <th>3</th>\n",
       "      <td>2025-02-19T18:00:00.000Z</td>\n",
       "      <td>224.800</td>\n",
       "      <td>225.085</td>\n",
       "      <td>224.005</td>\n",
       "      <td>224.445</td>\n",
       "    </tr>\n",
       "    <tr>\n",
       "      <th>4</th>\n",
       "      <td>2025-02-19T19:00:00.000Z</td>\n",
       "      <td>226.205</td>\n",
       "      <td>226.240</td>\n",
       "      <td>224.735</td>\n",
       "      <td>224.830</td>\n",
       "    </tr>\n",
       "    <tr>\n",
       "      <th>5</th>\n",
       "      <td>2025-02-19T20:00:00.000Z</td>\n",
       "      <td>226.650</td>\n",
       "      <td>226.830</td>\n",
       "      <td>225.850</td>\n",
       "      <td>226.205</td>\n",
       "    </tr>\n",
       "  </tbody>\n",
       "</table>\n",
       "</div>"
      ],
      "text/plain": [
       "                       date    close     high      low     open\n",
       "0  2025-02-19T15:00:00.000Z  224.405  225.005  223.720  224.935\n",
       "1  2025-02-19T16:00:00.000Z  224.965  225.000  224.220  224.410\n",
       "2  2025-02-19T17:00:00.000Z  224.440  225.330  224.290  224.960\n",
       "3  2025-02-19T18:00:00.000Z  224.800  225.085  224.005  224.445\n",
       "4  2025-02-19T19:00:00.000Z  226.205  226.240  224.735  224.830\n",
       "5  2025-02-19T20:00:00.000Z  226.650  226.830  225.850  226.205"
      ]
     },
     "execution_count": 5,
     "metadata": {},
     "output_type": "execute_result"
    }
   ],
   "source": [
    "url = f\"https://api.tiingo.com/iex/AMZN/prices?startDate=2025-02-19&resampleFreq=60min&token={tiingo_api_key}\"\n",
    "response = requests.get(url).json()\n",
    "pd.DataFrame(response)"
   ]
  },
  {
   "cell_type": "code",
   "execution_count": 23,
   "metadata": {},
   "outputs": [],
   "source": [
    "def fetch_yesterdays_stock_data(ticker: str = \"AMZN\", freq: str = \"60min\", token: str | None = tiingo_api_key) -> pd.DataFrame:\n",
    "    \"\"\"\n",
    "    Fetches stock data for a single ticker from the Tiingo API.\n",
    "\n",
    "    Args:\n",
    "        ticker (str): The stock ticker symbol. Default is \"AMZN\".\n",
    "        freq (str): The frequency of the data. Default is \"60min\".\n",
    "        token (str): The API token for authentication.\n",
    "\n",
    "    Returns:\n",
    "        pd.DataFrame: A DataFrame containing the stock data.\n",
    "    \"\"\"\n",
    "    date = (datetime.now() - timedelta(1)).strftime(\"%Y-%m-%d\")\n",
    "\t# Format the url with start_data, end_data and freq\n",
    "    url = f\"https://api.tiingo.com/iex/AMZN/prices?startDate={date}&resampleFreq={freq}&token={token}\"\n",
    "    response = requests.get(url).json()\n",
    "    \n",
    "\t# Create DataFrame\n",
    "    data = pd.DataFrame(response)\n",
    "    \n",
    "\t# Remove the zone in date\n",
    "    data['date'] = data['date'].map(lambda x: x.split('.')[0])\n",
    "    data['date'] = pd.to_datetime(data['date'])\n",
    "    data['id'] = data['date'].astype('str')\n",
    "    return data"
   ]
  },
  {
   "cell_type": "code",
   "execution_count": 24,
   "metadata": {},
   "outputs": [
    {
     "data": {
      "text/html": [
       "<div>\n",
       "<style scoped>\n",
       "    .dataframe tbody tr th:only-of-type {\n",
       "        vertical-align: middle;\n",
       "    }\n",
       "\n",
       "    .dataframe tbody tr th {\n",
       "        vertical-align: top;\n",
       "    }\n",
       "\n",
       "    .dataframe thead th {\n",
       "        text-align: right;\n",
       "    }\n",
       "</style>\n",
       "<table border=\"1\" class=\"dataframe\">\n",
       "  <thead>\n",
       "    <tr style=\"text-align: right;\">\n",
       "      <th></th>\n",
       "      <th>date</th>\n",
       "      <th>close</th>\n",
       "      <th>high</th>\n",
       "      <th>low</th>\n",
       "      <th>open</th>\n",
       "      <th>id</th>\n",
       "    </tr>\n",
       "  </thead>\n",
       "  <tbody>\n",
       "    <tr>\n",
       "      <th>0</th>\n",
       "      <td>2025-02-19 15:00:00</td>\n",
       "      <td>224.405</td>\n",
       "      <td>225.005</td>\n",
       "      <td>223.720</td>\n",
       "      <td>224.935</td>\n",
       "      <td>2025-02-19 15:00:00</td>\n",
       "    </tr>\n",
       "    <tr>\n",
       "      <th>1</th>\n",
       "      <td>2025-02-19 16:00:00</td>\n",
       "      <td>224.965</td>\n",
       "      <td>225.000</td>\n",
       "      <td>224.220</td>\n",
       "      <td>224.410</td>\n",
       "      <td>2025-02-19 16:00:00</td>\n",
       "    </tr>\n",
       "    <tr>\n",
       "      <th>2</th>\n",
       "      <td>2025-02-19 17:00:00</td>\n",
       "      <td>224.440</td>\n",
       "      <td>225.330</td>\n",
       "      <td>224.290</td>\n",
       "      <td>224.960</td>\n",
       "      <td>2025-02-19 17:00:00</td>\n",
       "    </tr>\n",
       "    <tr>\n",
       "      <th>3</th>\n",
       "      <td>2025-02-19 18:00:00</td>\n",
       "      <td>224.800</td>\n",
       "      <td>225.085</td>\n",
       "      <td>224.005</td>\n",
       "      <td>224.445</td>\n",
       "      <td>2025-02-19 18:00:00</td>\n",
       "    </tr>\n",
       "    <tr>\n",
       "      <th>4</th>\n",
       "      <td>2025-02-19 19:00:00</td>\n",
       "      <td>226.205</td>\n",
       "      <td>226.240</td>\n",
       "      <td>224.735</td>\n",
       "      <td>224.830</td>\n",
       "      <td>2025-02-19 19:00:00</td>\n",
       "    </tr>\n",
       "    <tr>\n",
       "      <th>5</th>\n",
       "      <td>2025-02-19 20:00:00</td>\n",
       "      <td>226.650</td>\n",
       "      <td>226.830</td>\n",
       "      <td>225.850</td>\n",
       "      <td>226.205</td>\n",
       "      <td>2025-02-19 20:00:00</td>\n",
       "    </tr>\n",
       "  </tbody>\n",
       "</table>\n",
       "</div>"
      ],
      "text/plain": [
       "                 date    close     high      low     open                   id\n",
       "0 2025-02-19 15:00:00  224.405  225.005  223.720  224.935  2025-02-19 15:00:00\n",
       "1 2025-02-19 16:00:00  224.965  225.000  224.220  224.410  2025-02-19 16:00:00\n",
       "2 2025-02-19 17:00:00  224.440  225.330  224.290  224.960  2025-02-19 17:00:00\n",
       "3 2025-02-19 18:00:00  224.800  225.085  224.005  224.445  2025-02-19 18:00:00\n",
       "4 2025-02-19 19:00:00  226.205  226.240  224.735  224.830  2025-02-19 19:00:00\n",
       "5 2025-02-19 20:00:00  226.650  226.830  225.850  226.205  2025-02-19 20:00:00"
      ]
     },
     "execution_count": 24,
     "metadata": {},
     "output_type": "execute_result"
    }
   ],
   "source": [
    "sample = fetch_yesterdays_stock_data(tiingo_api_key)\n",
    "sample"
   ]
  },
  {
   "cell_type": "markdown",
   "metadata": {},
   "source": [
    "### Login to Hopsworks"
   ]
  },
  {
   "cell_type": "code",
   "execution_count": 25,
   "metadata": {},
   "outputs": [
    {
     "name": "stdout",
     "output_type": "stream",
     "text": [
      "2025-02-20 17:44:57,762 INFO: Initializing external client\n",
      "2025-02-20 17:44:57,762 INFO: Base URL: https://c.app.hopsworks.ai:443\n",
      "2025-02-20 17:45:01,693 INFO: Python Engine initialized.\n",
      "\n",
      "Logged in to project, explore it here https://c.app.hopsworks.ai:443/p/1212597\n"
     ]
    }
   ],
   "source": [
    "project = hopsworks.login(api_key_value=str(hopsworks_api_key))\n",
    "\n",
    "fs = project.get_feature_store()\n",
    "\n",
    "# Get featuer group\n",
    "amazon_fg = fs.get_feature_group(\"amazon_stock_prices\", version=1)"
   ]
  },
  {
   "cell_type": "code",
   "execution_count": 26,
   "metadata": {},
   "outputs": [
    {
     "name": "stderr",
     "output_type": "stream",
     "text": [
      "Uploading Dataframe: 100.00% |██████████| Rows 6/6 | Elapsed Time: 00:03 | Remaining Time: 00:00\n"
     ]
    },
    {
     "name": "stdout",
     "output_type": "stream",
     "text": [
      "Launching job: amazon_stock_prices_1_offline_fg_materialization\n",
      "Job started successfully, you can follow the progress at \n",
      "https://c.app.hopsworks.ai:443/p/1212597/jobs/named/amazon_stock_prices_1_offline_fg_materialization/executions\n"
     ]
    },
    {
     "data": {
      "text/plain": [
       "(Job('amazon_stock_prices_1_offline_fg_materialization', 'SPARK'), None)"
      ]
     },
     "execution_count": 26,
     "metadata": {},
     "output_type": "execute_result"
    }
   ],
   "source": [
    "# Insert the data sample to feature group\n",
    "amazon_fg.insert(sample)"
   ]
  },
  {
   "cell_type": "code",
   "execution_count": null,
   "metadata": {},
   "outputs": [],
   "source": []
  }
 ],
 "metadata": {
  "kernelspec": {
   "display_name": ".venv",
   "language": "python",
   "name": "python3"
  },
  "language_info": {
   "codemirror_mode": {
    "name": "ipython",
    "version": 3
   },
   "file_extension": ".py",
   "mimetype": "text/x-python",
   "name": "python",
   "nbconvert_exporter": "python",
   "pygments_lexer": "ipython3",
   "version": "3.11.9"
  }
 },
 "nbformat": 4,
 "nbformat_minor": 2
}
